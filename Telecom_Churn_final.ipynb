{
 "cells": [
  {
   "cell_type": "code",
   "execution_count": 1,
   "metadata": {
    "id": "TgLQttETd-e1"
   },
   "outputs": [],
   "source": [
    "import numpy as np\n",
    "import warnings\n",
    "import pandas as pd\n",
    "import seaborn as sns\n",
    "import matplotlib.pyplot as plt\n",
    "warnings.filterwarnings(\"ignore\")"
   ]
  },
  {
   "cell_type": "code",
   "execution_count": 2,
   "metadata": {
    "id": "izZsYK0dd-fa"
   },
   "outputs": [],
   "source": [
    "pd.options.display.max_rows = 999\n",
    "pd.options.display.max_columns = 999\n",
    "pd.options.display.max_colwidth = -1"
   ]
  },
  {
   "cell_type": "code",
   "execution_count": 3,
   "metadata": {
    "id": "21pF2Xttd-fc"
   },
   "outputs": [],
   "source": [
    "data = pd.read_csv(\"telecom_churn_data.csv\")"
   ]
  },
  {
   "cell_type": "code",
   "execution_count": 4,
   "metadata": {
    "colab": {
     "base_uri": "https://localhost:8080/",
     "height": 226
    },
    "id": "Q4uu9bEzd-fe",
    "outputId": "4fcb48f3-a12d-4da9-8b2d-b639f8954288"
   },
   "outputs": [
    {
     "data": {
      "text/html": [
       "<div>\n",
       "<style scoped>\n",
       "    .dataframe tbody tr th:only-of-type {\n",
       "        vertical-align: middle;\n",
       "    }\n",
       "\n",
       "    .dataframe tbody tr th {\n",
       "        vertical-align: top;\n",
       "    }\n",
       "\n",
       "    .dataframe thead th {\n",
       "        text-align: right;\n",
       "    }\n",
       "</style>\n",
       "<table border=\"1\" class=\"dataframe\">\n",
       "  <thead>\n",
       "    <tr style=\"text-align: right;\">\n",
       "      <th></th>\n",
       "      <th>mobile_number</th>\n",
       "      <th>circle_id</th>\n",
       "      <th>loc_og_t2o_mou</th>\n",
       "      <th>std_og_t2o_mou</th>\n",
       "      <th>loc_ic_t2o_mou</th>\n",
       "      <th>last_date_of_month_6</th>\n",
       "      <th>last_date_of_month_7</th>\n",
       "      <th>last_date_of_month_8</th>\n",
       "      <th>last_date_of_month_9</th>\n",
       "      <th>arpu_6</th>\n",
       "      <th>arpu_7</th>\n",
       "      <th>arpu_8</th>\n",
       "      <th>arpu_9</th>\n",
       "      <th>onnet_mou_6</th>\n",
       "      <th>onnet_mou_7</th>\n",
       "      <th>onnet_mou_8</th>\n",
       "      <th>onnet_mou_9</th>\n",
       "      <th>offnet_mou_6</th>\n",
       "      <th>offnet_mou_7</th>\n",
       "      <th>offnet_mou_8</th>\n",
       "      <th>offnet_mou_9</th>\n",
       "      <th>roam_ic_mou_6</th>\n",
       "      <th>roam_ic_mou_7</th>\n",
       "      <th>roam_ic_mou_8</th>\n",
       "      <th>roam_ic_mou_9</th>\n",
       "      <th>roam_og_mou_6</th>\n",
       "      <th>roam_og_mou_7</th>\n",
       "      <th>roam_og_mou_8</th>\n",
       "      <th>roam_og_mou_9</th>\n",
       "      <th>loc_og_t2t_mou_6</th>\n",
       "      <th>loc_og_t2t_mou_7</th>\n",
       "      <th>loc_og_t2t_mou_8</th>\n",
       "      <th>loc_og_t2t_mou_9</th>\n",
       "      <th>loc_og_t2m_mou_6</th>\n",
       "      <th>loc_og_t2m_mou_7</th>\n",
       "      <th>loc_og_t2m_mou_8</th>\n",
       "      <th>loc_og_t2m_mou_9</th>\n",
       "      <th>loc_og_t2f_mou_6</th>\n",
       "      <th>loc_og_t2f_mou_7</th>\n",
       "      <th>loc_og_t2f_mou_8</th>\n",
       "      <th>loc_og_t2f_mou_9</th>\n",
       "      <th>loc_og_t2c_mou_6</th>\n",
       "      <th>loc_og_t2c_mou_7</th>\n",
       "      <th>loc_og_t2c_mou_8</th>\n",
       "      <th>loc_og_t2c_mou_9</th>\n",
       "      <th>loc_og_mou_6</th>\n",
       "      <th>loc_og_mou_7</th>\n",
       "      <th>loc_og_mou_8</th>\n",
       "      <th>loc_og_mou_9</th>\n",
       "      <th>std_og_t2t_mou_6</th>\n",
       "      <th>std_og_t2t_mou_7</th>\n",
       "      <th>std_og_t2t_mou_8</th>\n",
       "      <th>std_og_t2t_mou_9</th>\n",
       "      <th>std_og_t2m_mou_6</th>\n",
       "      <th>std_og_t2m_mou_7</th>\n",
       "      <th>std_og_t2m_mou_8</th>\n",
       "      <th>std_og_t2m_mou_9</th>\n",
       "      <th>std_og_t2f_mou_6</th>\n",
       "      <th>std_og_t2f_mou_7</th>\n",
       "      <th>std_og_t2f_mou_8</th>\n",
       "      <th>std_og_t2f_mou_9</th>\n",
       "      <th>std_og_t2c_mou_6</th>\n",
       "      <th>std_og_t2c_mou_7</th>\n",
       "      <th>std_og_t2c_mou_8</th>\n",
       "      <th>std_og_t2c_mou_9</th>\n",
       "      <th>std_og_mou_6</th>\n",
       "      <th>std_og_mou_7</th>\n",
       "      <th>std_og_mou_8</th>\n",
       "      <th>std_og_mou_9</th>\n",
       "      <th>isd_og_mou_6</th>\n",
       "      <th>isd_og_mou_7</th>\n",
       "      <th>isd_og_mou_8</th>\n",
       "      <th>isd_og_mou_9</th>\n",
       "      <th>spl_og_mou_6</th>\n",
       "      <th>spl_og_mou_7</th>\n",
       "      <th>spl_og_mou_8</th>\n",
       "      <th>spl_og_mou_9</th>\n",
       "      <th>og_others_6</th>\n",
       "      <th>og_others_7</th>\n",
       "      <th>og_others_8</th>\n",
       "      <th>og_others_9</th>\n",
       "      <th>total_og_mou_6</th>\n",
       "      <th>total_og_mou_7</th>\n",
       "      <th>total_og_mou_8</th>\n",
       "      <th>total_og_mou_9</th>\n",
       "      <th>loc_ic_t2t_mou_6</th>\n",
       "      <th>loc_ic_t2t_mou_7</th>\n",
       "      <th>loc_ic_t2t_mou_8</th>\n",
       "      <th>loc_ic_t2t_mou_9</th>\n",
       "      <th>loc_ic_t2m_mou_6</th>\n",
       "      <th>loc_ic_t2m_mou_7</th>\n",
       "      <th>loc_ic_t2m_mou_8</th>\n",
       "      <th>loc_ic_t2m_mou_9</th>\n",
       "      <th>loc_ic_t2f_mou_6</th>\n",
       "      <th>loc_ic_t2f_mou_7</th>\n",
       "      <th>loc_ic_t2f_mou_8</th>\n",
       "      <th>loc_ic_t2f_mou_9</th>\n",
       "      <th>loc_ic_mou_6</th>\n",
       "      <th>loc_ic_mou_7</th>\n",
       "      <th>loc_ic_mou_8</th>\n",
       "      <th>loc_ic_mou_9</th>\n",
       "      <th>std_ic_t2t_mou_6</th>\n",
       "      <th>std_ic_t2t_mou_7</th>\n",
       "      <th>std_ic_t2t_mou_8</th>\n",
       "      <th>std_ic_t2t_mou_9</th>\n",
       "      <th>std_ic_t2m_mou_6</th>\n",
       "      <th>std_ic_t2m_mou_7</th>\n",
       "      <th>std_ic_t2m_mou_8</th>\n",
       "      <th>std_ic_t2m_mou_9</th>\n",
       "      <th>std_ic_t2f_mou_6</th>\n",
       "      <th>std_ic_t2f_mou_7</th>\n",
       "      <th>std_ic_t2f_mou_8</th>\n",
       "      <th>std_ic_t2f_mou_9</th>\n",
       "      <th>std_ic_t2o_mou_6</th>\n",
       "      <th>std_ic_t2o_mou_7</th>\n",
       "      <th>std_ic_t2o_mou_8</th>\n",
       "      <th>std_ic_t2o_mou_9</th>\n",
       "      <th>std_ic_mou_6</th>\n",
       "      <th>std_ic_mou_7</th>\n",
       "      <th>std_ic_mou_8</th>\n",
       "      <th>std_ic_mou_9</th>\n",
       "      <th>total_ic_mou_6</th>\n",
       "      <th>total_ic_mou_7</th>\n",
       "      <th>total_ic_mou_8</th>\n",
       "      <th>total_ic_mou_9</th>\n",
       "      <th>spl_ic_mou_6</th>\n",
       "      <th>spl_ic_mou_7</th>\n",
       "      <th>spl_ic_mou_8</th>\n",
       "      <th>spl_ic_mou_9</th>\n",
       "      <th>isd_ic_mou_6</th>\n",
       "      <th>isd_ic_mou_7</th>\n",
       "      <th>isd_ic_mou_8</th>\n",
       "      <th>isd_ic_mou_9</th>\n",
       "      <th>ic_others_6</th>\n",
       "      <th>ic_others_7</th>\n",
       "      <th>ic_others_8</th>\n",
       "      <th>ic_others_9</th>\n",
       "      <th>total_rech_num_6</th>\n",
       "      <th>total_rech_num_7</th>\n",
       "      <th>total_rech_num_8</th>\n",
       "      <th>total_rech_num_9</th>\n",
       "      <th>total_rech_amt_6</th>\n",
       "      <th>total_rech_amt_7</th>\n",
       "      <th>total_rech_amt_8</th>\n",
       "      <th>total_rech_amt_9</th>\n",
       "      <th>max_rech_amt_6</th>\n",
       "      <th>max_rech_amt_7</th>\n",
       "      <th>max_rech_amt_8</th>\n",
       "      <th>max_rech_amt_9</th>\n",
       "      <th>date_of_last_rech_6</th>\n",
       "      <th>date_of_last_rech_7</th>\n",
       "      <th>date_of_last_rech_8</th>\n",
       "      <th>date_of_last_rech_9</th>\n",
       "      <th>last_day_rch_amt_6</th>\n",
       "      <th>last_day_rch_amt_7</th>\n",
       "      <th>last_day_rch_amt_8</th>\n",
       "      <th>last_day_rch_amt_9</th>\n",
       "      <th>date_of_last_rech_data_6</th>\n",
       "      <th>date_of_last_rech_data_7</th>\n",
       "      <th>date_of_last_rech_data_8</th>\n",
       "      <th>date_of_last_rech_data_9</th>\n",
       "      <th>total_rech_data_6</th>\n",
       "      <th>total_rech_data_7</th>\n",
       "      <th>total_rech_data_8</th>\n",
       "      <th>total_rech_data_9</th>\n",
       "      <th>max_rech_data_6</th>\n",
       "      <th>max_rech_data_7</th>\n",
       "      <th>max_rech_data_8</th>\n",
       "      <th>max_rech_data_9</th>\n",
       "      <th>count_rech_2g_6</th>\n",
       "      <th>count_rech_2g_7</th>\n",
       "      <th>count_rech_2g_8</th>\n",
       "      <th>count_rech_2g_9</th>\n",
       "      <th>count_rech_3g_6</th>\n",
       "      <th>count_rech_3g_7</th>\n",
       "      <th>count_rech_3g_8</th>\n",
       "      <th>count_rech_3g_9</th>\n",
       "      <th>av_rech_amt_data_6</th>\n",
       "      <th>av_rech_amt_data_7</th>\n",
       "      <th>av_rech_amt_data_8</th>\n",
       "      <th>av_rech_amt_data_9</th>\n",
       "      <th>vol_2g_mb_6</th>\n",
       "      <th>vol_2g_mb_7</th>\n",
       "      <th>vol_2g_mb_8</th>\n",
       "      <th>vol_2g_mb_9</th>\n",
       "      <th>vol_3g_mb_6</th>\n",
       "      <th>vol_3g_mb_7</th>\n",
       "      <th>vol_3g_mb_8</th>\n",
       "      <th>vol_3g_mb_9</th>\n",
       "      <th>arpu_3g_6</th>\n",
       "      <th>arpu_3g_7</th>\n",
       "      <th>arpu_3g_8</th>\n",
       "      <th>arpu_3g_9</th>\n",
       "      <th>arpu_2g_6</th>\n",
       "      <th>arpu_2g_7</th>\n",
       "      <th>arpu_2g_8</th>\n",
       "      <th>arpu_2g_9</th>\n",
       "      <th>night_pck_user_6</th>\n",
       "      <th>night_pck_user_7</th>\n",
       "      <th>night_pck_user_8</th>\n",
       "      <th>night_pck_user_9</th>\n",
       "      <th>monthly_2g_6</th>\n",
       "      <th>monthly_2g_7</th>\n",
       "      <th>monthly_2g_8</th>\n",
       "      <th>monthly_2g_9</th>\n",
       "      <th>sachet_2g_6</th>\n",
       "      <th>sachet_2g_7</th>\n",
       "      <th>sachet_2g_8</th>\n",
       "      <th>sachet_2g_9</th>\n",
       "      <th>monthly_3g_6</th>\n",
       "      <th>monthly_3g_7</th>\n",
       "      <th>monthly_3g_8</th>\n",
       "      <th>monthly_3g_9</th>\n",
       "      <th>sachet_3g_6</th>\n",
       "      <th>sachet_3g_7</th>\n",
       "      <th>sachet_3g_8</th>\n",
       "      <th>sachet_3g_9</th>\n",
       "      <th>fb_user_6</th>\n",
       "      <th>fb_user_7</th>\n",
       "      <th>fb_user_8</th>\n",
       "      <th>fb_user_9</th>\n",
       "      <th>aon</th>\n",
       "      <th>aug_vbc_3g</th>\n",
       "      <th>jul_vbc_3g</th>\n",
       "      <th>jun_vbc_3g</th>\n",
       "      <th>sep_vbc_3g</th>\n",
       "    </tr>\n",
       "  </thead>\n",
       "  <tbody>\n",
       "    <tr>\n",
       "      <th>0</th>\n",
       "      <td>7000842753</td>\n",
       "      <td>109</td>\n",
       "      <td>0.0</td>\n",
       "      <td>0.0</td>\n",
       "      <td>0.0</td>\n",
       "      <td>6/30/2014</td>\n",
       "      <td>7/31/2014</td>\n",
       "      <td>8/31/2014</td>\n",
       "      <td>9/30/2014</td>\n",
       "      <td>197.385</td>\n",
       "      <td>214.816</td>\n",
       "      <td>213.803</td>\n",
       "      <td>21.100</td>\n",
       "      <td>NaN</td>\n",
       "      <td>NaN</td>\n",
       "      <td>0.00</td>\n",
       "      <td>NaN</td>\n",
       "      <td>NaN</td>\n",
       "      <td>NaN</td>\n",
       "      <td>0.00</td>\n",
       "      <td>NaN</td>\n",
       "      <td>NaN</td>\n",
       "      <td>NaN</td>\n",
       "      <td>0.00</td>\n",
       "      <td>NaN</td>\n",
       "      <td>NaN</td>\n",
       "      <td>NaN</td>\n",
       "      <td>0.00</td>\n",
       "      <td>NaN</td>\n",
       "      <td>NaN</td>\n",
       "      <td>NaN</td>\n",
       "      <td>0.00</td>\n",
       "      <td>NaN</td>\n",
       "      <td>NaN</td>\n",
       "      <td>NaN</td>\n",
       "      <td>0.00</td>\n",
       "      <td>NaN</td>\n",
       "      <td>NaN</td>\n",
       "      <td>NaN</td>\n",
       "      <td>0.00</td>\n",
       "      <td>NaN</td>\n",
       "      <td>NaN</td>\n",
       "      <td>NaN</td>\n",
       "      <td>0.00</td>\n",
       "      <td>NaN</td>\n",
       "      <td>NaN</td>\n",
       "      <td>NaN</td>\n",
       "      <td>0.00</td>\n",
       "      <td>NaN</td>\n",
       "      <td>NaN</td>\n",
       "      <td>NaN</td>\n",
       "      <td>0.00</td>\n",
       "      <td>NaN</td>\n",
       "      <td>NaN</td>\n",
       "      <td>NaN</td>\n",
       "      <td>0.00</td>\n",
       "      <td>NaN</td>\n",
       "      <td>NaN</td>\n",
       "      <td>NaN</td>\n",
       "      <td>0.00</td>\n",
       "      <td>NaN</td>\n",
       "      <td>NaN</td>\n",
       "      <td>NaN</td>\n",
       "      <td>0.0</td>\n",
       "      <td>NaN</td>\n",
       "      <td>NaN</td>\n",
       "      <td>NaN</td>\n",
       "      <td>0.00</td>\n",
       "      <td>NaN</td>\n",
       "      <td>NaN</td>\n",
       "      <td>NaN</td>\n",
       "      <td>0.0</td>\n",
       "      <td>NaN</td>\n",
       "      <td>NaN</td>\n",
       "      <td>NaN</td>\n",
       "      <td>0.00</td>\n",
       "      <td>NaN</td>\n",
       "      <td>NaN</td>\n",
       "      <td>NaN</td>\n",
       "      <td>0.0</td>\n",
       "      <td>NaN</td>\n",
       "      <td>0.00</td>\n",
       "      <td>0.00</td>\n",
       "      <td>0.00</td>\n",
       "      <td>0.00</td>\n",
       "      <td>NaN</td>\n",
       "      <td>NaN</td>\n",
       "      <td>0.16</td>\n",
       "      <td>NaN</td>\n",
       "      <td>NaN</td>\n",
       "      <td>NaN</td>\n",
       "      <td>4.13</td>\n",
       "      <td>NaN</td>\n",
       "      <td>NaN</td>\n",
       "      <td>NaN</td>\n",
       "      <td>1.15</td>\n",
       "      <td>NaN</td>\n",
       "      <td>NaN</td>\n",
       "      <td>NaN</td>\n",
       "      <td>5.44</td>\n",
       "      <td>NaN</td>\n",
       "      <td>NaN</td>\n",
       "      <td>NaN</td>\n",
       "      <td>0.00</td>\n",
       "      <td>NaN</td>\n",
       "      <td>NaN</td>\n",
       "      <td>NaN</td>\n",
       "      <td>0.00</td>\n",
       "      <td>NaN</td>\n",
       "      <td>NaN</td>\n",
       "      <td>NaN</td>\n",
       "      <td>0.00</td>\n",
       "      <td>NaN</td>\n",
       "      <td>NaN</td>\n",
       "      <td>NaN</td>\n",
       "      <td>0.0</td>\n",
       "      <td>NaN</td>\n",
       "      <td>NaN</td>\n",
       "      <td>NaN</td>\n",
       "      <td>0.00</td>\n",
       "      <td>NaN</td>\n",
       "      <td>0.00</td>\n",
       "      <td>0.00</td>\n",
       "      <td>5.44</td>\n",
       "      <td>0.00</td>\n",
       "      <td>NaN</td>\n",
       "      <td>NaN</td>\n",
       "      <td>0.0</td>\n",
       "      <td>NaN</td>\n",
       "      <td>NaN</td>\n",
       "      <td>NaN</td>\n",
       "      <td>0.0</td>\n",
       "      <td>NaN</td>\n",
       "      <td>NaN</td>\n",
       "      <td>NaN</td>\n",
       "      <td>0.0</td>\n",
       "      <td>NaN</td>\n",
       "      <td>4</td>\n",
       "      <td>3</td>\n",
       "      <td>2</td>\n",
       "      <td>6</td>\n",
       "      <td>362</td>\n",
       "      <td>252</td>\n",
       "      <td>252</td>\n",
       "      <td>0</td>\n",
       "      <td>252</td>\n",
       "      <td>252</td>\n",
       "      <td>252</td>\n",
       "      <td>0</td>\n",
       "      <td>6/21/2014</td>\n",
       "      <td>7/16/2014</td>\n",
       "      <td>08-08-2014</td>\n",
       "      <td>9/28/2014</td>\n",
       "      <td>252</td>\n",
       "      <td>252</td>\n",
       "      <td>252</td>\n",
       "      <td>0</td>\n",
       "      <td>6/21/2014</td>\n",
       "      <td>7/16/2014</td>\n",
       "      <td>08-08-2014</td>\n",
       "      <td>NaN</td>\n",
       "      <td>1.0</td>\n",
       "      <td>1.0</td>\n",
       "      <td>1.0</td>\n",
       "      <td>NaN</td>\n",
       "      <td>252.0</td>\n",
       "      <td>252.0</td>\n",
       "      <td>252.0</td>\n",
       "      <td>NaN</td>\n",
       "      <td>0.0</td>\n",
       "      <td>0.0</td>\n",
       "      <td>0.0</td>\n",
       "      <td>NaN</td>\n",
       "      <td>1.0</td>\n",
       "      <td>1.0</td>\n",
       "      <td>1.0</td>\n",
       "      <td>NaN</td>\n",
       "      <td>252.0</td>\n",
       "      <td>252.0</td>\n",
       "      <td>252.0</td>\n",
       "      <td>NaN</td>\n",
       "      <td>30.13</td>\n",
       "      <td>1.32</td>\n",
       "      <td>5.75</td>\n",
       "      <td>0.0</td>\n",
       "      <td>83.57</td>\n",
       "      <td>150.76</td>\n",
       "      <td>109.61</td>\n",
       "      <td>0.00</td>\n",
       "      <td>212.17</td>\n",
       "      <td>212.17</td>\n",
       "      <td>212.17</td>\n",
       "      <td>NaN</td>\n",
       "      <td>212.17</td>\n",
       "      <td>212.17</td>\n",
       "      <td>212.17</td>\n",
       "      <td>NaN</td>\n",
       "      <td>0.0</td>\n",
       "      <td>0.0</td>\n",
       "      <td>0.0</td>\n",
       "      <td>NaN</td>\n",
       "      <td>0</td>\n",
       "      <td>0</td>\n",
       "      <td>0</td>\n",
       "      <td>0</td>\n",
       "      <td>0</td>\n",
       "      <td>0</td>\n",
       "      <td>0</td>\n",
       "      <td>0</td>\n",
       "      <td>1</td>\n",
       "      <td>1</td>\n",
       "      <td>1</td>\n",
       "      <td>0</td>\n",
       "      <td>0</td>\n",
       "      <td>0</td>\n",
       "      <td>0</td>\n",
       "      <td>0</td>\n",
       "      <td>1.0</td>\n",
       "      <td>1.0</td>\n",
       "      <td>1.0</td>\n",
       "      <td>NaN</td>\n",
       "      <td>968</td>\n",
       "      <td>30.4</td>\n",
       "      <td>0.0</td>\n",
       "      <td>101.20</td>\n",
       "      <td>3.58</td>\n",
       "    </tr>\n",
       "    <tr>\n",
       "      <th>1</th>\n",
       "      <td>7001865778</td>\n",
       "      <td>109</td>\n",
       "      <td>0.0</td>\n",
       "      <td>0.0</td>\n",
       "      <td>0.0</td>\n",
       "      <td>6/30/2014</td>\n",
       "      <td>7/31/2014</td>\n",
       "      <td>8/31/2014</td>\n",
       "      <td>9/30/2014</td>\n",
       "      <td>34.047</td>\n",
       "      <td>355.074</td>\n",
       "      <td>268.321</td>\n",
       "      <td>86.285</td>\n",
       "      <td>24.11</td>\n",
       "      <td>78.68</td>\n",
       "      <td>7.68</td>\n",
       "      <td>18.34</td>\n",
       "      <td>15.74</td>\n",
       "      <td>99.84</td>\n",
       "      <td>304.76</td>\n",
       "      <td>53.76</td>\n",
       "      <td>0.0</td>\n",
       "      <td>0.00</td>\n",
       "      <td>0.00</td>\n",
       "      <td>0.00</td>\n",
       "      <td>0.0</td>\n",
       "      <td>0.00</td>\n",
       "      <td>0.00</td>\n",
       "      <td>0.00</td>\n",
       "      <td>23.88</td>\n",
       "      <td>74.56</td>\n",
       "      <td>7.68</td>\n",
       "      <td>18.34</td>\n",
       "      <td>11.51</td>\n",
       "      <td>75.94</td>\n",
       "      <td>291.86</td>\n",
       "      <td>53.76</td>\n",
       "      <td>0.00</td>\n",
       "      <td>0.00</td>\n",
       "      <td>0.00</td>\n",
       "      <td>0.00</td>\n",
       "      <td>0.0</td>\n",
       "      <td>2.91</td>\n",
       "      <td>0.00</td>\n",
       "      <td>0.00</td>\n",
       "      <td>35.39</td>\n",
       "      <td>150.51</td>\n",
       "      <td>299.54</td>\n",
       "      <td>72.11</td>\n",
       "      <td>0.23</td>\n",
       "      <td>4.11</td>\n",
       "      <td>0.00</td>\n",
       "      <td>0.00</td>\n",
       "      <td>0.00</td>\n",
       "      <td>0.46</td>\n",
       "      <td>0.13</td>\n",
       "      <td>0.00</td>\n",
       "      <td>0.00</td>\n",
       "      <td>0.00</td>\n",
       "      <td>0.00</td>\n",
       "      <td>0.0</td>\n",
       "      <td>0.0</td>\n",
       "      <td>0.0</td>\n",
       "      <td>0.0</td>\n",
       "      <td>0.0</td>\n",
       "      <td>0.23</td>\n",
       "      <td>4.58</td>\n",
       "      <td>0.13</td>\n",
       "      <td>0.00</td>\n",
       "      <td>0.0</td>\n",
       "      <td>0.0</td>\n",
       "      <td>0.0</td>\n",
       "      <td>0.0</td>\n",
       "      <td>4.68</td>\n",
       "      <td>23.43</td>\n",
       "      <td>12.76</td>\n",
       "      <td>0.00</td>\n",
       "      <td>0.00</td>\n",
       "      <td>0.0</td>\n",
       "      <td>0.0</td>\n",
       "      <td>0.0</td>\n",
       "      <td>40.31</td>\n",
       "      <td>178.53</td>\n",
       "      <td>312.44</td>\n",
       "      <td>72.11</td>\n",
       "      <td>1.61</td>\n",
       "      <td>29.91</td>\n",
       "      <td>29.23</td>\n",
       "      <td>116.09</td>\n",
       "      <td>17.48</td>\n",
       "      <td>65.38</td>\n",
       "      <td>375.58</td>\n",
       "      <td>56.93</td>\n",
       "      <td>0.00</td>\n",
       "      <td>8.93</td>\n",
       "      <td>3.61</td>\n",
       "      <td>0.00</td>\n",
       "      <td>19.09</td>\n",
       "      <td>104.23</td>\n",
       "      <td>408.43</td>\n",
       "      <td>173.03</td>\n",
       "      <td>0.00</td>\n",
       "      <td>0.00</td>\n",
       "      <td>2.35</td>\n",
       "      <td>0.00</td>\n",
       "      <td>5.90</td>\n",
       "      <td>0.00</td>\n",
       "      <td>12.49</td>\n",
       "      <td>15.01</td>\n",
       "      <td>0.00</td>\n",
       "      <td>0.00</td>\n",
       "      <td>0.00</td>\n",
       "      <td>0.00</td>\n",
       "      <td>0.0</td>\n",
       "      <td>0.0</td>\n",
       "      <td>0.0</td>\n",
       "      <td>0.0</td>\n",
       "      <td>5.90</td>\n",
       "      <td>0.00</td>\n",
       "      <td>14.84</td>\n",
       "      <td>15.01</td>\n",
       "      <td>26.83</td>\n",
       "      <td>104.23</td>\n",
       "      <td>423.28</td>\n",
       "      <td>188.04</td>\n",
       "      <td>0.00</td>\n",
       "      <td>0.0</td>\n",
       "      <td>0.0</td>\n",
       "      <td>0.00</td>\n",
       "      <td>1.83</td>\n",
       "      <td>0.00</td>\n",
       "      <td>0.0</td>\n",
       "      <td>0.00</td>\n",
       "      <td>0.00</td>\n",
       "      <td>0.00</td>\n",
       "      <td>0.0</td>\n",
       "      <td>0.00</td>\n",
       "      <td>4</td>\n",
       "      <td>9</td>\n",
       "      <td>11</td>\n",
       "      <td>5</td>\n",
       "      <td>74</td>\n",
       "      <td>384</td>\n",
       "      <td>283</td>\n",
       "      <td>121</td>\n",
       "      <td>44</td>\n",
       "      <td>154</td>\n",
       "      <td>65</td>\n",
       "      <td>50</td>\n",
       "      <td>6/29/2014</td>\n",
       "      <td>7/31/2014</td>\n",
       "      <td>8/28/2014</td>\n",
       "      <td>9/30/2014</td>\n",
       "      <td>44</td>\n",
       "      <td>23</td>\n",
       "      <td>30</td>\n",
       "      <td>0</td>\n",
       "      <td>NaN</td>\n",
       "      <td>7/25/2014</td>\n",
       "      <td>08-10-2014</td>\n",
       "      <td>NaN</td>\n",
       "      <td>NaN</td>\n",
       "      <td>1.0</td>\n",
       "      <td>2.0</td>\n",
       "      <td>NaN</td>\n",
       "      <td>NaN</td>\n",
       "      <td>154.0</td>\n",
       "      <td>25.0</td>\n",
       "      <td>NaN</td>\n",
       "      <td>NaN</td>\n",
       "      <td>1.0</td>\n",
       "      <td>2.0</td>\n",
       "      <td>NaN</td>\n",
       "      <td>NaN</td>\n",
       "      <td>0.0</td>\n",
       "      <td>0.0</td>\n",
       "      <td>NaN</td>\n",
       "      <td>NaN</td>\n",
       "      <td>154.0</td>\n",
       "      <td>50.0</td>\n",
       "      <td>NaN</td>\n",
       "      <td>0.00</td>\n",
       "      <td>108.07</td>\n",
       "      <td>365.47</td>\n",
       "      <td>0.0</td>\n",
       "      <td>0.00</td>\n",
       "      <td>0.00</td>\n",
       "      <td>0.00</td>\n",
       "      <td>0.00</td>\n",
       "      <td>NaN</td>\n",
       "      <td>0.00</td>\n",
       "      <td>0.00</td>\n",
       "      <td>NaN</td>\n",
       "      <td>NaN</td>\n",
       "      <td>28.61</td>\n",
       "      <td>7.60</td>\n",
       "      <td>NaN</td>\n",
       "      <td>NaN</td>\n",
       "      <td>0.0</td>\n",
       "      <td>0.0</td>\n",
       "      <td>NaN</td>\n",
       "      <td>0</td>\n",
       "      <td>1</td>\n",
       "      <td>0</td>\n",
       "      <td>0</td>\n",
       "      <td>0</td>\n",
       "      <td>0</td>\n",
       "      <td>2</td>\n",
       "      <td>0</td>\n",
       "      <td>0</td>\n",
       "      <td>0</td>\n",
       "      <td>0</td>\n",
       "      <td>0</td>\n",
       "      <td>0</td>\n",
       "      <td>0</td>\n",
       "      <td>0</td>\n",
       "      <td>0</td>\n",
       "      <td>NaN</td>\n",
       "      <td>1.0</td>\n",
       "      <td>1.0</td>\n",
       "      <td>NaN</td>\n",
       "      <td>1006</td>\n",
       "      <td>0.0</td>\n",
       "      <td>0.0</td>\n",
       "      <td>0.00</td>\n",
       "      <td>0.00</td>\n",
       "    </tr>\n",
       "    <tr>\n",
       "      <th>2</th>\n",
       "      <td>7001625959</td>\n",
       "      <td>109</td>\n",
       "      <td>0.0</td>\n",
       "      <td>0.0</td>\n",
       "      <td>0.0</td>\n",
       "      <td>6/30/2014</td>\n",
       "      <td>7/31/2014</td>\n",
       "      <td>8/31/2014</td>\n",
       "      <td>9/30/2014</td>\n",
       "      <td>167.690</td>\n",
       "      <td>189.058</td>\n",
       "      <td>210.226</td>\n",
       "      <td>290.714</td>\n",
       "      <td>11.54</td>\n",
       "      <td>55.24</td>\n",
       "      <td>37.26</td>\n",
       "      <td>74.81</td>\n",
       "      <td>143.33</td>\n",
       "      <td>220.59</td>\n",
       "      <td>208.36</td>\n",
       "      <td>118.91</td>\n",
       "      <td>0.0</td>\n",
       "      <td>0.00</td>\n",
       "      <td>0.00</td>\n",
       "      <td>38.49</td>\n",
       "      <td>0.0</td>\n",
       "      <td>0.00</td>\n",
       "      <td>0.00</td>\n",
       "      <td>70.94</td>\n",
       "      <td>7.19</td>\n",
       "      <td>28.74</td>\n",
       "      <td>13.58</td>\n",
       "      <td>14.39</td>\n",
       "      <td>29.34</td>\n",
       "      <td>16.86</td>\n",
       "      <td>38.46</td>\n",
       "      <td>28.16</td>\n",
       "      <td>24.11</td>\n",
       "      <td>21.79</td>\n",
       "      <td>15.61</td>\n",
       "      <td>22.24</td>\n",
       "      <td>0.0</td>\n",
       "      <td>135.54</td>\n",
       "      <td>45.76</td>\n",
       "      <td>0.48</td>\n",
       "      <td>60.66</td>\n",
       "      <td>67.41</td>\n",
       "      <td>67.66</td>\n",
       "      <td>64.81</td>\n",
       "      <td>4.34</td>\n",
       "      <td>26.49</td>\n",
       "      <td>22.58</td>\n",
       "      <td>8.76</td>\n",
       "      <td>41.81</td>\n",
       "      <td>67.41</td>\n",
       "      <td>75.53</td>\n",
       "      <td>9.28</td>\n",
       "      <td>1.48</td>\n",
       "      <td>14.76</td>\n",
       "      <td>22.83</td>\n",
       "      <td>0.0</td>\n",
       "      <td>0.0</td>\n",
       "      <td>0.0</td>\n",
       "      <td>0.0</td>\n",
       "      <td>0.0</td>\n",
       "      <td>47.64</td>\n",
       "      <td>108.68</td>\n",
       "      <td>120.94</td>\n",
       "      <td>18.04</td>\n",
       "      <td>0.0</td>\n",
       "      <td>0.0</td>\n",
       "      <td>0.0</td>\n",
       "      <td>0.0</td>\n",
       "      <td>46.56</td>\n",
       "      <td>236.84</td>\n",
       "      <td>96.84</td>\n",
       "      <td>42.08</td>\n",
       "      <td>0.45</td>\n",
       "      <td>0.0</td>\n",
       "      <td>0.0</td>\n",
       "      <td>0.0</td>\n",
       "      <td>155.33</td>\n",
       "      <td>412.94</td>\n",
       "      <td>285.46</td>\n",
       "      <td>124.94</td>\n",
       "      <td>115.69</td>\n",
       "      <td>71.11</td>\n",
       "      <td>67.46</td>\n",
       "      <td>148.23</td>\n",
       "      <td>14.38</td>\n",
       "      <td>15.44</td>\n",
       "      <td>38.89</td>\n",
       "      <td>38.98</td>\n",
       "      <td>99.48</td>\n",
       "      <td>122.29</td>\n",
       "      <td>49.63</td>\n",
       "      <td>158.19</td>\n",
       "      <td>229.56</td>\n",
       "      <td>208.86</td>\n",
       "      <td>155.99</td>\n",
       "      <td>345.41</td>\n",
       "      <td>72.41</td>\n",
       "      <td>71.29</td>\n",
       "      <td>28.69</td>\n",
       "      <td>49.44</td>\n",
       "      <td>45.18</td>\n",
       "      <td>177.01</td>\n",
       "      <td>167.09</td>\n",
       "      <td>118.18</td>\n",
       "      <td>21.73</td>\n",
       "      <td>58.34</td>\n",
       "      <td>43.23</td>\n",
       "      <td>3.86</td>\n",
       "      <td>0.0</td>\n",
       "      <td>0.0</td>\n",
       "      <td>0.0</td>\n",
       "      <td>0.0</td>\n",
       "      <td>139.33</td>\n",
       "      <td>306.66</td>\n",
       "      <td>239.03</td>\n",
       "      <td>171.49</td>\n",
       "      <td>370.04</td>\n",
       "      <td>519.53</td>\n",
       "      <td>395.03</td>\n",
       "      <td>517.74</td>\n",
       "      <td>0.21</td>\n",
       "      <td>0.0</td>\n",
       "      <td>0.0</td>\n",
       "      <td>0.45</td>\n",
       "      <td>0.00</td>\n",
       "      <td>0.85</td>\n",
       "      <td>0.0</td>\n",
       "      <td>0.01</td>\n",
       "      <td>0.93</td>\n",
       "      <td>3.14</td>\n",
       "      <td>0.0</td>\n",
       "      <td>0.36</td>\n",
       "      <td>5</td>\n",
       "      <td>4</td>\n",
       "      <td>2</td>\n",
       "      <td>7</td>\n",
       "      <td>168</td>\n",
       "      <td>315</td>\n",
       "      <td>116</td>\n",
       "      <td>358</td>\n",
       "      <td>86</td>\n",
       "      <td>200</td>\n",
       "      <td>86</td>\n",
       "      <td>100</td>\n",
       "      <td>6/17/2014</td>\n",
       "      <td>7/24/2014</td>\n",
       "      <td>8/14/2014</td>\n",
       "      <td>9/29/2014</td>\n",
       "      <td>0</td>\n",
       "      <td>200</td>\n",
       "      <td>86</td>\n",
       "      <td>0</td>\n",
       "      <td>NaN</td>\n",
       "      <td>NaN</td>\n",
       "      <td>NaN</td>\n",
       "      <td>9/17/2014</td>\n",
       "      <td>NaN</td>\n",
       "      <td>NaN</td>\n",
       "      <td>NaN</td>\n",
       "      <td>1.0</td>\n",
       "      <td>NaN</td>\n",
       "      <td>NaN</td>\n",
       "      <td>NaN</td>\n",
       "      <td>46.0</td>\n",
       "      <td>NaN</td>\n",
       "      <td>NaN</td>\n",
       "      <td>NaN</td>\n",
       "      <td>1.0</td>\n",
       "      <td>NaN</td>\n",
       "      <td>NaN</td>\n",
       "      <td>NaN</td>\n",
       "      <td>0.0</td>\n",
       "      <td>NaN</td>\n",
       "      <td>NaN</td>\n",
       "      <td>NaN</td>\n",
       "      <td>46.0</td>\n",
       "      <td>0.00</td>\n",
       "      <td>0.00</td>\n",
       "      <td>0.00</td>\n",
       "      <td>0.0</td>\n",
       "      <td>0.00</td>\n",
       "      <td>0.00</td>\n",
       "      <td>0.00</td>\n",
       "      <td>8.42</td>\n",
       "      <td>NaN</td>\n",
       "      <td>NaN</td>\n",
       "      <td>NaN</td>\n",
       "      <td>2.84</td>\n",
       "      <td>NaN</td>\n",
       "      <td>NaN</td>\n",
       "      <td>NaN</td>\n",
       "      <td>0.0</td>\n",
       "      <td>NaN</td>\n",
       "      <td>NaN</td>\n",
       "      <td>NaN</td>\n",
       "      <td>0.0</td>\n",
       "      <td>0</td>\n",
       "      <td>0</td>\n",
       "      <td>0</td>\n",
       "      <td>0</td>\n",
       "      <td>0</td>\n",
       "      <td>0</td>\n",
       "      <td>0</td>\n",
       "      <td>1</td>\n",
       "      <td>0</td>\n",
       "      <td>0</td>\n",
       "      <td>0</td>\n",
       "      <td>0</td>\n",
       "      <td>0</td>\n",
       "      <td>0</td>\n",
       "      <td>0</td>\n",
       "      <td>0</td>\n",
       "      <td>NaN</td>\n",
       "      <td>NaN</td>\n",
       "      <td>NaN</td>\n",
       "      <td>1.0</td>\n",
       "      <td>1103</td>\n",
       "      <td>0.0</td>\n",
       "      <td>0.0</td>\n",
       "      <td>4.17</td>\n",
       "      <td>0.00</td>\n",
       "    </tr>\n",
       "    <tr>\n",
       "      <th>3</th>\n",
       "      <td>7001204172</td>\n",
       "      <td>109</td>\n",
       "      <td>0.0</td>\n",
       "      <td>0.0</td>\n",
       "      <td>0.0</td>\n",
       "      <td>6/30/2014</td>\n",
       "      <td>7/31/2014</td>\n",
       "      <td>8/31/2014</td>\n",
       "      <td>9/30/2014</td>\n",
       "      <td>221.338</td>\n",
       "      <td>251.102</td>\n",
       "      <td>508.054</td>\n",
       "      <td>389.500</td>\n",
       "      <td>99.91</td>\n",
       "      <td>54.39</td>\n",
       "      <td>310.98</td>\n",
       "      <td>241.71</td>\n",
       "      <td>123.31</td>\n",
       "      <td>109.01</td>\n",
       "      <td>71.68</td>\n",
       "      <td>113.54</td>\n",
       "      <td>0.0</td>\n",
       "      <td>54.86</td>\n",
       "      <td>44.38</td>\n",
       "      <td>0.00</td>\n",
       "      <td>0.0</td>\n",
       "      <td>28.09</td>\n",
       "      <td>39.04</td>\n",
       "      <td>0.00</td>\n",
       "      <td>73.68</td>\n",
       "      <td>34.81</td>\n",
       "      <td>10.61</td>\n",
       "      <td>15.49</td>\n",
       "      <td>107.43</td>\n",
       "      <td>83.21</td>\n",
       "      <td>22.46</td>\n",
       "      <td>65.46</td>\n",
       "      <td>1.91</td>\n",
       "      <td>0.65</td>\n",
       "      <td>4.91</td>\n",
       "      <td>2.06</td>\n",
       "      <td>0.0</td>\n",
       "      <td>0.00</td>\n",
       "      <td>0.00</td>\n",
       "      <td>0.00</td>\n",
       "      <td>183.03</td>\n",
       "      <td>118.68</td>\n",
       "      <td>37.99</td>\n",
       "      <td>83.03</td>\n",
       "      <td>26.23</td>\n",
       "      <td>14.89</td>\n",
       "      <td>289.58</td>\n",
       "      <td>226.21</td>\n",
       "      <td>2.99</td>\n",
       "      <td>1.73</td>\n",
       "      <td>6.53</td>\n",
       "      <td>9.99</td>\n",
       "      <td>0.00</td>\n",
       "      <td>0.00</td>\n",
       "      <td>0.00</td>\n",
       "      <td>0.0</td>\n",
       "      <td>0.0</td>\n",
       "      <td>0.0</td>\n",
       "      <td>0.0</td>\n",
       "      <td>0.0</td>\n",
       "      <td>29.23</td>\n",
       "      <td>16.63</td>\n",
       "      <td>296.11</td>\n",
       "      <td>236.21</td>\n",
       "      <td>0.0</td>\n",
       "      <td>0.0</td>\n",
       "      <td>0.0</td>\n",
       "      <td>0.0</td>\n",
       "      <td>10.96</td>\n",
       "      <td>0.00</td>\n",
       "      <td>18.09</td>\n",
       "      <td>43.29</td>\n",
       "      <td>0.00</td>\n",
       "      <td>0.0</td>\n",
       "      <td>0.0</td>\n",
       "      <td>0.0</td>\n",
       "      <td>223.23</td>\n",
       "      <td>135.31</td>\n",
       "      <td>352.21</td>\n",
       "      <td>362.54</td>\n",
       "      <td>62.08</td>\n",
       "      <td>19.98</td>\n",
       "      <td>8.04</td>\n",
       "      <td>41.73</td>\n",
       "      <td>113.96</td>\n",
       "      <td>64.51</td>\n",
       "      <td>20.28</td>\n",
       "      <td>52.86</td>\n",
       "      <td>57.43</td>\n",
       "      <td>27.09</td>\n",
       "      <td>19.84</td>\n",
       "      <td>65.59</td>\n",
       "      <td>233.48</td>\n",
       "      <td>111.59</td>\n",
       "      <td>48.18</td>\n",
       "      <td>160.19</td>\n",
       "      <td>43.48</td>\n",
       "      <td>66.44</td>\n",
       "      <td>0.00</td>\n",
       "      <td>129.84</td>\n",
       "      <td>1.33</td>\n",
       "      <td>38.56</td>\n",
       "      <td>4.94</td>\n",
       "      <td>13.98</td>\n",
       "      <td>1.18</td>\n",
       "      <td>0.00</td>\n",
       "      <td>0.00</td>\n",
       "      <td>0.00</td>\n",
       "      <td>0.0</td>\n",
       "      <td>0.0</td>\n",
       "      <td>0.0</td>\n",
       "      <td>0.0</td>\n",
       "      <td>45.99</td>\n",
       "      <td>105.01</td>\n",
       "      <td>4.94</td>\n",
       "      <td>143.83</td>\n",
       "      <td>280.08</td>\n",
       "      <td>216.61</td>\n",
       "      <td>53.13</td>\n",
       "      <td>305.38</td>\n",
       "      <td>0.59</td>\n",
       "      <td>0.0</td>\n",
       "      <td>0.0</td>\n",
       "      <td>0.55</td>\n",
       "      <td>0.00</td>\n",
       "      <td>0.00</td>\n",
       "      <td>0.0</td>\n",
       "      <td>0.00</td>\n",
       "      <td>0.00</td>\n",
       "      <td>0.00</td>\n",
       "      <td>0.0</td>\n",
       "      <td>0.80</td>\n",
       "      <td>10</td>\n",
       "      <td>11</td>\n",
       "      <td>18</td>\n",
       "      <td>14</td>\n",
       "      <td>230</td>\n",
       "      <td>310</td>\n",
       "      <td>601</td>\n",
       "      <td>410</td>\n",
       "      <td>60</td>\n",
       "      <td>50</td>\n",
       "      <td>50</td>\n",
       "      <td>50</td>\n",
       "      <td>6/28/2014</td>\n",
       "      <td>7/31/2014</td>\n",
       "      <td>8/31/2014</td>\n",
       "      <td>9/30/2014</td>\n",
       "      <td>30</td>\n",
       "      <td>50</td>\n",
       "      <td>50</td>\n",
       "      <td>30</td>\n",
       "      <td>NaN</td>\n",
       "      <td>NaN</td>\n",
       "      <td>NaN</td>\n",
       "      <td>NaN</td>\n",
       "      <td>NaN</td>\n",
       "      <td>NaN</td>\n",
       "      <td>NaN</td>\n",
       "      <td>NaN</td>\n",
       "      <td>NaN</td>\n",
       "      <td>NaN</td>\n",
       "      <td>NaN</td>\n",
       "      <td>NaN</td>\n",
       "      <td>NaN</td>\n",
       "      <td>NaN</td>\n",
       "      <td>NaN</td>\n",
       "      <td>NaN</td>\n",
       "      <td>NaN</td>\n",
       "      <td>NaN</td>\n",
       "      <td>NaN</td>\n",
       "      <td>NaN</td>\n",
       "      <td>NaN</td>\n",
       "      <td>NaN</td>\n",
       "      <td>NaN</td>\n",
       "      <td>NaN</td>\n",
       "      <td>0.00</td>\n",
       "      <td>0.00</td>\n",
       "      <td>0.00</td>\n",
       "      <td>0.0</td>\n",
       "      <td>0.00</td>\n",
       "      <td>0.00</td>\n",
       "      <td>0.00</td>\n",
       "      <td>0.00</td>\n",
       "      <td>NaN</td>\n",
       "      <td>NaN</td>\n",
       "      <td>NaN</td>\n",
       "      <td>NaN</td>\n",
       "      <td>NaN</td>\n",
       "      <td>NaN</td>\n",
       "      <td>NaN</td>\n",
       "      <td>NaN</td>\n",
       "      <td>NaN</td>\n",
       "      <td>NaN</td>\n",
       "      <td>NaN</td>\n",
       "      <td>NaN</td>\n",
       "      <td>0</td>\n",
       "      <td>0</td>\n",
       "      <td>0</td>\n",
       "      <td>0</td>\n",
       "      <td>0</td>\n",
       "      <td>0</td>\n",
       "      <td>0</td>\n",
       "      <td>0</td>\n",
       "      <td>0</td>\n",
       "      <td>0</td>\n",
       "      <td>0</td>\n",
       "      <td>0</td>\n",
       "      <td>0</td>\n",
       "      <td>0</td>\n",
       "      <td>0</td>\n",
       "      <td>0</td>\n",
       "      <td>NaN</td>\n",
       "      <td>NaN</td>\n",
       "      <td>NaN</td>\n",
       "      <td>NaN</td>\n",
       "      <td>2491</td>\n",
       "      <td>0.0</td>\n",
       "      <td>0.0</td>\n",
       "      <td>0.00</td>\n",
       "      <td>0.00</td>\n",
       "    </tr>\n",
       "    <tr>\n",
       "      <th>4</th>\n",
       "      <td>7000142493</td>\n",
       "      <td>109</td>\n",
       "      <td>0.0</td>\n",
       "      <td>0.0</td>\n",
       "      <td>0.0</td>\n",
       "      <td>6/30/2014</td>\n",
       "      <td>7/31/2014</td>\n",
       "      <td>8/31/2014</td>\n",
       "      <td>9/30/2014</td>\n",
       "      <td>261.636</td>\n",
       "      <td>309.876</td>\n",
       "      <td>238.174</td>\n",
       "      <td>163.426</td>\n",
       "      <td>50.31</td>\n",
       "      <td>149.44</td>\n",
       "      <td>83.89</td>\n",
       "      <td>58.78</td>\n",
       "      <td>76.96</td>\n",
       "      <td>91.88</td>\n",
       "      <td>124.26</td>\n",
       "      <td>45.81</td>\n",
       "      <td>0.0</td>\n",
       "      <td>0.00</td>\n",
       "      <td>0.00</td>\n",
       "      <td>0.00</td>\n",
       "      <td>0.0</td>\n",
       "      <td>0.00</td>\n",
       "      <td>0.00</td>\n",
       "      <td>0.00</td>\n",
       "      <td>50.31</td>\n",
       "      <td>149.44</td>\n",
       "      <td>83.89</td>\n",
       "      <td>58.78</td>\n",
       "      <td>67.64</td>\n",
       "      <td>91.88</td>\n",
       "      <td>124.26</td>\n",
       "      <td>37.89</td>\n",
       "      <td>0.00</td>\n",
       "      <td>0.00</td>\n",
       "      <td>0.00</td>\n",
       "      <td>1.93</td>\n",
       "      <td>0.0</td>\n",
       "      <td>0.00</td>\n",
       "      <td>0.00</td>\n",
       "      <td>0.00</td>\n",
       "      <td>117.96</td>\n",
       "      <td>241.33</td>\n",
       "      <td>208.16</td>\n",
       "      <td>98.61</td>\n",
       "      <td>0.00</td>\n",
       "      <td>0.00</td>\n",
       "      <td>0.00</td>\n",
       "      <td>0.00</td>\n",
       "      <td>9.31</td>\n",
       "      <td>0.00</td>\n",
       "      <td>0.00</td>\n",
       "      <td>0.00</td>\n",
       "      <td>0.00</td>\n",
       "      <td>0.00</td>\n",
       "      <td>0.00</td>\n",
       "      <td>0.0</td>\n",
       "      <td>0.0</td>\n",
       "      <td>0.0</td>\n",
       "      <td>0.0</td>\n",
       "      <td>0.0</td>\n",
       "      <td>9.31</td>\n",
       "      <td>0.00</td>\n",
       "      <td>0.00</td>\n",
       "      <td>0.00</td>\n",
       "      <td>0.0</td>\n",
       "      <td>0.0</td>\n",
       "      <td>0.0</td>\n",
       "      <td>0.0</td>\n",
       "      <td>0.00</td>\n",
       "      <td>0.00</td>\n",
       "      <td>0.00</td>\n",
       "      <td>5.98</td>\n",
       "      <td>0.00</td>\n",
       "      <td>0.0</td>\n",
       "      <td>0.0</td>\n",
       "      <td>0.0</td>\n",
       "      <td>127.28</td>\n",
       "      <td>241.33</td>\n",
       "      <td>208.16</td>\n",
       "      <td>104.59</td>\n",
       "      <td>105.68</td>\n",
       "      <td>88.49</td>\n",
       "      <td>233.81</td>\n",
       "      <td>154.56</td>\n",
       "      <td>106.84</td>\n",
       "      <td>109.54</td>\n",
       "      <td>104.13</td>\n",
       "      <td>48.24</td>\n",
       "      <td>1.50</td>\n",
       "      <td>0.00</td>\n",
       "      <td>0.00</td>\n",
       "      <td>0.00</td>\n",
       "      <td>214.03</td>\n",
       "      <td>198.04</td>\n",
       "      <td>337.94</td>\n",
       "      <td>202.81</td>\n",
       "      <td>0.00</td>\n",
       "      <td>0.00</td>\n",
       "      <td>0.86</td>\n",
       "      <td>2.31</td>\n",
       "      <td>1.93</td>\n",
       "      <td>0.25</td>\n",
       "      <td>0.00</td>\n",
       "      <td>0.00</td>\n",
       "      <td>0.00</td>\n",
       "      <td>0.00</td>\n",
       "      <td>0.00</td>\n",
       "      <td>0.00</td>\n",
       "      <td>0.0</td>\n",
       "      <td>0.0</td>\n",
       "      <td>0.0</td>\n",
       "      <td>0.0</td>\n",
       "      <td>1.93</td>\n",
       "      <td>0.25</td>\n",
       "      <td>0.86</td>\n",
       "      <td>2.31</td>\n",
       "      <td>216.44</td>\n",
       "      <td>198.29</td>\n",
       "      <td>338.81</td>\n",
       "      <td>205.31</td>\n",
       "      <td>0.00</td>\n",
       "      <td>0.0</td>\n",
       "      <td>0.0</td>\n",
       "      <td>0.18</td>\n",
       "      <td>0.00</td>\n",
       "      <td>0.00</td>\n",
       "      <td>0.0</td>\n",
       "      <td>0.00</td>\n",
       "      <td>0.48</td>\n",
       "      <td>0.00</td>\n",
       "      <td>0.0</td>\n",
       "      <td>0.00</td>\n",
       "      <td>5</td>\n",
       "      <td>6</td>\n",
       "      <td>3</td>\n",
       "      <td>4</td>\n",
       "      <td>196</td>\n",
       "      <td>350</td>\n",
       "      <td>287</td>\n",
       "      <td>200</td>\n",
       "      <td>56</td>\n",
       "      <td>110</td>\n",
       "      <td>110</td>\n",
       "      <td>50</td>\n",
       "      <td>6/26/2014</td>\n",
       "      <td>7/28/2014</td>\n",
       "      <td>08-09-2014</td>\n",
       "      <td>9/28/2014</td>\n",
       "      <td>50</td>\n",
       "      <td>110</td>\n",
       "      <td>110</td>\n",
       "      <td>50</td>\n",
       "      <td>06-04-2014</td>\n",
       "      <td>NaN</td>\n",
       "      <td>NaN</td>\n",
       "      <td>NaN</td>\n",
       "      <td>1.0</td>\n",
       "      <td>NaN</td>\n",
       "      <td>NaN</td>\n",
       "      <td>NaN</td>\n",
       "      <td>56.0</td>\n",
       "      <td>NaN</td>\n",
       "      <td>NaN</td>\n",
       "      <td>NaN</td>\n",
       "      <td>1.0</td>\n",
       "      <td>NaN</td>\n",
       "      <td>NaN</td>\n",
       "      <td>NaN</td>\n",
       "      <td>0.0</td>\n",
       "      <td>NaN</td>\n",
       "      <td>NaN</td>\n",
       "      <td>NaN</td>\n",
       "      <td>56.0</td>\n",
       "      <td>NaN</td>\n",
       "      <td>NaN</td>\n",
       "      <td>NaN</td>\n",
       "      <td>0.00</td>\n",
       "      <td>0.00</td>\n",
       "      <td>0.00</td>\n",
       "      <td>0.0</td>\n",
       "      <td>0.00</td>\n",
       "      <td>0.00</td>\n",
       "      <td>0.00</td>\n",
       "      <td>0.00</td>\n",
       "      <td>0.00</td>\n",
       "      <td>NaN</td>\n",
       "      <td>NaN</td>\n",
       "      <td>NaN</td>\n",
       "      <td>0.00</td>\n",
       "      <td>NaN</td>\n",
       "      <td>NaN</td>\n",
       "      <td>NaN</td>\n",
       "      <td>0.0</td>\n",
       "      <td>NaN</td>\n",
       "      <td>NaN</td>\n",
       "      <td>NaN</td>\n",
       "      <td>0</td>\n",
       "      <td>0</td>\n",
       "      <td>0</td>\n",
       "      <td>0</td>\n",
       "      <td>1</td>\n",
       "      <td>0</td>\n",
       "      <td>0</td>\n",
       "      <td>0</td>\n",
       "      <td>0</td>\n",
       "      <td>0</td>\n",
       "      <td>0</td>\n",
       "      <td>0</td>\n",
       "      <td>0</td>\n",
       "      <td>0</td>\n",
       "      <td>0</td>\n",
       "      <td>0</td>\n",
       "      <td>0.0</td>\n",
       "      <td>NaN</td>\n",
       "      <td>NaN</td>\n",
       "      <td>NaN</td>\n",
       "      <td>1526</td>\n",
       "      <td>0.0</td>\n",
       "      <td>0.0</td>\n",
       "      <td>0.00</td>\n",
       "      <td>0.00</td>\n",
       "    </tr>\n",
       "  </tbody>\n",
       "</table>\n",
       "</div>"
      ],
      "text/plain": [
       "   mobile_number  circle_id  loc_og_t2o_mou  std_og_t2o_mou  loc_ic_t2o_mou  \\\n",
       "0  7000842753     109        0.0             0.0             0.0              \n",
       "1  7001865778     109        0.0             0.0             0.0              \n",
       "2  7001625959     109        0.0             0.0             0.0              \n",
       "3  7001204172     109        0.0             0.0             0.0              \n",
       "4  7000142493     109        0.0             0.0             0.0              \n",
       "\n",
       "  last_date_of_month_6 last_date_of_month_7 last_date_of_month_8  \\\n",
       "0  6/30/2014            7/31/2014            8/31/2014             \n",
       "1  6/30/2014            7/31/2014            8/31/2014             \n",
       "2  6/30/2014            7/31/2014            8/31/2014             \n",
       "3  6/30/2014            7/31/2014            8/31/2014             \n",
       "4  6/30/2014            7/31/2014            8/31/2014             \n",
       "\n",
       "  last_date_of_month_9   arpu_6   arpu_7   arpu_8   arpu_9  onnet_mou_6  \\\n",
       "0  9/30/2014            197.385  214.816  213.803  21.100  NaN            \n",
       "1  9/30/2014            34.047   355.074  268.321  86.285   24.11         \n",
       "2  9/30/2014            167.690  189.058  210.226  290.714  11.54         \n",
       "3  9/30/2014            221.338  251.102  508.054  389.500  99.91         \n",
       "4  9/30/2014            261.636  309.876  238.174  163.426  50.31         \n",
       "\n",
       "   onnet_mou_7  onnet_mou_8  onnet_mou_9  offnet_mou_6  offnet_mou_7  \\\n",
       "0 NaN           0.00        NaN          NaN           NaN             \n",
       "1  78.68        7.68         18.34        15.74         99.84          \n",
       "2  55.24        37.26        74.81        143.33        220.59         \n",
       "3  54.39        310.98       241.71       123.31        109.01         \n",
       "4  149.44       83.89        58.78        76.96         91.88          \n",
       "\n",
       "   offnet_mou_8  offnet_mou_9  roam_ic_mou_6  roam_ic_mou_7  roam_ic_mou_8  \\\n",
       "0  0.00         NaN           NaN            NaN             0.00            \n",
       "1  304.76        53.76         0.0            0.00           0.00            \n",
       "2  208.36        118.91        0.0            0.00           0.00            \n",
       "3  71.68         113.54        0.0            54.86          44.38           \n",
       "4  124.26        45.81         0.0            0.00           0.00            \n",
       "\n",
       "   roam_ic_mou_9  roam_og_mou_6  roam_og_mou_7  roam_og_mou_8  roam_og_mou_9  \\\n",
       "0 NaN            NaN            NaN             0.00          NaN              \n",
       "1  0.00           0.0            0.00           0.00           0.00            \n",
       "2  38.49          0.0            0.00           0.00           70.94           \n",
       "3  0.00           0.0            28.09          39.04          0.00            \n",
       "4  0.00           0.0            0.00           0.00           0.00            \n",
       "\n",
       "   loc_og_t2t_mou_6  loc_og_t2t_mou_7  loc_og_t2t_mou_8  loc_og_t2t_mou_9  \\\n",
       "0 NaN               NaN                0.00             NaN                 \n",
       "1  23.88             74.56             7.68              18.34              \n",
       "2  7.19              28.74             13.58             14.39              \n",
       "3  73.68             34.81             10.61             15.49              \n",
       "4  50.31             149.44            83.89             58.78              \n",
       "\n",
       "   loc_og_t2m_mou_6  loc_og_t2m_mou_7  loc_og_t2m_mou_8  loc_og_t2m_mou_9  \\\n",
       "0 NaN               NaN                0.00             NaN                 \n",
       "1  11.51             75.94             291.86            53.76              \n",
       "2  29.34             16.86             38.46             28.16              \n",
       "3  107.43            83.21             22.46             65.46              \n",
       "4  67.64             91.88             124.26            37.89              \n",
       "\n",
       "   loc_og_t2f_mou_6  loc_og_t2f_mou_7  loc_og_t2f_mou_8  loc_og_t2f_mou_9  \\\n",
       "0 NaN               NaN                0.00             NaN                 \n",
       "1  0.00              0.00              0.00              0.00               \n",
       "2  24.11             21.79             15.61             22.24              \n",
       "3  1.91              0.65              4.91              2.06               \n",
       "4  0.00              0.00              0.00              1.93               \n",
       "\n",
       "   loc_og_t2c_mou_6  loc_og_t2c_mou_7  loc_og_t2c_mou_8  loc_og_t2c_mou_9  \\\n",
       "0 NaN               NaN                0.00             NaN                 \n",
       "1  0.0               2.91              0.00              0.00               \n",
       "2  0.0               135.54            45.76             0.48               \n",
       "3  0.0               0.00              0.00              0.00               \n",
       "4  0.0               0.00              0.00              0.00               \n",
       "\n",
       "   loc_og_mou_6  loc_og_mou_7  loc_og_mou_8  loc_og_mou_9  std_og_t2t_mou_6  \\\n",
       "0 NaN           NaN            0.00         NaN           NaN                 \n",
       "1  35.39         150.51        299.54        72.11         0.23               \n",
       "2  60.66         67.41         67.66         64.81         4.34               \n",
       "3  183.03        118.68        37.99         83.03         26.23              \n",
       "4  117.96        241.33        208.16        98.61         0.00               \n",
       "\n",
       "   std_og_t2t_mou_7  std_og_t2t_mou_8  std_og_t2t_mou_9  std_og_t2m_mou_6  \\\n",
       "0 NaN                0.00             NaN               NaN                 \n",
       "1  4.11              0.00              0.00              0.00               \n",
       "2  26.49             22.58             8.76              41.81              \n",
       "3  14.89             289.58            226.21            2.99               \n",
       "4  0.00              0.00              0.00              9.31               \n",
       "\n",
       "   std_og_t2m_mou_7  std_og_t2m_mou_8  std_og_t2m_mou_9  std_og_t2f_mou_6  \\\n",
       "0 NaN                0.00             NaN               NaN                 \n",
       "1  0.46              0.13              0.00              0.00               \n",
       "2  67.41             75.53             9.28              1.48               \n",
       "3  1.73              6.53              9.99              0.00               \n",
       "4  0.00              0.00              0.00              0.00               \n",
       "\n",
       "   std_og_t2f_mou_7  std_og_t2f_mou_8  std_og_t2f_mou_9  std_og_t2c_mou_6  \\\n",
       "0 NaN                0.00             NaN               NaN                 \n",
       "1  0.00              0.00              0.0               0.0                \n",
       "2  14.76             22.83             0.0               0.0                \n",
       "3  0.00              0.00              0.0               0.0                \n",
       "4  0.00              0.00              0.0               0.0                \n",
       "\n",
       "   std_og_t2c_mou_7  std_og_t2c_mou_8  std_og_t2c_mou_9  std_og_mou_6  \\\n",
       "0 NaN                0.0              NaN               NaN             \n",
       "1  0.0               0.0               0.0               0.23           \n",
       "2  0.0               0.0               0.0               47.64          \n",
       "3  0.0               0.0               0.0               29.23          \n",
       "4  0.0               0.0               0.0               9.31           \n",
       "\n",
       "   std_og_mou_7  std_og_mou_8  std_og_mou_9  isd_og_mou_6  isd_og_mou_7  \\\n",
       "0 NaN            0.00         NaN           NaN           NaN             \n",
       "1  4.58          0.13          0.00          0.0           0.0            \n",
       "2  108.68        120.94        18.04         0.0           0.0            \n",
       "3  16.63         296.11        236.21        0.0           0.0            \n",
       "4  0.00          0.00          0.00          0.0           0.0            \n",
       "\n",
       "   isd_og_mou_8  isd_og_mou_9  spl_og_mou_6  spl_og_mou_7  spl_og_mou_8  \\\n",
       "0  0.0          NaN           NaN           NaN            0.00           \n",
       "1  0.0           0.0           4.68          23.43         12.76          \n",
       "2  0.0           0.0           46.56         236.84        96.84          \n",
       "3  0.0           0.0           10.96         0.00          18.09          \n",
       "4  0.0           0.0           0.00          0.00          0.00           \n",
       "\n",
       "   spl_og_mou_9  og_others_6  og_others_7  og_others_8  og_others_9  \\\n",
       "0 NaN           NaN          NaN           0.0         NaN            \n",
       "1  0.00          0.00         0.0          0.0          0.0           \n",
       "2  42.08         0.45         0.0          0.0          0.0           \n",
       "3  43.29         0.00         0.0          0.0          0.0           \n",
       "4  5.98          0.00         0.0          0.0          0.0           \n",
       "\n",
       "   total_og_mou_6  total_og_mou_7  total_og_mou_8  total_og_mou_9  \\\n",
       "0  0.00            0.00            0.00            0.00             \n",
       "1  40.31           178.53          312.44          72.11            \n",
       "2  155.33          412.94          285.46          124.94           \n",
       "3  223.23          135.31          352.21          362.54           \n",
       "4  127.28          241.33          208.16          104.59           \n",
       "\n",
       "   loc_ic_t2t_mou_6  loc_ic_t2t_mou_7  loc_ic_t2t_mou_8  loc_ic_t2t_mou_9  \\\n",
       "0 NaN               NaN                0.16             NaN                 \n",
       "1  1.61              29.91             29.23             116.09             \n",
       "2  115.69            71.11             67.46             148.23             \n",
       "3  62.08             19.98             8.04              41.73              \n",
       "4  105.68            88.49             233.81            154.56             \n",
       "\n",
       "   loc_ic_t2m_mou_6  loc_ic_t2m_mou_7  loc_ic_t2m_mou_8  loc_ic_t2m_mou_9  \\\n",
       "0 NaN               NaN                4.13             NaN                 \n",
       "1  17.48             65.38             375.58            56.93              \n",
       "2  14.38             15.44             38.89             38.98              \n",
       "3  113.96            64.51             20.28             52.86              \n",
       "4  106.84            109.54            104.13            48.24              \n",
       "\n",
       "   loc_ic_t2f_mou_6  loc_ic_t2f_mou_7  loc_ic_t2f_mou_8  loc_ic_t2f_mou_9  \\\n",
       "0 NaN               NaN                1.15             NaN                 \n",
       "1  0.00              8.93              3.61              0.00               \n",
       "2  99.48             122.29            49.63             158.19             \n",
       "3  57.43             27.09             19.84             65.59              \n",
       "4  1.50              0.00              0.00              0.00               \n",
       "\n",
       "   loc_ic_mou_6  loc_ic_mou_7  loc_ic_mou_8  loc_ic_mou_9  std_ic_t2t_mou_6  \\\n",
       "0 NaN           NaN            5.44         NaN           NaN                 \n",
       "1  19.09         104.23        408.43        173.03        0.00               \n",
       "2  229.56        208.86        155.99        345.41        72.41              \n",
       "3  233.48        111.59        48.18         160.19        43.48              \n",
       "4  214.03        198.04        337.94        202.81        0.00               \n",
       "\n",
       "   std_ic_t2t_mou_7  std_ic_t2t_mou_8  std_ic_t2t_mou_9  std_ic_t2m_mou_6  \\\n",
       "0 NaN                0.00             NaN               NaN                 \n",
       "1  0.00              2.35              0.00              5.90               \n",
       "2  71.29             28.69             49.44             45.18              \n",
       "3  66.44             0.00              129.84            1.33               \n",
       "4  0.00              0.86              2.31              1.93               \n",
       "\n",
       "   std_ic_t2m_mou_7  std_ic_t2m_mou_8  std_ic_t2m_mou_9  std_ic_t2f_mou_6  \\\n",
       "0 NaN                0.00             NaN               NaN                 \n",
       "1  0.00              12.49             15.01             0.00               \n",
       "2  177.01            167.09            118.18            21.73              \n",
       "3  38.56             4.94              13.98             1.18               \n",
       "4  0.25              0.00              0.00              0.00               \n",
       "\n",
       "   std_ic_t2f_mou_7  std_ic_t2f_mou_8  std_ic_t2f_mou_9  std_ic_t2o_mou_6  \\\n",
       "0 NaN                0.00             NaN               NaN                 \n",
       "1  0.00              0.00              0.00              0.0                \n",
       "2  58.34             43.23             3.86              0.0                \n",
       "3  0.00              0.00              0.00              0.0                \n",
       "4  0.00              0.00              0.00              0.0                \n",
       "\n",
       "   std_ic_t2o_mou_7  std_ic_t2o_mou_8  std_ic_t2o_mou_9  std_ic_mou_6  \\\n",
       "0 NaN                0.0              NaN               NaN             \n",
       "1  0.0               0.0               0.0               5.90           \n",
       "2  0.0               0.0               0.0               139.33         \n",
       "3  0.0               0.0               0.0               45.99          \n",
       "4  0.0               0.0               0.0               1.93           \n",
       "\n",
       "   std_ic_mou_7  std_ic_mou_8  std_ic_mou_9  total_ic_mou_6  total_ic_mou_7  \\\n",
       "0 NaN            0.00         NaN            0.00            0.00             \n",
       "1  0.00          14.84         15.01         26.83           104.23           \n",
       "2  306.66        239.03        171.49        370.04          519.53           \n",
       "3  105.01        4.94          143.83        280.08          216.61           \n",
       "4  0.25          0.86          2.31          216.44          198.29           \n",
       "\n",
       "   total_ic_mou_8  total_ic_mou_9  spl_ic_mou_6  spl_ic_mou_7  spl_ic_mou_8  \\\n",
       "0  5.44            0.00           NaN           NaN            0.0            \n",
       "1  423.28          188.04          0.00          0.0           0.0            \n",
       "2  395.03          517.74          0.21          0.0           0.0            \n",
       "3  53.13           305.38          0.59          0.0           0.0            \n",
       "4  338.81          205.31          0.00          0.0           0.0            \n",
       "\n",
       "   spl_ic_mou_9  isd_ic_mou_6  isd_ic_mou_7  isd_ic_mou_8  isd_ic_mou_9  \\\n",
       "0 NaN           NaN           NaN            0.0          NaN             \n",
       "1  0.00          1.83          0.00          0.0           0.00           \n",
       "2  0.45          0.00          0.85          0.0           0.01           \n",
       "3  0.55          0.00          0.00          0.0           0.00           \n",
       "4  0.18          0.00          0.00          0.0           0.00           \n",
       "\n",
       "   ic_others_6  ic_others_7  ic_others_8  ic_others_9  total_rech_num_6  \\\n",
       "0 NaN          NaN           0.0         NaN           4                  \n",
       "1  0.00         0.00         0.0          0.00         4                  \n",
       "2  0.93         3.14         0.0          0.36         5                  \n",
       "3  0.00         0.00         0.0          0.80         10                 \n",
       "4  0.48         0.00         0.0          0.00         5                  \n",
       "\n",
       "   total_rech_num_7  total_rech_num_8  total_rech_num_9  total_rech_amt_6  \\\n",
       "0  3                 2                 6                 362                \n",
       "1  9                 11                5                 74                 \n",
       "2  4                 2                 7                 168                \n",
       "3  11                18                14                230                \n",
       "4  6                 3                 4                 196                \n",
       "\n",
       "   total_rech_amt_7  total_rech_amt_8  total_rech_amt_9  max_rech_amt_6  \\\n",
       "0  252               252               0                 252              \n",
       "1  384               283               121               44               \n",
       "2  315               116               358               86               \n",
       "3  310               601               410               60               \n",
       "4  350               287               200               56               \n",
       "\n",
       "   max_rech_amt_7  max_rech_amt_8  max_rech_amt_9 date_of_last_rech_6  \\\n",
       "0  252             252             0               6/21/2014            \n",
       "1  154             65              50              6/29/2014            \n",
       "2  200             86              100             6/17/2014            \n",
       "3  50              50              50              6/28/2014            \n",
       "4  110             110             50              6/26/2014            \n",
       "\n",
       "  date_of_last_rech_7 date_of_last_rech_8 date_of_last_rech_9  \\\n",
       "0  7/16/2014           08-08-2014          9/28/2014            \n",
       "1  7/31/2014           8/28/2014           9/30/2014            \n",
       "2  7/24/2014           8/14/2014           9/29/2014            \n",
       "3  7/31/2014           8/31/2014           9/30/2014            \n",
       "4  7/28/2014           08-09-2014          9/28/2014            \n",
       "\n",
       "   last_day_rch_amt_6  last_day_rch_amt_7  last_day_rch_amt_8  \\\n",
       "0  252                 252                 252                  \n",
       "1  44                  23                  30                   \n",
       "2  0                   200                 86                   \n",
       "3  30                  50                  50                   \n",
       "4  50                  110                 110                  \n",
       "\n",
       "   last_day_rch_amt_9 date_of_last_rech_data_6 date_of_last_rech_data_7  \\\n",
       "0  0                   6/21/2014                7/16/2014                 \n",
       "1  0                   NaN                      7/25/2014                 \n",
       "2  0                   NaN                      NaN                       \n",
       "3  30                  NaN                      NaN                       \n",
       "4  50                  06-04-2014               NaN                       \n",
       "\n",
       "  date_of_last_rech_data_8 date_of_last_rech_data_9  total_rech_data_6  \\\n",
       "0  08-08-2014               NaN                      1.0                 \n",
       "1  08-10-2014               NaN                     NaN                  \n",
       "2  NaN                      9/17/2014               NaN                  \n",
       "3  NaN                      NaN                     NaN                  \n",
       "4  NaN                      NaN                      1.0                 \n",
       "\n",
       "   total_rech_data_7  total_rech_data_8  total_rech_data_9  max_rech_data_6  \\\n",
       "0  1.0                1.0               NaN                 252.0             \n",
       "1  1.0                2.0               NaN                NaN                \n",
       "2 NaN                NaN                 1.0               NaN                \n",
       "3 NaN                NaN                NaN                NaN                \n",
       "4 NaN                NaN                NaN                 56.0              \n",
       "\n",
       "   max_rech_data_7  max_rech_data_8  max_rech_data_9  count_rech_2g_6  \\\n",
       "0  252.0            252.0           NaN               0.0               \n",
       "1  154.0            25.0            NaN              NaN                \n",
       "2 NaN              NaN               46.0            NaN                \n",
       "3 NaN              NaN              NaN              NaN                \n",
       "4 NaN              NaN              NaN               1.0               \n",
       "\n",
       "   count_rech_2g_7  count_rech_2g_8  count_rech_2g_9  count_rech_3g_6  \\\n",
       "0  0.0              0.0             NaN               1.0               \n",
       "1  1.0              2.0             NaN              NaN                \n",
       "2 NaN              NaN               1.0             NaN                \n",
       "3 NaN              NaN              NaN              NaN                \n",
       "4 NaN              NaN              NaN               0.0               \n",
       "\n",
       "   count_rech_3g_7  count_rech_3g_8  count_rech_3g_9  av_rech_amt_data_6  \\\n",
       "0  1.0              1.0             NaN               252.0                \n",
       "1  0.0              0.0             NaN              NaN                   \n",
       "2 NaN              NaN               0.0             NaN                   \n",
       "3 NaN              NaN              NaN              NaN                   \n",
       "4 NaN              NaN              NaN               56.0                 \n",
       "\n",
       "   av_rech_amt_data_7  av_rech_amt_data_8  av_rech_amt_data_9  vol_2g_mb_6  \\\n",
       "0  252.0               252.0              NaN                  30.13         \n",
       "1  154.0               50.0               NaN                  0.00          \n",
       "2 NaN                 NaN                  46.0                0.00          \n",
       "3 NaN                 NaN                 NaN                  0.00          \n",
       "4 NaN                 NaN                 NaN                  0.00          \n",
       "\n",
       "   vol_2g_mb_7  vol_2g_mb_8  vol_2g_mb_9  vol_3g_mb_6  vol_3g_mb_7  \\\n",
       "0  1.32         5.75         0.0          83.57        150.76        \n",
       "1  108.07       365.47       0.0          0.00         0.00          \n",
       "2  0.00         0.00         0.0          0.00         0.00          \n",
       "3  0.00         0.00         0.0          0.00         0.00          \n",
       "4  0.00         0.00         0.0          0.00         0.00          \n",
       "\n",
       "   vol_3g_mb_8  vol_3g_mb_9  arpu_3g_6  arpu_3g_7  arpu_3g_8  arpu_3g_9  \\\n",
       "0  109.61       0.00         212.17     212.17     212.17    NaN          \n",
       "1  0.00         0.00        NaN         0.00       0.00      NaN          \n",
       "2  0.00         8.42        NaN        NaN        NaN         2.84        \n",
       "3  0.00         0.00        NaN        NaN        NaN        NaN          \n",
       "4  0.00         0.00         0.00      NaN        NaN        NaN          \n",
       "\n",
       "   arpu_2g_6  arpu_2g_7  arpu_2g_8  arpu_2g_9  night_pck_user_6  \\\n",
       "0  212.17     212.17     212.17    NaN         0.0                \n",
       "1 NaN         28.61      7.60      NaN        NaN                 \n",
       "2 NaN        NaN        NaN         0.0       NaN                 \n",
       "3 NaN        NaN        NaN        NaN        NaN                 \n",
       "4  0.00      NaN        NaN        NaN         0.0                \n",
       "\n",
       "   night_pck_user_7  night_pck_user_8  night_pck_user_9  monthly_2g_6  \\\n",
       "0  0.0               0.0              NaN                0              \n",
       "1  0.0               0.0              NaN                0              \n",
       "2 NaN               NaN                0.0               0              \n",
       "3 NaN               NaN               NaN                0              \n",
       "4 NaN               NaN               NaN                0              \n",
       "\n",
       "   monthly_2g_7  monthly_2g_8  monthly_2g_9  sachet_2g_6  sachet_2g_7  \\\n",
       "0  0             0             0             0            0             \n",
       "1  1             0             0             0            0             \n",
       "2  0             0             0             0            0             \n",
       "3  0             0             0             0            0             \n",
       "4  0             0             0             1            0             \n",
       "\n",
       "   sachet_2g_8  sachet_2g_9  monthly_3g_6  monthly_3g_7  monthly_3g_8  \\\n",
       "0  0            0            1             1             1              \n",
       "1  2            0            0             0             0              \n",
       "2  0            1            0             0             0              \n",
       "3  0            0            0             0             0              \n",
       "4  0            0            0             0             0              \n",
       "\n",
       "   monthly_3g_9  sachet_3g_6  sachet_3g_7  sachet_3g_8  sachet_3g_9  \\\n",
       "0  0             0            0            0            0             \n",
       "1  0             0            0            0            0             \n",
       "2  0             0            0            0            0             \n",
       "3  0             0            0            0            0             \n",
       "4  0             0            0            0            0             \n",
       "\n",
       "   fb_user_6  fb_user_7  fb_user_8  fb_user_9   aon  aug_vbc_3g  jul_vbc_3g  \\\n",
       "0  1.0        1.0        1.0       NaN         968   30.4        0.0          \n",
       "1 NaN         1.0        1.0       NaN         1006  0.0         0.0          \n",
       "2 NaN        NaN        NaN         1.0        1103  0.0         0.0          \n",
       "3 NaN        NaN        NaN        NaN         2491  0.0         0.0          \n",
       "4  0.0       NaN        NaN        NaN         1526  0.0         0.0          \n",
       "\n",
       "   jun_vbc_3g  sep_vbc_3g  \n",
       "0  101.20      3.58        \n",
       "1  0.00        0.00        \n",
       "2  4.17        0.00        \n",
       "3  0.00        0.00        \n",
       "4  0.00        0.00        "
      ]
     },
     "execution_count": 4,
     "metadata": {},
     "output_type": "execute_result"
    }
   ],
   "source": [
    "data.head()"
   ]
  },
  {
   "cell_type": "code",
   "execution_count": 5,
   "metadata": {
    "colab": {
     "base_uri": "https://localhost:8080/"
    },
    "id": "A5ZVsECYd-ff",
    "outputId": "4a688d42-6052-47c3-8819-6ecfdd94bb25"
   },
   "outputs": [
    {
     "data": {
      "text/plain": [
       "(99999, 226)"
      ]
     },
     "execution_count": 5,
     "metadata": {},
     "output_type": "execute_result"
    }
   ],
   "source": [
    "data.shape"
   ]
  },
  {
   "cell_type": "code",
   "execution_count": 6,
   "metadata": {
    "colab": {
     "base_uri": "https://localhost:8080/",
     "height": 444
    },
    "id": "dEeF-ubVd-fg",
    "outputId": "03c94014-67fd-4041-b61a-3086b6099964"
   },
   "outputs": [
    {
     "data": {
      "text/html": [
       "<div>\n",
       "<style scoped>\n",
       "    .dataframe tbody tr th:only-of-type {\n",
       "        vertical-align: middle;\n",
       "    }\n",
       "\n",
       "    .dataframe tbody tr th {\n",
       "        vertical-align: top;\n",
       "    }\n",
       "\n",
       "    .dataframe thead th {\n",
       "        text-align: right;\n",
       "    }\n",
       "</style>\n",
       "<table border=\"1\" class=\"dataframe\">\n",
       "  <thead>\n",
       "    <tr style=\"text-align: right;\">\n",
       "      <th></th>\n",
       "      <th>last_date_of_month_6</th>\n",
       "      <th>last_date_of_month_7</th>\n",
       "      <th>last_date_of_month_8</th>\n",
       "      <th>last_date_of_month_9</th>\n",
       "      <th>date_of_last_rech_6</th>\n",
       "      <th>date_of_last_rech_7</th>\n",
       "      <th>date_of_last_rech_8</th>\n",
       "      <th>date_of_last_rech_9</th>\n",
       "      <th>date_of_last_rech_data_6</th>\n",
       "      <th>date_of_last_rech_data_7</th>\n",
       "      <th>date_of_last_rech_data_8</th>\n",
       "      <th>date_of_last_rech_data_9</th>\n",
       "    </tr>\n",
       "  </thead>\n",
       "  <tbody>\n",
       "    <tr>\n",
       "      <th>0</th>\n",
       "      <td>6/30/2014</td>\n",
       "      <td>7/31/2014</td>\n",
       "      <td>8/31/2014</td>\n",
       "      <td>9/30/2014</td>\n",
       "      <td>6/21/2014</td>\n",
       "      <td>7/16/2014</td>\n",
       "      <td>08-08-2014</td>\n",
       "      <td>9/28/2014</td>\n",
       "      <td>6/21/2014</td>\n",
       "      <td>7/16/2014</td>\n",
       "      <td>08-08-2014</td>\n",
       "      <td>NaN</td>\n",
       "    </tr>\n",
       "    <tr>\n",
       "      <th>1</th>\n",
       "      <td>6/30/2014</td>\n",
       "      <td>7/31/2014</td>\n",
       "      <td>8/31/2014</td>\n",
       "      <td>9/30/2014</td>\n",
       "      <td>6/29/2014</td>\n",
       "      <td>7/31/2014</td>\n",
       "      <td>8/28/2014</td>\n",
       "      <td>9/30/2014</td>\n",
       "      <td>NaN</td>\n",
       "      <td>7/25/2014</td>\n",
       "      <td>08-10-2014</td>\n",
       "      <td>NaN</td>\n",
       "    </tr>\n",
       "    <tr>\n",
       "      <th>2</th>\n",
       "      <td>6/30/2014</td>\n",
       "      <td>7/31/2014</td>\n",
       "      <td>8/31/2014</td>\n",
       "      <td>9/30/2014</td>\n",
       "      <td>6/17/2014</td>\n",
       "      <td>7/24/2014</td>\n",
       "      <td>8/14/2014</td>\n",
       "      <td>9/29/2014</td>\n",
       "      <td>NaN</td>\n",
       "      <td>NaN</td>\n",
       "      <td>NaN</td>\n",
       "      <td>9/17/2014</td>\n",
       "    </tr>\n",
       "    <tr>\n",
       "      <th>3</th>\n",
       "      <td>6/30/2014</td>\n",
       "      <td>7/31/2014</td>\n",
       "      <td>8/31/2014</td>\n",
       "      <td>9/30/2014</td>\n",
       "      <td>6/28/2014</td>\n",
       "      <td>7/31/2014</td>\n",
       "      <td>8/31/2014</td>\n",
       "      <td>9/30/2014</td>\n",
       "      <td>NaN</td>\n",
       "      <td>NaN</td>\n",
       "      <td>NaN</td>\n",
       "      <td>NaN</td>\n",
       "    </tr>\n",
       "    <tr>\n",
       "      <th>4</th>\n",
       "      <td>6/30/2014</td>\n",
       "      <td>7/31/2014</td>\n",
       "      <td>8/31/2014</td>\n",
       "      <td>9/30/2014</td>\n",
       "      <td>6/26/2014</td>\n",
       "      <td>7/28/2014</td>\n",
       "      <td>08-09-2014</td>\n",
       "      <td>9/28/2014</td>\n",
       "      <td>06-04-2014</td>\n",
       "      <td>NaN</td>\n",
       "      <td>NaN</td>\n",
       "      <td>NaN</td>\n",
       "    </tr>\n",
       "    <tr>\n",
       "      <th>...</th>\n",
       "      <td>...</td>\n",
       "      <td>...</td>\n",
       "      <td>...</td>\n",
       "      <td>...</td>\n",
       "      <td>...</td>\n",
       "      <td>...</td>\n",
       "      <td>...</td>\n",
       "      <td>...</td>\n",
       "      <td>...</td>\n",
       "      <td>...</td>\n",
       "      <td>...</td>\n",
       "      <td>...</td>\n",
       "    </tr>\n",
       "    <tr>\n",
       "      <th>99994</th>\n",
       "      <td>6/30/2014</td>\n",
       "      <td>7/31/2014</td>\n",
       "      <td>8/31/2014</td>\n",
       "      <td>9/30/2014</td>\n",
       "      <td>06-03-2014</td>\n",
       "      <td>7/20/2014</td>\n",
       "      <td>8/26/2014</td>\n",
       "      <td>9/25/2014</td>\n",
       "      <td>NaN</td>\n",
       "      <td>NaN</td>\n",
       "      <td>NaN</td>\n",
       "      <td>NaN</td>\n",
       "    </tr>\n",
       "    <tr>\n",
       "      <th>99995</th>\n",
       "      <td>6/30/2014</td>\n",
       "      <td>7/31/2014</td>\n",
       "      <td>8/31/2014</td>\n",
       "      <td>9/30/2014</td>\n",
       "      <td>6/17/2014</td>\n",
       "      <td>7/17/2014</td>\n",
       "      <td>8/24/2014</td>\n",
       "      <td>9/26/2014</td>\n",
       "      <td>NaN</td>\n",
       "      <td>NaN</td>\n",
       "      <td>NaN</td>\n",
       "      <td>NaN</td>\n",
       "    </tr>\n",
       "    <tr>\n",
       "      <th>99996</th>\n",
       "      <td>6/30/2014</td>\n",
       "      <td>7/31/2014</td>\n",
       "      <td>8/31/2014</td>\n",
       "      <td>9/30/2014</td>\n",
       "      <td>6/13/2014</td>\n",
       "      <td>7/26/2014</td>\n",
       "      <td>NaN</td>\n",
       "      <td>09-02-2014</td>\n",
       "      <td>6/13/2014</td>\n",
       "      <td>NaN</td>\n",
       "      <td>NaN</td>\n",
       "      <td>NaN</td>\n",
       "    </tr>\n",
       "    <tr>\n",
       "      <th>99997</th>\n",
       "      <td>6/30/2014</td>\n",
       "      <td>7/31/2014</td>\n",
       "      <td>8/31/2014</td>\n",
       "      <td>9/30/2014</td>\n",
       "      <td>6/17/2014</td>\n",
       "      <td>7/19/2014</td>\n",
       "      <td>8/20/2014</td>\n",
       "      <td>9/17/2014</td>\n",
       "      <td>6/17/2014</td>\n",
       "      <td>7/19/2014</td>\n",
       "      <td>8/20/2014</td>\n",
       "      <td>9/17/2014</td>\n",
       "    </tr>\n",
       "    <tr>\n",
       "      <th>99998</th>\n",
       "      <td>6/30/2014</td>\n",
       "      <td>7/31/2014</td>\n",
       "      <td>8/31/2014</td>\n",
       "      <td>9/30/2014</td>\n",
       "      <td>6/16/2014</td>\n",
       "      <td>NaN</td>\n",
       "      <td>NaN</td>\n",
       "      <td>NaN</td>\n",
       "      <td>06-11-2014</td>\n",
       "      <td>NaN</td>\n",
       "      <td>NaN</td>\n",
       "      <td>NaN</td>\n",
       "    </tr>\n",
       "  </tbody>\n",
       "</table>\n",
       "<p>99999 rows × 12 columns</p>\n",
       "</div>"
      ],
      "text/plain": [
       "      last_date_of_month_6 last_date_of_month_7 last_date_of_month_8  \\\n",
       "0      6/30/2014            7/31/2014            8/31/2014             \n",
       "1      6/30/2014            7/31/2014            8/31/2014             \n",
       "2      6/30/2014            7/31/2014            8/31/2014             \n",
       "3      6/30/2014            7/31/2014            8/31/2014             \n",
       "4      6/30/2014            7/31/2014            8/31/2014             \n",
       "...          ...                  ...                  ...             \n",
       "99994  6/30/2014            7/31/2014            8/31/2014             \n",
       "99995  6/30/2014            7/31/2014            8/31/2014             \n",
       "99996  6/30/2014            7/31/2014            8/31/2014             \n",
       "99997  6/30/2014            7/31/2014            8/31/2014             \n",
       "99998  6/30/2014            7/31/2014            8/31/2014             \n",
       "\n",
       "      last_date_of_month_9 date_of_last_rech_6 date_of_last_rech_7  \\\n",
       "0      9/30/2014            6/21/2014           7/16/2014            \n",
       "1      9/30/2014            6/29/2014           7/31/2014            \n",
       "2      9/30/2014            6/17/2014           7/24/2014            \n",
       "3      9/30/2014            6/28/2014           7/31/2014            \n",
       "4      9/30/2014            6/26/2014           7/28/2014            \n",
       "...          ...                  ...                 ...            \n",
       "99994  9/30/2014            06-03-2014          7/20/2014            \n",
       "99995  9/30/2014            6/17/2014           7/17/2014            \n",
       "99996  9/30/2014            6/13/2014           7/26/2014            \n",
       "99997  9/30/2014            6/17/2014           7/19/2014            \n",
       "99998  9/30/2014            6/16/2014           NaN                  \n",
       "\n",
       "      date_of_last_rech_8 date_of_last_rech_9 date_of_last_rech_data_6  \\\n",
       "0      08-08-2014          9/28/2014           6/21/2014                 \n",
       "1      8/28/2014           9/30/2014           NaN                       \n",
       "2      8/14/2014           9/29/2014           NaN                       \n",
       "3      8/31/2014           9/30/2014           NaN                       \n",
       "4      08-09-2014          9/28/2014           06-04-2014                \n",
       "...           ...                ...                  ...                \n",
       "99994  8/26/2014           9/25/2014           NaN                       \n",
       "99995  8/24/2014           9/26/2014           NaN                       \n",
       "99996  NaN                 09-02-2014          6/13/2014                 \n",
       "99997  8/20/2014           9/17/2014           6/17/2014                 \n",
       "99998  NaN                 NaN                 06-11-2014                \n",
       "\n",
       "      date_of_last_rech_data_7 date_of_last_rech_data_8  \\\n",
       "0      7/16/2014                08-08-2014                \n",
       "1      7/25/2014                08-10-2014                \n",
       "2      NaN                      NaN                       \n",
       "3      NaN                      NaN                       \n",
       "4      NaN                      NaN                       \n",
       "...    ...                      ...                       \n",
       "99994  NaN                      NaN                       \n",
       "99995  NaN                      NaN                       \n",
       "99996  NaN                      NaN                       \n",
       "99997  7/19/2014                8/20/2014                 \n",
       "99998  NaN                      NaN                       \n",
       "\n",
       "      date_of_last_rech_data_9  \n",
       "0      NaN                      \n",
       "1      NaN                      \n",
       "2      9/17/2014                \n",
       "3      NaN                      \n",
       "4      NaN                      \n",
       "...    ...                      \n",
       "99994  NaN                      \n",
       "99995  NaN                      \n",
       "99996  NaN                      \n",
       "99997  9/17/2014                \n",
       "99998  NaN                      \n",
       "\n",
       "[99999 rows x 12 columns]"
      ]
     },
     "execution_count": 6,
     "metadata": {},
     "output_type": "execute_result"
    }
   ],
   "source": [
    "data[data.columns[data.columns.str.contains(\"date\")]]"
   ]
  },
  {
   "cell_type": "code",
   "execution_count": 7,
   "metadata": {
    "id": "8wMkHB1Qd-fj"
   },
   "outputs": [],
   "source": [
    "for i in data.columns[data.columns.str.contains(\"date\")]:\n",
    "    data[i] = pd.to_datetime(data[i])"
   ]
  },
  {
   "cell_type": "markdown",
   "metadata": {
    "id": "tb7YkXs-d-fj"
   },
   "source": [
    "## Dropping the cloumns with just one unique value."
   ]
  },
  {
   "cell_type": "code",
   "execution_count": 8,
   "metadata": {
    "id": "X7wwDfrDd-fj"
   },
   "outputs": [],
   "source": [
    "data = data.loc[:,data.nunique()>1]"
   ]
  },
  {
   "cell_type": "code",
   "execution_count": 9,
   "metadata": {
    "colab": {
     "base_uri": "https://localhost:8080/"
    },
    "id": "Qgl-z9sZd-fl",
    "outputId": "83c31fd3-8c73-4122-8f0d-ec49f2bdaeb5"
   },
   "outputs": [
    {
     "data": {
      "text/plain": [
       "night_pck_user_6            74.847%\n",
       "arpu_2g_6                   74.847%\n",
       "count_rech_3g_6             74.847%\n",
       "av_rech_amt_data_6          74.847%\n",
       "count_rech_2g_6             74.847%\n",
       "max_rech_data_6             74.847%\n",
       "fb_user_6                   74.847%\n",
       "date_of_last_rech_data_6    74.847%\n",
       "total_rech_data_6           74.847%\n",
       "arpu_3g_6                   74.847%\n",
       "night_pck_user_7            74.429%\n",
       "arpu_2g_7                   74.429%\n",
       "total_rech_data_7           74.429%\n",
       "arpu_3g_7                   74.429%\n",
       "max_rech_data_7             74.429%\n",
       "av_rech_amt_data_7          74.429%\n",
       "count_rech_3g_7             74.429%\n",
       "date_of_last_rech_data_7    74.429%\n",
       "count_rech_2g_7             74.429%\n",
       "fb_user_7                   74.429%\n",
       "date_of_last_rech_data_9    74.078%\n",
       "arpu_2g_9                   74.078%\n",
       "max_rech_data_9             74.078%\n",
       "count_rech_3g_9             74.078%\n",
       "fb_user_9                   74.078%\n",
       "av_rech_amt_data_9          74.078%\n",
       "total_rech_data_9           74.078%\n",
       "arpu_3g_9                   74.078%\n",
       "count_rech_2g_9             74.078%\n",
       "night_pck_user_9            74.078%\n",
       "av_rech_amt_data_8          73.661%\n",
       "max_rech_data_8             73.661%\n",
       "fb_user_8                   73.661%\n",
       "arpu_2g_8                   73.661%\n",
       "night_pck_user_8            73.661%\n",
       "total_rech_data_8           73.661%\n",
       "date_of_last_rech_data_8    73.661%\n",
       "count_rech_3g_8             73.661%\n",
       "arpu_3g_8                   73.661%\n",
       "count_rech_2g_8             73.661%\n",
       "std_og_t2t_mou_9            7.745% \n",
       "loc_ic_t2f_mou_9            7.745% \n",
       "std_ic_t2f_mou_9            7.745% \n",
       "std_og_t2m_mou_9            7.745% \n",
       "loc_og_t2m_mou_9            7.745% \n",
       "loc_og_t2f_mou_9            7.745% \n",
       "loc_og_mou_9                7.745% \n",
       "std_ic_t2m_mou_9            7.745% \n",
       "spl_ic_mou_9                7.745% \n",
       "loc_ic_t2t_mou_9            7.745% \n",
       "isd_ic_mou_9                7.745% \n",
       "std_ic_t2t_mou_9            7.745% \n",
       "loc_og_t2c_mou_9            7.745% \n",
       "ic_others_9                 7.745% \n",
       "loc_ic_mou_9                7.745% \n",
       "loc_ic_t2m_mou_9            7.745% \n",
       "std_ic_mou_9                7.745% \n",
       "og_others_9                 7.745% \n",
       "roam_og_mou_9               7.745% \n",
       "isd_og_mou_9                7.745% \n",
       "spl_og_mou_9                7.745% \n",
       "std_og_mou_9                7.745% \n",
       "onnet_mou_9                 7.745% \n",
       "roam_ic_mou_9               7.745% \n",
       "std_og_t2f_mou_9            7.745% \n",
       "offnet_mou_9                7.745% \n",
       "loc_og_t2t_mou_9            7.745% \n",
       "ic_others_8                 5.378% \n",
       "std_ic_t2t_mou_8            5.378% \n",
       "offnet_mou_8                5.378% \n",
       "onnet_mou_8                 5.378% \n",
       "isd_og_mou_8                5.378% \n",
       "std_og_t2t_mou_8            5.378% \n",
       "spl_og_mou_8                5.378% \n",
       "isd_ic_mou_8                5.378% \n",
       "loc_og_mou_8                5.378% \n",
       "loc_ic_mou_8                5.378% \n",
       "spl_ic_mou_8                5.378% \n",
       "loc_og_t2m_mou_8            5.378% \n",
       "std_ic_mou_8                5.378% \n",
       "std_ic_t2m_mou_8            5.378% \n",
       "loc_og_t2c_mou_8            5.378% \n",
       "loc_ic_t2f_mou_8            5.378% \n",
       "std_ic_t2f_mou_8            5.378% \n",
       "og_others_8                 5.378% \n",
       "loc_ic_t2m_mou_8            5.378% \n",
       "loc_og_t2f_mou_8            5.378% \n",
       "roam_ic_mou_8               5.378% \n",
       "roam_og_mou_8               5.378% \n",
       "std_og_t2f_mou_8            5.378% \n",
       "std_og_t2m_mou_8            5.378% \n",
       "loc_og_t2t_mou_8            5.378% \n",
       "std_og_mou_8                5.378% \n",
       "loc_ic_t2t_mou_8            5.378% \n",
       "date_of_last_rech_9         4.76%  \n",
       "std_ic_t2f_mou_6            3.937% \n",
       "isd_og_mou_6                3.937% \n",
       "std_ic_mou_6                3.937% \n",
       "std_ic_t2m_mou_6            3.937% \n",
       "spl_og_mou_6                3.937% \n",
       "std_ic_t2t_mou_6            3.937% \n",
       "og_others_6                 3.937% \n",
       "loc_ic_t2f_mou_6            3.937% \n",
       "loc_ic_t2m_mou_6            3.937% \n",
       "std_og_t2f_mou_6            3.937% \n",
       "loc_ic_t2t_mou_6            3.937% \n",
       "loc_ic_mou_6                3.937% \n",
       "loc_og_t2c_mou_6            3.937% \n",
       "std_og_t2t_mou_6            3.937% \n",
       "ic_others_6                 3.937% \n",
       "loc_og_t2m_mou_6            3.937% \n",
       "loc_og_t2t_mou_6            3.937% \n",
       "std_og_mou_6                3.937% \n",
       "roam_og_mou_6               3.937% \n",
       "loc_og_mou_6                3.937% \n",
       "roam_ic_mou_6               3.937% \n",
       "offnet_mou_6                3.937% \n",
       "loc_og_t2f_mou_6            3.937% \n",
       "isd_ic_mou_6                3.937% \n",
       "onnet_mou_6                 3.937% \n",
       "spl_ic_mou_6                3.937% \n",
       "std_og_t2m_mou_6            3.937% \n",
       "spl_og_mou_7                3.859% \n",
       "offnet_mou_7                3.859% \n",
       "onnet_mou_7                 3.859% \n",
       "loc_og_t2m_mou_7            3.859% \n",
       "og_others_7                 3.859% \n",
       "roam_ic_mou_7               3.859% \n",
       "roam_og_mou_7               3.859% \n",
       "isd_og_mou_7                3.859% \n",
       "std_og_t2f_mou_7            3.859% \n",
       "loc_og_t2t_mou_7            3.859% \n",
       "loc_ic_t2t_mou_7            3.859% \n",
       "std_ic_mou_7                3.859% \n",
       "loc_og_t2f_mou_7            3.859% \n",
       "std_og_t2m_mou_7            3.859% \n",
       "std_og_t2t_mou_7            3.859% \n",
       "std_ic_t2f_mou_7            3.859% \n",
       "spl_ic_mou_7                3.859% \n",
       "std_ic_t2m_mou_7            3.859% \n",
       "isd_ic_mou_7                3.859% \n",
       "ic_others_7                 3.859% \n",
       "loc_ic_t2m_mou_7            3.859% \n",
       "std_ic_t2t_mou_7            3.859% \n",
       "loc_og_mou_7                3.859% \n",
       "loc_ic_mou_7                3.859% \n",
       "loc_og_t2c_mou_7            3.859% \n",
       "loc_ic_t2f_mou_7            3.859% \n",
       "std_og_mou_7                3.859% \n",
       "date_of_last_rech_8         3.622% \n",
       "date_of_last_rech_7         1.767% \n",
       "date_of_last_rech_6         1.607% \n",
       "arpu_9                      0.0%   \n",
       "arpu_8                      0.0%   \n",
       "arpu_7                      0.0%   \n",
       "arpu_6                      0.0%   \n",
       "sep_vbc_3g                  0.0%   \n",
       "total_og_mou_6              0.0%   \n",
       "vol_2g_mb_8                 0.0%   \n",
       "vol_3g_mb_6                 0.0%   \n",
       "vol_3g_mb_7                 0.0%   \n",
       "vol_3g_mb_8                 0.0%   \n",
       "vol_3g_mb_9                 0.0%   \n",
       "monthly_2g_6                0.0%   \n",
       "monthly_2g_7                0.0%   \n",
       "monthly_2g_8                0.0%   \n",
       "monthly_2g_9                0.0%   \n",
       "sachet_2g_6                 0.0%   \n",
       "sachet_2g_7                 0.0%   \n",
       "sachet_2g_8                 0.0%   \n",
       "sachet_2g_9                 0.0%   \n",
       "monthly_3g_6                0.0%   \n",
       "monthly_3g_7                0.0%   \n",
       "monthly_3g_8                0.0%   \n",
       "monthly_3g_9                0.0%   \n",
       "sachet_3g_6                 0.0%   \n",
       "sachet_3g_7                 0.0%   \n",
       "sachet_3g_8                 0.0%   \n",
       "sachet_3g_9                 0.0%   \n",
       "aon                         0.0%   \n",
       "aug_vbc_3g                  0.0%   \n",
       "jul_vbc_3g                  0.0%   \n",
       "vol_2g_mb_9                 0.0%   \n",
       "vol_2g_mb_7                 0.0%   \n",
       "total_og_mou_7              0.0%   \n",
       "vol_2g_mb_6                 0.0%   \n",
       "total_og_mou_8              0.0%   \n",
       "total_og_mou_9              0.0%   \n",
       "jun_vbc_3g                  0.0%   \n",
       "total_ic_mou_6              0.0%   \n",
       "total_ic_mou_7              0.0%   \n",
       "total_ic_mou_8              0.0%   \n",
       "total_ic_mou_9              0.0%   \n",
       "total_rech_num_6            0.0%   \n",
       "total_rech_num_7            0.0%   \n",
       "total_rech_num_8            0.0%   \n",
       "total_rech_num_9            0.0%   \n",
       "total_rech_amt_6            0.0%   \n",
       "total_rech_amt_7            0.0%   \n",
       "total_rech_amt_8            0.0%   \n",
       "total_rech_amt_9            0.0%   \n",
       "max_rech_amt_6              0.0%   \n",
       "max_rech_amt_7              0.0%   \n",
       "max_rech_amt_8              0.0%   \n",
       "max_rech_amt_9              0.0%   \n",
       "last_day_rch_amt_6          0.0%   \n",
       "last_day_rch_amt_7          0.0%   \n",
       "last_day_rch_amt_8          0.0%   \n",
       "last_day_rch_amt_9          0.0%   \n",
       "mobile_number               0.0%   \n",
       "dtype: object"
      ]
     },
     "execution_count": 9,
     "metadata": {},
     "output_type": "execute_result"
    }
   ],
   "source": [
    "(data.isnull().mean()*100).sort_values(ascending = False).round(3).astype(str)+\"%\""
   ]
  },
  {
   "cell_type": "markdown",
   "metadata": {
    "id": "WZsJs30Fd-fm"
   },
   "source": [
    "## High missing values in month of June"
   ]
  },
  {
   "cell_type": "code",
   "execution_count": 10,
   "metadata": {
    "colab": {
     "base_uri": "https://localhost:8080/"
    },
    "id": "aiPJ90Fvd-fp",
    "outputId": "4285025a-5afb-43a3-8f8a-7da322d972db"
   },
   "outputs": [
    {
     "data": {
      "text/plain": [
       "Index(['date_of_last_rech_data_6', 'total_rech_data_6', 'max_rech_data_6',\n",
       "       'count_rech_2g_6', 'count_rech_3g_6', 'av_rech_amt_data_6', 'arpu_3g_6',\n",
       "       'arpu_2g_6', 'night_pck_user_6', 'fb_user_6'],\n",
       "      dtype='object')"
      ]
     },
     "execution_count": 10,
     "metadata": {},
     "output_type": "execute_result"
    }
   ],
   "source": [
    "columns_with_high_missing_value = data.columns[(data.isnull().mean()>.70)]\n",
    "columns_with_high_missing_value_june = columns_with_high_missing_value[columns_with_high_missing_value.str.contains(\"6\")]\n",
    "columns_with_high_missing_value_june"
   ]
  },
  {
   "cell_type": "code",
   "execution_count": 11,
   "metadata": {
    "colab": {
     "base_uri": "https://localhost:8080/"
    },
    "id": "xuRW4D6Jd-fr",
    "outputId": "f82008c3-0a6e-4fee-9d95-91bea64cd89d"
   },
   "outputs": [
    {
     "data": {
      "text/plain": [
       "date_of_last_rech_data_6    74846\n",
       "total_rech_data_6           74846\n",
       "max_rech_data_6             74846\n",
       "count_rech_2g_6             74846\n",
       "count_rech_3g_6             74846\n",
       "av_rech_amt_data_6          74846\n",
       "arpu_3g_6                   74846\n",
       "arpu_2g_6                   74846\n",
       "night_pck_user_6            74846\n",
       "fb_user_6                   74846\n",
       "dtype: int64"
      ]
     },
     "execution_count": 11,
     "metadata": {},
     "output_type": "execute_result"
    }
   ],
   "source": [
    "data[columns_with_high_missing_value_june].isnull().sum()"
   ]
  },
  {
   "cell_type": "markdown",
   "metadata": {
    "id": "lLqD4avad-fs"
   },
   "source": [
    "- We can see that the missing values counts for these columns are exactly the same."
   ]
  },
  {
   "cell_type": "markdown",
   "metadata": {
    "id": "aKWfNnbxd-ft"
   },
   "source": [
    "- Check if all the feature values are missing for the same instance. Here the same count as the missing values above will show that, all the values are misssing at the same instance.\n"
   ]
  },
  {
   "cell_type": "code",
   "execution_count": 12,
   "metadata": {
    "colab": {
     "base_uri": "https://localhost:8080/"
    },
    "id": "AuVZq0Eyd-fu",
    "outputId": "9609972a-9aab-4460-9077-fe7f83014bea"
   },
   "outputs": [
    {
     "data": {
      "text/plain": [
       "74846"
      ]
     },
     "execution_count": 12,
     "metadata": {},
     "output_type": "execute_result"
    }
   ],
   "source": [
    "data[columns_with_high_missing_value_june].isnull().all(axis=1).sum()"
   ]
  },
  {
   "cell_type": "markdown",
   "metadata": {
    "id": "JjDCIF5Ud-fv"
   },
   "source": [
    "- This means that the user has not done any recharge during this time, which also means that he has not subscribed to any form of packs.\n",
    "We can impute these columns with 0, with exception to date."
   ]
  },
  {
   "cell_type": "markdown",
   "metadata": {
    "id": "pTppAMbVd-fv"
   },
   "source": [
    "- We cannot impute date directly with any value, but we can transform into on oe before date. Which means that, the last recharge was done on or before this particular date. So we can impute the missing values with the first days of the month, which signifies that missing dates means that the recharge was done before the first day of that particular month."
   ]
  },
  {
   "cell_type": "code",
   "execution_count": null,
   "metadata": {
    "id": "InvcotLjd-fv"
   },
   "outputs": [],
   "source": [
    "data[['total_rech_data_6', 'max_rech_data_6',\n",
    "       'count_rech_2g_6', 'count_rech_3g_6', 'av_rech_amt_data_6', 'arpu_3g_6',\n",
    "       'arpu_2g_6', 'night_pck_user_6', 'fb_user_6']] = data[['total_rech_data_6', 'max_rech_data_6',\n",
    "       'count_rech_2g_6', 'count_rech_3g_6', 'av_rech_amt_data_6', 'arpu_3g_6',\n",
    "       'arpu_2g_6', 'night_pck_user_6', 'fb_user_6']].fillna(0)"
   ]
  },
  {
   "cell_type": "markdown",
   "metadata": {
    "id": "ho8rYBzcd-fx"
   },
   "source": [
    "## High missing values in month of July"
   ]
  },
  {
   "cell_type": "code",
   "execution_count": 14,
   "metadata": {
    "colab": {
     "base_uri": "https://localhost:8080/"
    },
    "id": "hC4Edybld-fx",
    "outputId": "414f5976-31b8-4396-b09d-f63272ece1fc"
   },
   "outputs": [
    {
     "data": {
      "text/plain": [
       "Index(['date_of_last_rech_data_7', 'total_rech_data_7', 'max_rech_data_7',\n",
       "       'count_rech_2g_7', 'count_rech_3g_7', 'av_rech_amt_data_7', 'arpu_3g_7',\n",
       "       'arpu_2g_7', 'night_pck_user_7', 'fb_user_7'],\n",
       "      dtype='object')"
      ]
     },
     "execution_count": 14,
     "metadata": {},
     "output_type": "execute_result"
    }
   ],
   "source": [
    "columns_with_high_missing_value = data.columns[(data.isnull().mean()>.70)]\n",
    "columns_with_high_missing_value_july = columns_with_high_missing_value[columns_with_high_missing_value.str.contains(\"7\")]\n",
    "columns_with_high_missing_value_july"
   ]
  },
  {
   "cell_type": "code",
   "execution_count": 15,
   "metadata": {
    "colab": {
     "base_uri": "https://localhost:8080/"
    },
    "id": "33pX04EFd-fy",
    "outputId": "6d140a58-4df8-4653-a62f-a8afec61a9ff"
   },
   "outputs": [
    {
     "data": {
      "text/plain": [
       "date_of_last_rech_data_7    74428\n",
       "total_rech_data_7           74428\n",
       "max_rech_data_7             74428\n",
       "count_rech_2g_7             74428\n",
       "count_rech_3g_7             74428\n",
       "av_rech_amt_data_7          74428\n",
       "arpu_3g_7                   74428\n",
       "arpu_2g_7                   74428\n",
       "night_pck_user_7            74428\n",
       "fb_user_7                   74428\n",
       "dtype: int64"
      ]
     },
     "execution_count": 15,
     "metadata": {},
     "output_type": "execute_result"
    }
   ],
   "source": [
    "data[columns_with_high_missing_value_july].isnull().sum()"
   ]
  },
  {
   "cell_type": "markdown",
   "metadata": {
    "id": "FXIiJEeBd-fz"
   },
   "source": [
    "- We can see that the missing values counts for these columns are exactly the same."
   ]
  },
  {
   "cell_type": "markdown",
   "metadata": {
    "id": "HvQXWRUnd-gE"
   },
   "source": [
    "- Check if all the feature values are missing for the same instance. Here the same count as the missing values above will show that, all the values are misssing at the same instance.\n"
   ]
  },
  {
   "cell_type": "code",
   "execution_count": 16,
   "metadata": {
    "colab": {
     "base_uri": "https://localhost:8080/"
    },
    "id": "IIZWLLVhd-gG",
    "outputId": "8c0b92f5-038e-4760-a6eb-2239de49965d"
   },
   "outputs": [
    {
     "data": {
      "text/plain": [
       "74428"
      ]
     },
     "execution_count": 16,
     "metadata": {},
     "output_type": "execute_result"
    }
   ],
   "source": [
    "data[columns_with_high_missing_value_july].isnull().all(axis=1).sum()"
   ]
  },
  {
   "cell_type": "markdown",
   "metadata": {
    "id": "w9MY9LlGd-gI"
   },
   "source": [
    "- This means that the user has not done any recharge during this time, which also means that he has not subscribed to any form of packs.\n",
    "We can impute these columns with 0, with exception to date."
   ]
  },
  {
   "cell_type": "markdown",
   "metadata": {
    "id": "mF7tDRjVd-gJ"
   },
   "source": [
    "- We cannot impute date directly with any value, but we can transform into on or before date. Which means that, the last recharge was done on or before this particular date. So we can impute the missing values with the first days of the month, which signifies that missing dates means that the recharge was done before the first day of that particular month."
   ]
  },
  {
   "cell_type": "code",
   "execution_count": 17,
   "metadata": {
    "id": "tPQf7ZcUd-gK"
   },
   "outputs": [],
   "source": [
    "data[['total_rech_data_7', 'max_rech_data_7',\n",
    "       'count_rech_2g_7', 'count_rech_3g_7', 'av_rech_amt_data_7', 'arpu_3g_7',\n",
    "       'arpu_2g_7', 'night_pck_user_7', 'fb_user_7']] = data[['total_rech_data_7', 'max_rech_data_7',\n",
    "       'count_rech_2g_7', 'count_rech_3g_7', 'av_rech_amt_data_7', 'arpu_3g_7',\n",
    "       'arpu_2g_7', 'night_pck_user_7', 'fb_user_7']].fillna(0)"
   ]
  },
  {
   "cell_type": "markdown",
   "metadata": {
    "id": "bGImkFdcd-gL"
   },
   "source": [
    "## High missing values in month of August"
   ]
  },
  {
   "cell_type": "code",
   "execution_count": 18,
   "metadata": {
    "colab": {
     "base_uri": "https://localhost:8080/"
    },
    "id": "l-3bLABUd-gM",
    "outputId": "53352bc6-85d5-4e42-a9fd-6e6e1dc3698b"
   },
   "outputs": [
    {
     "data": {
      "text/plain": [
       "Index(['date_of_last_rech_data_8', 'total_rech_data_8', 'max_rech_data_8',\n",
       "       'count_rech_2g_8', 'count_rech_3g_8', 'av_rech_amt_data_8', 'arpu_3g_8',\n",
       "       'arpu_2g_8', 'night_pck_user_8', 'fb_user_8'],\n",
       "      dtype='object')"
      ]
     },
     "execution_count": 18,
     "metadata": {},
     "output_type": "execute_result"
    }
   ],
   "source": [
    "columns_with_high_missing_value = data.columns[(data.isnull().mean()>.70)]\n",
    "columns_with_high_missing_value_august = columns_with_high_missing_value[columns_with_high_missing_value.str.contains(\"8\")]\n",
    "columns_with_high_missing_value_august"
   ]
  },
  {
   "cell_type": "code",
   "execution_count": 19,
   "metadata": {
    "colab": {
     "base_uri": "https://localhost:8080/"
    },
    "id": "2wnTVgQ9d-gO",
    "outputId": "a94c9943-1ab6-4112-e019-2aa6674cde38"
   },
   "outputs": [
    {
     "data": {
      "text/plain": [
       "date_of_last_rech_data_8    73660\n",
       "total_rech_data_8           73660\n",
       "max_rech_data_8             73660\n",
       "count_rech_2g_8             73660\n",
       "count_rech_3g_8             73660\n",
       "av_rech_amt_data_8          73660\n",
       "arpu_3g_8                   73660\n",
       "arpu_2g_8                   73660\n",
       "night_pck_user_8            73660\n",
       "fb_user_8                   73660\n",
       "dtype: int64"
      ]
     },
     "execution_count": 19,
     "metadata": {},
     "output_type": "execute_result"
    }
   ],
   "source": [
    "data[columns_with_high_missing_value_august].isnull().sum()"
   ]
  },
  {
   "cell_type": "markdown",
   "metadata": {
    "id": "bnq_VokOd-gQ"
   },
   "source": [
    "- We can see that the missing values counts for these columns are exactly the same."
   ]
  },
  {
   "cell_type": "markdown",
   "metadata": {
    "id": "YN6m6CXOd-gQ"
   },
   "source": [
    "- Check if all the feature values are missing for the same instance. Here the same count as the missing values above will show that, all the values are misssing at the same instance.\n"
   ]
  },
  {
   "cell_type": "code",
   "execution_count": 20,
   "metadata": {
    "colab": {
     "base_uri": "https://localhost:8080/"
    },
    "id": "qYAU1bkud-gQ",
    "outputId": "a9c7014c-2f95-472c-d504-c3800e6340b1"
   },
   "outputs": [
    {
     "data": {
      "text/plain": [
       "73660"
      ]
     },
     "execution_count": 20,
     "metadata": {},
     "output_type": "execute_result"
    }
   ],
   "source": [
    "data[columns_with_high_missing_value_august].isnull().all(axis=1).sum()"
   ]
  },
  {
   "cell_type": "markdown",
   "metadata": {
    "id": "tEgczXnHd-gQ"
   },
   "source": [
    "- This means that the user has not done any recharge during this time, which also means that he has not subscribed to any form of packs.\n",
    "We can impute these columns with 0, with exception to date."
   ]
  },
  {
   "cell_type": "markdown",
   "metadata": {
    "id": "8R9Iujgcd-gR"
   },
   "source": [
    "- We cannot impute date directly with any value, but we can transform into on oe before date. Which means that, the last recharge was done on or before this particular date. So we can impute the missing values with the first days of the month, which signifies that missing dates means that the recharge was done before the first day of that particular month."
   ]
  },
  {
   "cell_type": "code",
   "execution_count": 21,
   "metadata": {
    "id": "9CsXeg4zd-gS"
   },
   "outputs": [],
   "source": [
    "data[['total_rech_data_8', 'max_rech_data_8',\n",
    "       'count_rech_2g_8', 'count_rech_3g_8', 'av_rech_amt_data_8', 'arpu_3g_8',\n",
    "       'arpu_2g_8', 'night_pck_user_8', 'fb_user_8']] = data[['total_rech_data_8', 'max_rech_data_8',\n",
    "       'count_rech_2g_8', 'count_rech_3g_8', 'av_rech_amt_data_8', 'arpu_3g_8',\n",
    "       'arpu_2g_8', 'night_pck_user_8', 'fb_user_8']].fillna(0)"
   ]
  },
  {
   "cell_type": "markdown",
   "metadata": {
    "id": "UNuePw6Rd-gT"
   },
   "source": [
    "## High missing values in month of September"
   ]
  },
  {
   "cell_type": "code",
   "execution_count": 22,
   "metadata": {
    "colab": {
     "base_uri": "https://localhost:8080/"
    },
    "id": "T07R5ta4d-gT",
    "outputId": "08ebf937-0d3d-40f4-de9d-ecb359bd154f"
   },
   "outputs": [
    {
     "data": {
      "text/plain": [
       "Index(['date_of_last_rech_data_9', 'total_rech_data_9', 'max_rech_data_9',\n",
       "       'count_rech_2g_9', 'count_rech_3g_9', 'av_rech_amt_data_9', 'arpu_3g_9',\n",
       "       'arpu_2g_9', 'night_pck_user_9', 'fb_user_9'],\n",
       "      dtype='object')"
      ]
     },
     "execution_count": 22,
     "metadata": {},
     "output_type": "execute_result"
    }
   ],
   "source": [
    "columns_with_high_missing_value = data.columns[(data.isnull().mean()>.70)]\n",
    "columns_with_high_missing_value_sept = columns_with_high_missing_value[columns_with_high_missing_value.str.contains(\"9\")]\n",
    "columns_with_high_missing_value_sept"
   ]
  },
  {
   "cell_type": "code",
   "execution_count": 23,
   "metadata": {
    "colab": {
     "base_uri": "https://localhost:8080/"
    },
    "id": "Qh3gWGmed-gT",
    "outputId": "4abdd8e0-981c-440f-a4bd-7b74e8820e68"
   },
   "outputs": [
    {
     "data": {
      "text/plain": [
       "date_of_last_rech_data_9    74077\n",
       "total_rech_data_9           74077\n",
       "max_rech_data_9             74077\n",
       "count_rech_2g_9             74077\n",
       "count_rech_3g_9             74077\n",
       "av_rech_amt_data_9          74077\n",
       "arpu_3g_9                   74077\n",
       "arpu_2g_9                   74077\n",
       "night_pck_user_9            74077\n",
       "fb_user_9                   74077\n",
       "dtype: int64"
      ]
     },
     "execution_count": 23,
     "metadata": {},
     "output_type": "execute_result"
    }
   ],
   "source": [
    "data[columns_with_high_missing_value_sept].isnull().sum()"
   ]
  },
  {
   "cell_type": "markdown",
   "metadata": {
    "id": "qhYkJgPdd-gT"
   },
   "source": [
    "- We can see that the missing values counts for these columns are exactly the same."
   ]
  },
  {
   "cell_type": "markdown",
   "metadata": {
    "id": "W_h-wvVPd-gU"
   },
   "source": [
    "- Check if all the feature values are missing for the same instance. Here the same count as the missing values above will show that, all the values are misssing at the same instance.\n"
   ]
  },
  {
   "cell_type": "code",
   "execution_count": 24,
   "metadata": {
    "colab": {
     "base_uri": "https://localhost:8080/"
    },
    "id": "8uf7xLaUd-gW",
    "outputId": "da4dde21-03fe-43cf-c49d-2b0c834e473e"
   },
   "outputs": [
    {
     "data": {
      "text/plain": [
       "74077"
      ]
     },
     "execution_count": 24,
     "metadata": {},
     "output_type": "execute_result"
    }
   ],
   "source": [
    "data[columns_with_high_missing_value_sept].isnull().all(axis=1).sum()"
   ]
  },
  {
   "cell_type": "markdown",
   "metadata": {
    "id": "e3PZhDXSd-gW"
   },
   "source": [
    "- This means that the user has not done any recharge during this time, which also means that he has not subscribed to any form of packs.\n",
    "We can impute these columns with 0, with exception to date."
   ]
  },
  {
   "cell_type": "markdown",
   "metadata": {
    "id": "i8wNBkcUd-gW"
   },
   "source": [
    "- We cannot impute date directly with any value, but we can transform into on oe before date. Which means that, the last recharge was done on or before this particular date. So we can impute the missing values with the first days of the month, which signifies that missing dates means that the recharge was done before the first day of that particular month."
   ]
  },
  {
   "cell_type": "code",
   "execution_count": 25,
   "metadata": {
    "id": "vZOwv02Bd-gX"
   },
   "outputs": [],
   "source": [
    "data[['total_rech_data_9', 'max_rech_data_9',\n",
    "       'count_rech_2g_9', 'count_rech_3g_9', 'av_rech_amt_data_9', 'arpu_3g_9',\n",
    "       'arpu_2g_9', 'night_pck_user_9', 'fb_user_9']] = data[['total_rech_data_9', 'max_rech_data_9',\n",
    "       'count_rech_2g_9', 'count_rech_3g_9', 'av_rech_amt_data_9', 'arpu_3g_9',\n",
    "       'arpu_2g_9', 'night_pck_user_9', 'fb_user_9']].fillna(0)"
   ]
  },
  {
   "cell_type": "code",
   "execution_count": 26,
   "metadata": {
    "colab": {
     "base_uri": "https://localhost:8080/"
    },
    "id": "48jyqo0_d-gX",
    "outputId": "c5592523-fb58-45e6-c361-f1057405790f"
   },
   "outputs": [
    {
     "data": {
      "text/plain": [
       "date_of_last_rech_data_6    0.748467\n",
       "date_of_last_rech_data_7    0.744287\n",
       "date_of_last_rech_data_9    0.740777\n",
       "date_of_last_rech_data_8    0.736607\n",
       "std_ic_mou_9                0.077451\n",
       "std_og_t2t_mou_9            0.077451\n",
       "loc_og_t2m_mou_9            0.077451\n",
       "loc_ic_t2m_mou_9            0.077451\n",
       "loc_og_t2f_mou_9            0.077451\n",
       "loc_og_t2c_mou_9            0.077451\n",
       "loc_og_mou_9                0.077451\n",
       "isd_ic_mou_9                0.077451\n",
       "std_og_t2f_mou_9            0.077451\n",
       "ic_others_9                 0.077451\n",
       "std_og_t2m_mou_9            0.077451\n",
       "loc_ic_t2f_mou_9            0.077451\n",
       "loc_ic_t2t_mou_9            0.077451\n",
       "std_og_mou_9                0.077451\n",
       "og_others_9                 0.077451\n",
       "isd_og_mou_9                0.077451\n",
       "loc_og_t2t_mou_9            0.077451\n",
       "spl_ic_mou_9                0.077451\n",
       "spl_og_mou_9                0.077451\n",
       "std_ic_t2t_mou_9            0.077451\n",
       "std_ic_t2m_mou_9            0.077451\n",
       "onnet_mou_9                 0.077451\n",
       "offnet_mou_9                0.077451\n",
       "std_ic_t2f_mou_9            0.077451\n",
       "roam_ic_mou_9               0.077451\n",
       "loc_ic_mou_9                0.077451\n",
       "roam_og_mou_9               0.077451\n",
       "og_others_8                 0.053781\n",
       "spl_og_mou_8                0.053781\n",
       "isd_og_mou_8                0.053781\n",
       "onnet_mou_8                 0.053781\n",
       "std_ic_t2t_mou_8            0.053781\n",
       "std_og_mou_8                0.053781\n",
       "loc_ic_t2t_mou_8            0.053781\n",
       "std_ic_t2m_mou_8            0.053781\n",
       "std_og_t2f_mou_8            0.053781\n",
       "loc_ic_t2m_mou_8            0.053781\n",
       "loc_ic_mou_8                0.053781\n",
       "std_og_t2m_mou_8            0.053781\n",
       "offnet_mou_8                0.053781\n",
       "std_ic_mou_8                0.053781\n",
       "std_og_t2t_mou_8            0.053781\n",
       "roam_ic_mou_8               0.053781\n",
       "loc_og_t2t_mou_8            0.053781\n",
       "roam_og_mou_8               0.053781\n",
       "loc_ic_t2f_mou_8            0.053781\n",
       "loc_og_t2m_mou_8            0.053781\n",
       "spl_ic_mou_8                0.053781\n",
       "loc_og_t2c_mou_8            0.053781\n",
       "loc_og_t2f_mou_8            0.053781\n",
       "isd_ic_mou_8                0.053781\n",
       "loc_og_mou_8                0.053781\n",
       "std_ic_t2f_mou_8            0.053781\n",
       "ic_others_8                 0.053781\n",
       "date_of_last_rech_9         0.047600\n",
       "isd_ic_mou_6                0.039370\n",
       "og_others_6                 0.039370\n",
       "loc_ic_t2m_mou_6            0.039370\n",
       "ic_others_6                 0.039370\n",
       "loc_ic_t2t_mou_6            0.039370\n",
       "std_ic_t2m_mou_6            0.039370\n",
       "spl_ic_mou_6                0.039370\n",
       "std_ic_mou_6                0.039370\n",
       "loc_ic_t2f_mou_6            0.039370\n",
       "std_ic_t2t_mou_6            0.039370\n",
       "std_ic_t2f_mou_6            0.039370\n",
       "spl_og_mou_6                0.039370\n",
       "std_og_mou_6                0.039370\n",
       "isd_og_mou_6                0.039370\n",
       "loc_og_t2f_mou_6            0.039370\n",
       "loc_og_mou_6                0.039370\n",
       "std_og_t2t_mou_6            0.039370\n",
       "loc_og_t2m_mou_6            0.039370\n",
       "std_og_t2m_mou_6            0.039370\n",
       "loc_og_t2t_mou_6            0.039370\n",
       "std_og_t2f_mou_6            0.039370\n",
       "roam_og_mou_6               0.039370\n",
       "loc_og_t2c_mou_6            0.039370\n",
       "roam_ic_mou_6               0.039370\n",
       "loc_ic_mou_6                0.039370\n",
       "offnet_mou_6                0.039370\n",
       "onnet_mou_6                 0.039370\n",
       "std_ic_t2f_mou_7            0.038590\n",
       "onnet_mou_7                 0.038590\n",
       "std_ic_t2t_mou_7            0.038590\n",
       "loc_og_t2m_mou_7            0.038590\n",
       "loc_ic_t2f_mou_7            0.038590\n",
       "std_ic_t2m_mou_7            0.038590\n",
       "loc_og_t2t_mou_7            0.038590\n",
       "roam_ic_mou_7               0.038590\n",
       "offnet_mou_7                0.038590\n",
       "std_ic_mou_7                0.038590\n",
       "roam_og_mou_7               0.038590\n",
       "loc_og_t2f_mou_7            0.038590\n",
       "og_others_7                 0.038590\n",
       "loc_og_t2c_mou_7            0.038590\n",
       "spl_ic_mou_7                0.038590\n",
       "loc_ic_t2m_mou_7            0.038590\n",
       "isd_og_mou_7                0.038590\n",
       "spl_og_mou_7                0.038590\n",
       "loc_ic_t2t_mou_7            0.038590\n",
       "std_og_mou_7                0.038590\n",
       "std_og_t2f_mou_7            0.038590\n",
       "loc_ic_mou_7                0.038590\n",
       "std_og_t2m_mou_7            0.038590\n",
       "ic_others_7                 0.038590\n",
       "std_og_t2t_mou_7            0.038590\n",
       "loc_og_mou_7                0.038590\n",
       "isd_ic_mou_7                0.038590\n",
       "date_of_last_rech_8         0.036220\n",
       "date_of_last_rech_7         0.017670\n",
       "date_of_last_rech_6         0.016070\n",
       "total_og_mou_9              0.000000\n",
       "total_og_mou_7              0.000000\n",
       "total_og_mou_6              0.000000\n",
       "arpu_9                      0.000000\n",
       "arpu_8                      0.000000\n",
       "arpu_7                      0.000000\n",
       "arpu_6                      0.000000\n",
       "total_og_mou_8              0.000000\n",
       "sep_vbc_3g                  0.000000\n",
       "jun_vbc_3g                  0.000000\n",
       "arpu_2g_7                   0.000000\n",
       "monthly_2g_7                0.000000\n",
       "monthly_2g_6                0.000000\n",
       "night_pck_user_9            0.000000\n",
       "night_pck_user_8            0.000000\n",
       "night_pck_user_7            0.000000\n",
       "night_pck_user_6            0.000000\n",
       "arpu_2g_9                   0.000000\n",
       "arpu_2g_8                   0.000000\n",
       "arpu_2g_6                   0.000000\n",
       "vol_2g_mb_8                 0.000000\n",
       "arpu_3g_9                   0.000000\n",
       "arpu_3g_8                   0.000000\n",
       "arpu_3g_7                   0.000000\n",
       "arpu_3g_6                   0.000000\n",
       "vol_3g_mb_9                 0.000000\n",
       "vol_3g_mb_8                 0.000000\n",
       "vol_3g_mb_7                 0.000000\n",
       "vol_3g_mb_6                 0.000000\n",
       "monthly_2g_8                0.000000\n",
       "monthly_2g_9                0.000000\n",
       "sachet_2g_6                 0.000000\n",
       "sachet_2g_7                 0.000000\n",
       "jul_vbc_3g                  0.000000\n",
       "aug_vbc_3g                  0.000000\n",
       "aon                         0.000000\n",
       "fb_user_9                   0.000000\n",
       "fb_user_8                   0.000000\n",
       "fb_user_7                   0.000000\n",
       "fb_user_6                   0.000000\n",
       "sachet_3g_9                 0.000000\n",
       "sachet_3g_8                 0.000000\n",
       "sachet_3g_7                 0.000000\n",
       "sachet_3g_6                 0.000000\n",
       "monthly_3g_9                0.000000\n",
       "monthly_3g_8                0.000000\n",
       "monthly_3g_7                0.000000\n",
       "monthly_3g_6                0.000000\n",
       "sachet_2g_9                 0.000000\n",
       "sachet_2g_8                 0.000000\n",
       "vol_2g_mb_9                 0.000000\n",
       "vol_2g_mb_7                 0.000000\n",
       "total_ic_mou_6              0.000000\n",
       "total_rech_amt_8            0.000000\n",
       "last_day_rch_amt_8          0.000000\n",
       "last_day_rch_amt_7          0.000000\n",
       "last_day_rch_amt_6          0.000000\n",
       "max_rech_amt_9              0.000000\n",
       "max_rech_amt_8              0.000000\n",
       "max_rech_amt_7              0.000000\n",
       "max_rech_amt_6              0.000000\n",
       "total_rech_amt_9            0.000000\n",
       "total_rech_amt_7            0.000000\n",
       "vol_2g_mb_6                 0.000000\n",
       "total_rech_amt_6            0.000000\n",
       "total_rech_num_9            0.000000\n",
       "total_rech_num_8            0.000000\n",
       "total_rech_num_7            0.000000\n",
       "total_rech_num_6            0.000000\n",
       "total_ic_mou_9              0.000000\n",
       "total_ic_mou_8              0.000000\n",
       "total_ic_mou_7              0.000000\n",
       "last_day_rch_amt_9          0.000000\n",
       "total_rech_data_6           0.000000\n",
       "total_rech_data_7           0.000000\n",
       "total_rech_data_8           0.000000\n",
       "av_rech_amt_data_9          0.000000\n",
       "av_rech_amt_data_8          0.000000\n",
       "av_rech_amt_data_7          0.000000\n",
       "av_rech_amt_data_6          0.000000\n",
       "count_rech_3g_9             0.000000\n",
       "count_rech_3g_8             0.000000\n",
       "count_rech_3g_7             0.000000\n",
       "count_rech_3g_6             0.000000\n",
       "count_rech_2g_9             0.000000\n",
       "count_rech_2g_8             0.000000\n",
       "count_rech_2g_7             0.000000\n",
       "count_rech_2g_6             0.000000\n",
       "max_rech_data_9             0.000000\n",
       "max_rech_data_8             0.000000\n",
       "max_rech_data_7             0.000000\n",
       "max_rech_data_6             0.000000\n",
       "total_rech_data_9           0.000000\n",
       "mobile_number               0.000000\n",
       "dtype: float64"
      ]
     },
     "execution_count": 26,
     "metadata": {},
     "output_type": "execute_result"
    }
   ],
   "source": [
    "data.isnull().mean().sort_values(ascending = False)"
   ]
  },
  {
   "cell_type": "markdown",
   "metadata": {
    "id": "x0Tu8-bTd-gY"
   },
   "source": [
    "## Low missing values in month of June"
   ]
  },
  {
   "cell_type": "code",
   "execution_count": 27,
   "metadata": {
    "colab": {
     "base_uri": "https://localhost:8080/"
    },
    "id": "O840LL09d-ga",
    "outputId": "e99c86c6-933d-476a-9933-cb532b257065"
   },
   "outputs": [
    {
     "data": {
      "text/plain": [
       "Index(['onnet_mou_6', 'offnet_mou_6', 'roam_ic_mou_6', 'roam_og_mou_6',\n",
       "       'loc_og_t2t_mou_6', 'loc_og_t2m_mou_6', 'loc_og_t2f_mou_6',\n",
       "       'loc_og_t2c_mou_6', 'loc_og_mou_6', 'std_og_t2t_mou_6',\n",
       "       'std_og_t2m_mou_6', 'std_og_t2f_mou_6', 'std_og_mou_6', 'isd_og_mou_6',\n",
       "       'spl_og_mou_6', 'og_others_6', 'loc_ic_t2t_mou_6', 'loc_ic_t2m_mou_6',\n",
       "       'loc_ic_t2f_mou_6', 'loc_ic_mou_6', 'std_ic_t2t_mou_6',\n",
       "       'std_ic_t2m_mou_6', 'std_ic_t2f_mou_6', 'std_ic_mou_6', 'spl_ic_mou_6',\n",
       "       'isd_ic_mou_6', 'ic_others_6'],\n",
       "      dtype='object')"
      ]
     },
     "execution_count": 27,
     "metadata": {},
     "output_type": "execute_result"
    }
   ],
   "source": [
    "columns_with_low_missing_value = data.columns[(data.isnull().mean()>.03)]\n",
    "columns_with_low_missing_value_june = columns_with_low_missing_value[columns_with_low_missing_value.str.contains(\"^(?!date).*6\")]\n",
    "columns_with_low_missing_value_june"
   ]
  },
  {
   "cell_type": "code",
   "execution_count": 28,
   "metadata": {
    "colab": {
     "base_uri": "https://localhost:8080/"
    },
    "id": "R_txP867d-ga",
    "outputId": "f51f46bd-6e0d-41a4-c138-26dea92984d6"
   },
   "outputs": [
    {
     "data": {
      "text/plain": [
       "onnet_mou_6         3937\n",
       "offnet_mou_6        3937\n",
       "roam_ic_mou_6       3937\n",
       "roam_og_mou_6       3937\n",
       "loc_og_t2t_mou_6    3937\n",
       "loc_og_t2m_mou_6    3937\n",
       "loc_og_t2f_mou_6    3937\n",
       "loc_og_t2c_mou_6    3937\n",
       "loc_og_mou_6        3937\n",
       "std_og_t2t_mou_6    3937\n",
       "std_og_t2m_mou_6    3937\n",
       "std_og_t2f_mou_6    3937\n",
       "std_og_mou_6        3937\n",
       "isd_og_mou_6        3937\n",
       "spl_og_mou_6        3937\n",
       "og_others_6         3937\n",
       "loc_ic_t2t_mou_6    3937\n",
       "loc_ic_t2m_mou_6    3937\n",
       "loc_ic_t2f_mou_6    3937\n",
       "loc_ic_mou_6        3937\n",
       "std_ic_t2t_mou_6    3937\n",
       "std_ic_t2m_mou_6    3937\n",
       "std_ic_t2f_mou_6    3937\n",
       "std_ic_mou_6        3937\n",
       "spl_ic_mou_6        3937\n",
       "isd_ic_mou_6        3937\n",
       "ic_others_6         3937\n",
       "dtype: int64"
      ]
     },
     "execution_count": 28,
     "metadata": {},
     "output_type": "execute_result"
    }
   ],
   "source": [
    "data[columns_with_low_missing_value_june].isnull().sum()"
   ]
  },
  {
   "cell_type": "markdown",
   "metadata": {
    "id": "aSU2ef1zd-gc"
   },
   "source": [
    "- We can see that the missing values counts for these columns are exactly the same."
   ]
  },
  {
   "cell_type": "markdown",
   "metadata": {
    "id": "1EMVBJvLd-ge"
   },
   "source": [
    "- Check if all the feature values are missing for the same instance. Here the same count as the missing values above will show that, all the values are misssing at the same instance.\n"
   ]
  },
  {
   "cell_type": "code",
   "execution_count": 29,
   "metadata": {
    "colab": {
     "base_uri": "https://localhost:8080/"
    },
    "id": "QFIvp2z1d-gg",
    "outputId": "c7457548-0a81-4f0c-a8bb-d16f2fc17b82"
   },
   "outputs": [
    {
     "data": {
      "text/plain": [
       "3937"
      ]
     },
     "execution_count": 29,
     "metadata": {},
     "output_type": "execute_result"
    }
   ],
   "source": [
    "data[columns_with_low_missing_value_june].isnull().all(axis=1).sum()"
   ]
  },
  {
   "cell_type": "markdown",
   "metadata": {
    "id": "V-a_YerPd-gh"
   },
   "source": [
    "- This means that the user has not made use of the telephone service during this time.\n",
    "- We can impute these columns with 0."
   ]
  },
  {
   "cell_type": "code",
   "execution_count": 30,
   "metadata": {
    "id": "mBVCMO7bd-gi"
   },
   "outputs": [],
   "source": [
    "data[columns_with_low_missing_value_june] = data[columns_with_low_missing_value_june].fillna(0)"
   ]
  },
  {
   "cell_type": "markdown",
   "metadata": {
    "id": "MqCdxtofd-gi"
   },
   "source": [
    "## Low missing values in month of July"
   ]
  },
  {
   "cell_type": "code",
   "execution_count": 31,
   "metadata": {
    "colab": {
     "base_uri": "https://localhost:8080/"
    },
    "id": "6L64N5F7d-gi",
    "outputId": "44c5c39a-4529-4dae-fe0b-d2057c06700c"
   },
   "outputs": [
    {
     "data": {
      "text/plain": [
       "Index(['onnet_mou_7', 'offnet_mou_7', 'roam_ic_mou_7', 'roam_og_mou_7',\n",
       "       'loc_og_t2t_mou_7', 'loc_og_t2m_mou_7', 'loc_og_t2f_mou_7',\n",
       "       'loc_og_t2c_mou_7', 'loc_og_mou_7', 'std_og_t2t_mou_7',\n",
       "       'std_og_t2m_mou_7', 'std_og_t2f_mou_7', 'std_og_mou_7', 'isd_og_mou_7',\n",
       "       'spl_og_mou_7', 'og_others_7', 'loc_ic_t2t_mou_7', 'loc_ic_t2m_mou_7',\n",
       "       'loc_ic_t2f_mou_7', 'loc_ic_mou_7', 'std_ic_t2t_mou_7',\n",
       "       'std_ic_t2m_mou_7', 'std_ic_t2f_mou_7', 'std_ic_mou_7', 'spl_ic_mou_7',\n",
       "       'isd_ic_mou_7', 'ic_others_7'],\n",
       "      dtype='object')"
      ]
     },
     "execution_count": 31,
     "metadata": {},
     "output_type": "execute_result"
    }
   ],
   "source": [
    "columns_with_low_missing_value = data.columns[(data.isnull().mean()>.03)]\n",
    "columns_with_low_missing_value_july = columns_with_low_missing_value[columns_with_low_missing_value.str.contains(\"^(?!date).*7\")]\n",
    "columns_with_low_missing_value_july"
   ]
  },
  {
   "cell_type": "code",
   "execution_count": 32,
   "metadata": {
    "colab": {
     "base_uri": "https://localhost:8080/"
    },
    "id": "P7eq1pVXd-gk",
    "outputId": "95dcd2ec-bd1e-40b9-d374-341d493a5309"
   },
   "outputs": [
    {
     "data": {
      "text/plain": [
       "onnet_mou_7         3859\n",
       "offnet_mou_7        3859\n",
       "roam_ic_mou_7       3859\n",
       "roam_og_mou_7       3859\n",
       "loc_og_t2t_mou_7    3859\n",
       "loc_og_t2m_mou_7    3859\n",
       "loc_og_t2f_mou_7    3859\n",
       "loc_og_t2c_mou_7    3859\n",
       "loc_og_mou_7        3859\n",
       "std_og_t2t_mou_7    3859\n",
       "std_og_t2m_mou_7    3859\n",
       "std_og_t2f_mou_7    3859\n",
       "std_og_mou_7        3859\n",
       "isd_og_mou_7        3859\n",
       "spl_og_mou_7        3859\n",
       "og_others_7         3859\n",
       "loc_ic_t2t_mou_7    3859\n",
       "loc_ic_t2m_mou_7    3859\n",
       "loc_ic_t2f_mou_7    3859\n",
       "loc_ic_mou_7        3859\n",
       "std_ic_t2t_mou_7    3859\n",
       "std_ic_t2m_mou_7    3859\n",
       "std_ic_t2f_mou_7    3859\n",
       "std_ic_mou_7        3859\n",
       "spl_ic_mou_7        3859\n",
       "isd_ic_mou_7        3859\n",
       "ic_others_7         3859\n",
       "dtype: int64"
      ]
     },
     "execution_count": 32,
     "metadata": {},
     "output_type": "execute_result"
    }
   ],
   "source": [
    "data[columns_with_low_missing_value_july].isnull().sum()"
   ]
  },
  {
   "cell_type": "markdown",
   "metadata": {
    "id": "8du-C2RId-gk"
   },
   "source": [
    " - We can see that the missing values counts for these columns are exactly the same."
   ]
  },
  {
   "cell_type": "markdown",
   "metadata": {
    "id": "EbIkodTrd-gl"
   },
   "source": [
    "- Check if all the feature values are missing for the same instance. Here the same count as the missing values above will show that, all the values are misssing at the same instance.\n"
   ]
  },
  {
   "cell_type": "code",
   "execution_count": 33,
   "metadata": {
    "colab": {
     "base_uri": "https://localhost:8080/"
    },
    "id": "w-atpu_bd-gl",
    "outputId": "c6dd9518-dc26-4972-aa3a-1d60645f0306"
   },
   "outputs": [
    {
     "data": {
      "text/plain": [
       "3859"
      ]
     },
     "execution_count": 33,
     "metadata": {},
     "output_type": "execute_result"
    }
   ],
   "source": [
    "data[columns_with_low_missing_value_july].isnull().all(axis=1).sum()"
   ]
  },
  {
   "cell_type": "markdown",
   "metadata": {
    "id": "_nJ1_H9rd-gm"
   },
   "source": [
    "- This means that the user has not made use of the telephone service during this time.\n",
    "- We can impute these columns with 0."
   ]
  },
  {
   "cell_type": "code",
   "execution_count": 34,
   "metadata": {
    "id": "gVb9-EoAd-gm"
   },
   "outputs": [],
   "source": [
    "data[columns_with_low_missing_value_july] = data[columns_with_low_missing_value_july].fillna(0)"
   ]
  },
  {
   "cell_type": "markdown",
   "metadata": {
    "id": "gg7CkGjhd-gm"
   },
   "source": [
    "## Low missing values in month of August"
   ]
  },
  {
   "cell_type": "code",
   "execution_count": 35,
   "metadata": {
    "colab": {
     "base_uri": "https://localhost:8080/"
    },
    "id": "5kXOeOqLd-gm",
    "outputId": "bca43ce1-d01c-4f2b-89a1-689897bc4dd5"
   },
   "outputs": [
    {
     "data": {
      "text/plain": [
       "Index(['onnet_mou_8', 'offnet_mou_8', 'roam_ic_mou_8', 'roam_og_mou_8',\n",
       "       'loc_og_t2t_mou_8', 'loc_og_t2m_mou_8', 'loc_og_t2f_mou_8',\n",
       "       'loc_og_t2c_mou_8', 'loc_og_mou_8', 'std_og_t2t_mou_8',\n",
       "       'std_og_t2m_mou_8', 'std_og_t2f_mou_8', 'std_og_mou_8', 'isd_og_mou_8',\n",
       "       'spl_og_mou_8', 'og_others_8', 'loc_ic_t2t_mou_8', 'loc_ic_t2m_mou_8',\n",
       "       'loc_ic_t2f_mou_8', 'loc_ic_mou_8', 'std_ic_t2t_mou_8',\n",
       "       'std_ic_t2m_mou_8', 'std_ic_t2f_mou_8', 'std_ic_mou_8', 'spl_ic_mou_8',\n",
       "       'isd_ic_mou_8', 'ic_others_8'],\n",
       "      dtype='object')"
      ]
     },
     "execution_count": 35,
     "metadata": {},
     "output_type": "execute_result"
    }
   ],
   "source": [
    "columns_with_low_missing_value = data.columns[(data.isnull().mean()>.05)]\n",
    "columns_with_low_missing_value_aug = columns_with_low_missing_value[columns_with_low_missing_value.str.contains(\"^(?!date).*8\")]\n",
    "columns_with_low_missing_value_aug"
   ]
  },
  {
   "cell_type": "code",
   "execution_count": 36,
   "metadata": {
    "colab": {
     "base_uri": "https://localhost:8080/"
    },
    "id": "uuBbWHh3d-go",
    "outputId": "fca047c6-b488-4f26-c29f-3a62be33d509"
   },
   "outputs": [
    {
     "data": {
      "text/plain": [
       "onnet_mou_8         5378\n",
       "offnet_mou_8        5378\n",
       "roam_ic_mou_8       5378\n",
       "roam_og_mou_8       5378\n",
       "loc_og_t2t_mou_8    5378\n",
       "loc_og_t2m_mou_8    5378\n",
       "loc_og_t2f_mou_8    5378\n",
       "loc_og_t2c_mou_8    5378\n",
       "loc_og_mou_8        5378\n",
       "std_og_t2t_mou_8    5378\n",
       "std_og_t2m_mou_8    5378\n",
       "std_og_t2f_mou_8    5378\n",
       "std_og_mou_8        5378\n",
       "isd_og_mou_8        5378\n",
       "spl_og_mou_8        5378\n",
       "og_others_8         5378\n",
       "loc_ic_t2t_mou_8    5378\n",
       "loc_ic_t2m_mou_8    5378\n",
       "loc_ic_t2f_mou_8    5378\n",
       "loc_ic_mou_8        5378\n",
       "std_ic_t2t_mou_8    5378\n",
       "std_ic_t2m_mou_8    5378\n",
       "std_ic_t2f_mou_8    5378\n",
       "std_ic_mou_8        5378\n",
       "spl_ic_mou_8        5378\n",
       "isd_ic_mou_8        5378\n",
       "ic_others_8         5378\n",
       "dtype: int64"
      ]
     },
     "execution_count": 36,
     "metadata": {},
     "output_type": "execute_result"
    }
   ],
   "source": [
    "data[columns_with_low_missing_value_aug].isnull().sum()"
   ]
  },
  {
   "cell_type": "markdown",
   "metadata": {
    "id": "s6Ig1bKZd-go"
   },
   "source": [
    "- We can see that the missing values counts for these columns are exactly the same."
   ]
  },
  {
   "cell_type": "markdown",
   "metadata": {
    "id": "KkYt8ZVfd-go"
   },
   "source": [
    "- Check if all the feature values are missing for the same instance. Here the same count as the missing values above will show that, all the values are misssing at the same instance.\n"
   ]
  },
  {
   "cell_type": "code",
   "execution_count": 37,
   "metadata": {
    "colab": {
     "base_uri": "https://localhost:8080/"
    },
    "id": "iuoQRmJpd-gp",
    "outputId": "c452fc80-bc0e-4f90-f3f7-d5d3e53c2309"
   },
   "outputs": [
    {
     "data": {
      "text/plain": [
       "5378"
      ]
     },
     "execution_count": 37,
     "metadata": {},
     "output_type": "execute_result"
    }
   ],
   "source": [
    "data[columns_with_low_missing_value_aug].isnull().all(axis=1).sum()"
   ]
  },
  {
   "cell_type": "markdown",
   "metadata": {
    "id": "_xPm-xRDd-gp"
   },
   "source": [
    "- This means that the user has not made use of the telephone service during this time.\n",
    "- We can impute these columns with 0."
   ]
  },
  {
   "cell_type": "code",
   "execution_count": 38,
   "metadata": {
    "id": "I4JKWKAld-gq"
   },
   "outputs": [],
   "source": [
    "data[columns_with_low_missing_value_aug] = data[columns_with_low_missing_value_aug].fillna(0)"
   ]
  },
  {
   "cell_type": "markdown",
   "metadata": {
    "id": "a1oF90Fjd-gq"
   },
   "source": [
    "## Low missing values in month of Sept"
   ]
  },
  {
   "cell_type": "code",
   "execution_count": 39,
   "metadata": {
    "colab": {
     "base_uri": "https://localhost:8080/"
    },
    "id": "CJo3Flopd-g0",
    "outputId": "0e99ca08-14c9-4cd4-82ac-1c2ee42856d9"
   },
   "outputs": [
    {
     "data": {
      "text/plain": [
       "Index(['onnet_mou_9', 'offnet_mou_9', 'roam_ic_mou_9', 'roam_og_mou_9',\n",
       "       'loc_og_t2t_mou_9', 'loc_og_t2m_mou_9', 'loc_og_t2f_mou_9',\n",
       "       'loc_og_t2c_mou_9', 'loc_og_mou_9', 'std_og_t2t_mou_9',\n",
       "       'std_og_t2m_mou_9', 'std_og_t2f_mou_9', 'std_og_mou_9', 'isd_og_mou_9',\n",
       "       'spl_og_mou_9', 'og_others_9', 'loc_ic_t2t_mou_9', 'loc_ic_t2m_mou_9',\n",
       "       'loc_ic_t2f_mou_9', 'loc_ic_mou_9', 'std_ic_t2t_mou_9',\n",
       "       'std_ic_t2m_mou_9', 'std_ic_t2f_mou_9', 'std_ic_mou_9', 'spl_ic_mou_9',\n",
       "       'isd_ic_mou_9', 'ic_others_9'],\n",
       "      dtype='object')"
      ]
     },
     "execution_count": 39,
     "metadata": {},
     "output_type": "execute_result"
    }
   ],
   "source": [
    "columns_with_low_missing_value = data.columns[(data.isnull().mean()>.05)]\n",
    "columns_with_low_missing_value_sept = columns_with_low_missing_value[columns_with_low_missing_value.str.contains(\"^(?!date).*9\")]\n",
    "columns_with_low_missing_value_sept"
   ]
  },
  {
   "cell_type": "code",
   "execution_count": 40,
   "metadata": {
    "colab": {
     "base_uri": "https://localhost:8080/"
    },
    "id": "0gvQr72wd-g1",
    "outputId": "8c4d0d0b-81d7-4113-bee3-37135e4b45f8"
   },
   "outputs": [
    {
     "data": {
      "text/plain": [
       "onnet_mou_9         7745\n",
       "offnet_mou_9        7745\n",
       "roam_ic_mou_9       7745\n",
       "roam_og_mou_9       7745\n",
       "loc_og_t2t_mou_9    7745\n",
       "loc_og_t2m_mou_9    7745\n",
       "loc_og_t2f_mou_9    7745\n",
       "loc_og_t2c_mou_9    7745\n",
       "loc_og_mou_9        7745\n",
       "std_og_t2t_mou_9    7745\n",
       "std_og_t2m_mou_9    7745\n",
       "std_og_t2f_mou_9    7745\n",
       "std_og_mou_9        7745\n",
       "isd_og_mou_9        7745\n",
       "spl_og_mou_9        7745\n",
       "og_others_9         7745\n",
       "loc_ic_t2t_mou_9    7745\n",
       "loc_ic_t2m_mou_9    7745\n",
       "loc_ic_t2f_mou_9    7745\n",
       "loc_ic_mou_9        7745\n",
       "std_ic_t2t_mou_9    7745\n",
       "std_ic_t2m_mou_9    7745\n",
       "std_ic_t2f_mou_9    7745\n",
       "std_ic_mou_9        7745\n",
       "spl_ic_mou_9        7745\n",
       "isd_ic_mou_9        7745\n",
       "ic_others_9         7745\n",
       "dtype: int64"
      ]
     },
     "execution_count": 40,
     "metadata": {},
     "output_type": "execute_result"
    }
   ],
   "source": [
    "data[columns_with_low_missing_value_sept].isnull().sum()"
   ]
  },
  {
   "cell_type": "markdown",
   "metadata": {
    "id": "Akkix4Oqd-g1"
   },
   "source": [
    "- We can see that the missing values counts for these columns are exactly the same."
   ]
  },
  {
   "cell_type": "markdown",
   "metadata": {
    "id": "3zWv71NZd-g2"
   },
   "source": [
    "- Check if all the feature values are missing for the same instance. Here the same count as the missing values above will show that, all the values are misssing at the same instance.\n"
   ]
  },
  {
   "cell_type": "code",
   "execution_count": 41,
   "metadata": {
    "colab": {
     "base_uri": "https://localhost:8080/"
    },
    "id": "rfsB3FQ-d-g3",
    "outputId": "7d613305-c961-43a3-e62a-1c4805132efd"
   },
   "outputs": [
    {
     "data": {
      "text/plain": [
       "7745"
      ]
     },
     "execution_count": 41,
     "metadata": {},
     "output_type": "execute_result"
    }
   ],
   "source": [
    "data[columns_with_low_missing_value_sept].isnull().all(axis=1).sum()"
   ]
  },
  {
   "cell_type": "markdown",
   "metadata": {
    "id": "ZGIrCqd1d-g3"
   },
   "source": [
    "- This means that the user has not made use of the telephone service during this time.\n",
    "- We can impute these columns with 0."
   ]
  },
  {
   "cell_type": "code",
   "execution_count": 42,
   "metadata": {
    "id": "btnX862zd-g3"
   },
   "outputs": [],
   "source": [
    "data[columns_with_low_missing_value_sept] = data[columns_with_low_missing_value_sept].fillna(0)"
   ]
  },
  {
   "cell_type": "code",
   "execution_count": 43,
   "metadata": {
    "colab": {
     "base_uri": "https://localhost:8080/"
    },
    "id": "n0GO1zYWd-g3",
    "outputId": "c52b634a-7c0c-4259-b0a7-f270de0bcfb2"
   },
   "outputs": [
    {
     "data": {
      "text/plain": [
       "date_of_last_rech_data_6    0.748467\n",
       "date_of_last_rech_data_7    0.744287\n",
       "date_of_last_rech_data_9    0.740777\n",
       "date_of_last_rech_data_8    0.736607\n",
       "date_of_last_rech_9         0.047600\n",
       "date_of_last_rech_8         0.036220\n",
       "date_of_last_rech_7         0.017670\n",
       "date_of_last_rech_6         0.016070\n",
       "og_others_6                 0.000000\n",
       "total_og_mou_8              0.000000\n",
       "total_og_mou_7              0.000000\n",
       "total_og_mou_6              0.000000\n",
       "og_others_9                 0.000000\n",
       "og_others_8                 0.000000\n",
       "og_others_7                 0.000000\n",
       "sep_vbc_3g                  0.000000\n",
       "spl_og_mou_9                0.000000\n",
       "std_og_mou_7                0.000000\n",
       "spl_og_mou_8                0.000000\n",
       "spl_og_mou_7                0.000000\n",
       "spl_og_mou_6                0.000000\n",
       "isd_og_mou_9                0.000000\n",
       "isd_og_mou_8                0.000000\n",
       "isd_og_mou_7                0.000000\n",
       "isd_og_mou_6                0.000000\n",
       "std_og_mou_9                0.000000\n",
       "total_og_mou_9              0.000000\n",
       "loc_ic_t2t_mou_6            0.000000\n",
       "loc_ic_t2t_mou_7            0.000000\n",
       "loc_ic_t2t_mou_8            0.000000\n",
       "std_ic_t2f_mou_7            0.000000\n",
       "std_ic_t2f_mou_6            0.000000\n",
       "std_ic_t2m_mou_9            0.000000\n",
       "std_ic_t2m_mou_8            0.000000\n",
       "std_ic_t2m_mou_7            0.000000\n",
       "std_ic_t2m_mou_6            0.000000\n",
       "std_ic_t2t_mou_9            0.000000\n",
       "std_ic_t2t_mou_8            0.000000\n",
       "std_ic_t2t_mou_7            0.000000\n",
       "std_ic_t2t_mou_6            0.000000\n",
       "loc_ic_mou_9                0.000000\n",
       "loc_ic_mou_8                0.000000\n",
       "loc_ic_mou_7                0.000000\n",
       "loc_ic_mou_6                0.000000\n",
       "loc_ic_t2f_mou_9            0.000000\n",
       "loc_ic_t2f_mou_8            0.000000\n",
       "loc_ic_t2f_mou_7            0.000000\n",
       "loc_ic_t2f_mou_6            0.000000\n",
       "loc_ic_t2m_mou_9            0.000000\n",
       "loc_ic_t2m_mou_8            0.000000\n",
       "loc_ic_t2m_mou_7            0.000000\n",
       "loc_ic_t2m_mou_6            0.000000\n",
       "loc_ic_t2t_mou_9            0.000000\n",
       "std_og_mou_8                0.000000\n",
       "std_og_mou_6                0.000000\n",
       "std_ic_t2f_mou_9            0.000000\n",
       "roam_ic_mou_6               0.000000\n",
       "loc_og_t2t_mou_9            0.000000\n",
       "loc_og_t2t_mou_8            0.000000\n",
       "loc_og_t2t_mou_7            0.000000\n",
       "loc_og_t2t_mou_6            0.000000\n",
       "roam_og_mou_9               0.000000\n",
       "roam_og_mou_8               0.000000\n",
       "roam_og_mou_7               0.000000\n",
       "roam_og_mou_6               0.000000\n",
       "roam_ic_mou_9               0.000000\n",
       "roam_ic_mou_8               0.000000\n",
       "roam_ic_mou_7               0.000000\n",
       "offnet_mou_9                0.000000\n",
       "std_og_t2f_mou_9            0.000000\n",
       "offnet_mou_8                0.000000\n",
       "offnet_mou_7                0.000000\n",
       "offnet_mou_6                0.000000\n",
       "onnet_mou_9                 0.000000\n",
       "onnet_mou_8                 0.000000\n",
       "onnet_mou_7                 0.000000\n",
       "onnet_mou_6                 0.000000\n",
       "arpu_9                      0.000000\n",
       "arpu_8                      0.000000\n",
       "arpu_7                      0.000000\n",
       "arpu_6                      0.000000\n",
       "loc_og_t2m_mou_6            0.000000\n",
       "loc_og_t2m_mou_7            0.000000\n",
       "loc_og_t2m_mou_8            0.000000\n",
       "loc_og_t2m_mou_9            0.000000\n",
       "std_og_t2f_mou_8            0.000000\n",
       "std_og_t2f_mou_7            0.000000\n",
       "std_og_t2f_mou_6            0.000000\n",
       "std_og_t2m_mou_9            0.000000\n",
       "std_og_t2m_mou_8            0.000000\n",
       "std_og_t2m_mou_7            0.000000\n",
       "std_og_t2m_mou_6            0.000000\n",
       "std_og_t2t_mou_9            0.000000\n",
       "std_og_t2t_mou_8            0.000000\n",
       "std_og_t2t_mou_7            0.000000\n",
       "std_og_t2t_mou_6            0.000000\n",
       "loc_og_mou_9                0.000000\n",
       "loc_og_mou_8                0.000000\n",
       "loc_og_mou_7                0.000000\n",
       "loc_og_mou_6                0.000000\n",
       "loc_og_t2c_mou_9            0.000000\n",
       "loc_og_t2c_mou_8            0.000000\n",
       "loc_og_t2c_mou_7            0.000000\n",
       "loc_og_t2c_mou_6            0.000000\n",
       "loc_og_t2f_mou_9            0.000000\n",
       "loc_og_t2f_mou_8            0.000000\n",
       "loc_og_t2f_mou_7            0.000000\n",
       "loc_og_t2f_mou_6            0.000000\n",
       "std_ic_t2f_mou_8            0.000000\n",
       "std_ic_mou_9                0.000000\n",
       "std_ic_mou_6                0.000000\n",
       "vol_3g_mb_9                 0.000000\n",
       "night_pck_user_7            0.000000\n",
       "night_pck_user_6            0.000000\n",
       "arpu_2g_9                   0.000000\n",
       "arpu_2g_8                   0.000000\n",
       "arpu_2g_7                   0.000000\n",
       "arpu_2g_6                   0.000000\n",
       "arpu_3g_9                   0.000000\n",
       "arpu_3g_8                   0.000000\n",
       "arpu_3g_7                   0.000000\n",
       "arpu_3g_6                   0.000000\n",
       "vol_3g_mb_8                 0.000000\n",
       "std_ic_mou_7                0.000000\n",
       "vol_3g_mb_7                 0.000000\n",
       "vol_3g_mb_6                 0.000000\n",
       "vol_2g_mb_9                 0.000000\n",
       "vol_2g_mb_8                 0.000000\n",
       "vol_2g_mb_7                 0.000000\n",
       "vol_2g_mb_6                 0.000000\n",
       "av_rech_amt_data_9          0.000000\n",
       "av_rech_amt_data_8          0.000000\n",
       "av_rech_amt_data_7          0.000000\n",
       "av_rech_amt_data_6          0.000000\n",
       "night_pck_user_8            0.000000\n",
       "night_pck_user_9            0.000000\n",
       "monthly_2g_6                0.000000\n",
       "monthly_2g_7                0.000000\n",
       "jul_vbc_3g                  0.000000\n",
       "aug_vbc_3g                  0.000000\n",
       "aon                         0.000000\n",
       "fb_user_9                   0.000000\n",
       "fb_user_8                   0.000000\n",
       "fb_user_7                   0.000000\n",
       "fb_user_6                   0.000000\n",
       "sachet_3g_9                 0.000000\n",
       "sachet_3g_8                 0.000000\n",
       "sachet_3g_7                 0.000000\n",
       "sachet_3g_6                 0.000000\n",
       "monthly_3g_9                0.000000\n",
       "monthly_3g_8                0.000000\n",
       "monthly_3g_7                0.000000\n",
       "monthly_3g_6                0.000000\n",
       "sachet_2g_9                 0.000000\n",
       "sachet_2g_8                 0.000000\n",
       "sachet_2g_7                 0.000000\n",
       "sachet_2g_6                 0.000000\n",
       "monthly_2g_9                0.000000\n",
       "monthly_2g_8                0.000000\n",
       "count_rech_3g_9             0.000000\n",
       "count_rech_3g_8             0.000000\n",
       "count_rech_3g_7             0.000000\n",
       "total_rech_amt_6            0.000000\n",
       "total_rech_num_8            0.000000\n",
       "total_rech_num_7            0.000000\n",
       "total_rech_num_6            0.000000\n",
       "ic_others_9                 0.000000\n",
       "ic_others_8                 0.000000\n",
       "ic_others_7                 0.000000\n",
       "ic_others_6                 0.000000\n",
       "isd_ic_mou_9                0.000000\n",
       "isd_ic_mou_8                0.000000\n",
       "isd_ic_mou_7                0.000000\n",
       "isd_ic_mou_6                0.000000\n",
       "spl_ic_mou_9                0.000000\n",
       "spl_ic_mou_8                0.000000\n",
       "spl_ic_mou_7                0.000000\n",
       "spl_ic_mou_6                0.000000\n",
       "total_ic_mou_9              0.000000\n",
       "total_ic_mou_8              0.000000\n",
       "total_ic_mou_7              0.000000\n",
       "total_ic_mou_6              0.000000\n",
       "jun_vbc_3g                  0.000000\n",
       "std_ic_mou_8                0.000000\n",
       "total_rech_num_9            0.000000\n",
       "total_rech_amt_7            0.000000\n",
       "count_rech_3g_6             0.000000\n",
       "total_rech_amt_8            0.000000\n",
       "count_rech_2g_9             0.000000\n",
       "count_rech_2g_8             0.000000\n",
       "count_rech_2g_7             0.000000\n",
       "count_rech_2g_6             0.000000\n",
       "max_rech_data_9             0.000000\n",
       "max_rech_data_8             0.000000\n",
       "max_rech_data_7             0.000000\n",
       "max_rech_data_6             0.000000\n",
       "total_rech_data_9           0.000000\n",
       "total_rech_data_8           0.000000\n",
       "total_rech_data_7           0.000000\n",
       "total_rech_data_6           0.000000\n",
       "last_day_rch_amt_9          0.000000\n",
       "last_day_rch_amt_8          0.000000\n",
       "last_day_rch_amt_7          0.000000\n",
       "last_day_rch_amt_6          0.000000\n",
       "max_rech_amt_9              0.000000\n",
       "max_rech_amt_8              0.000000\n",
       "max_rech_amt_7              0.000000\n",
       "max_rech_amt_6              0.000000\n",
       "total_rech_amt_9            0.000000\n",
       "mobile_number               0.000000\n",
       "dtype: float64"
      ]
     },
     "execution_count": 43,
     "metadata": {},
     "output_type": "execute_result"
    }
   ],
   "source": [
    "data.isnull().mean().sort_values(ascending = False)"
   ]
  },
  {
   "cell_type": "markdown",
   "metadata": {
    "id": "32iH2a-id-g4"
   },
   "source": [
    "- We cannot impute date directly with any value, but we can transform into on oe before date. Which means that, the last recharge was done on or before this particular date. So we can impute the missing values with the first days of the month, which signifies that missing dates means that the recharge was done before the first day of that particular month."
   ]
  },
  {
   "cell_type": "markdown",
   "metadata": {
    "id": "ODD58w85d-g5"
   },
   "source": [
    "## Filtering High value Customers"
   ]
  },
  {
   "cell_type": "code",
   "execution_count": 44,
   "metadata": {
    "colab": {
     "base_uri": "https://localhost:8080/"
    },
    "id": "irnjlKWLd-g5",
    "outputId": "1f95f0e9-aa70-4eeb-bcf1-ada24b0176d4"
   },
   "outputs": [
    {
     "data": {
      "text/plain": [
       "Index(['arpu_6', 'onnet_mou_6', 'offnet_mou_6', 'roam_ic_mou_6',\n",
       "       'roam_og_mou_6', 'loc_og_t2t_mou_6', 'loc_og_t2m_mou_6',\n",
       "       'loc_og_t2f_mou_6', 'loc_og_t2c_mou_6', 'loc_og_mou_6',\n",
       "       'std_og_t2t_mou_6', 'std_og_t2m_mou_6', 'std_og_t2f_mou_6',\n",
       "       'std_og_mou_6', 'isd_og_mou_6', 'spl_og_mou_6', 'og_others_6',\n",
       "       'total_og_mou_6', 'loc_ic_t2t_mou_6', 'loc_ic_t2m_mou_6',\n",
       "       'loc_ic_t2f_mou_6', 'loc_ic_mou_6', 'std_ic_t2t_mou_6',\n",
       "       'std_ic_t2m_mou_6', 'std_ic_t2f_mou_6', 'std_ic_mou_6',\n",
       "       'total_ic_mou_6', 'spl_ic_mou_6', 'isd_ic_mou_6', 'ic_others_6',\n",
       "       'total_rech_num_6', 'total_rech_amt_6', 'max_rech_amt_6',\n",
       "       'date_of_last_rech_6', 'last_day_rch_amt_6', 'date_of_last_rech_data_6',\n",
       "       'total_rech_data_6', 'max_rech_data_6', 'count_rech_2g_6',\n",
       "       'count_rech_3g_6', 'av_rech_amt_data_6', 'vol_2g_mb_6', 'vol_3g_mb_6',\n",
       "       'arpu_3g_6', 'arpu_2g_6', 'night_pck_user_6', 'monthly_2g_6',\n",
       "       'sachet_2g_6', 'monthly_3g_6', 'sachet_3g_6', 'fb_user_6'],\n",
       "      dtype='object')"
      ]
     },
     "execution_count": 44,
     "metadata": {},
     "output_type": "execute_result"
    }
   ],
   "source": [
    "data.columns[data.columns.str.contains(\"6\")]"
   ]
  },
  {
   "cell_type": "code",
   "execution_count": 45,
   "metadata": {
    "id": "dDrdlfcsd-g6"
   },
   "outputs": [],
   "source": [
    "total_rech_amt_data_6 = data['total_rech_data_6'] * data['av_rech_amt_data_6']\n",
    "total_rech_amt_data_7 = data['total_rech_data_7'] * data['av_rech_amt_data_7']\n",
    "rech_amt_6 = total_rech_amt_data_6 + data['total_rech_amt_6']\n",
    "rech_amt_7 = total_rech_amt_data_7 + data['total_rech_amt_7']\n",
    "av_rech_amt_good_phase = (rech_amt_6 + rech_amt_7)/2"
   ]
  },
  {
   "cell_type": "code",
   "execution_count": 46,
   "metadata": {
    "id": "_DDnxVDid-g6"
   },
   "outputs": [],
   "source": [
    "thresh = av_rech_amt_good_phase.quantile(0.7)\n",
    "data_hvc = data.loc[av_rech_amt_good_phase>thresh,:]\n",
    "data_hvc.reset_index(inplace = True)"
   ]
  },
  {
   "cell_type": "markdown",
   "metadata": {
    "id": "y0VlWRXbd-g6"
   },
   "source": [
    "## Derive Churn customers based on usage"
   ]
  },
  {
   "cell_type": "code",
   "execution_count": 47,
   "metadata": {
    "id": "ykfGtCOGd-g7"
   },
   "outputs": [],
   "source": [
    "data_hvc[\"churn\"] = 0\n",
    "data_hvc[\"churn\"][data_hvc[['total_ic_mou_9','total_og_mou_9','vol_2g_mb_9','vol_3g_mb_9']].sum(axis = 1)== 0]  = 1"
   ]
  },
  {
   "cell_type": "code",
   "execution_count": 48,
   "metadata": {
    "colab": {
     "base_uri": "https://localhost:8080/"
    },
    "id": "6_rsmZlkd-g7",
    "outputId": "9b7bc90c-9f31-4006-fc91-344570b430da"
   },
   "outputs": [
    {
     "data": {
      "text/plain": [
       "0        1\n",
       "1        1\n",
       "2        0\n",
       "3        0\n",
       "4        0\n",
       "        ..\n",
       "29948    0\n",
       "29949    0\n",
       "29950    0\n",
       "29951    0\n",
       "29952    0\n",
       "Name: churn, Length: 29953, dtype: int64"
      ]
     },
     "execution_count": 48,
     "metadata": {},
     "output_type": "execute_result"
    }
   ],
   "source": [
    "data_hvc['churn']"
   ]
  },
  {
   "cell_type": "code",
   "execution_count": 49,
   "metadata": {
    "colab": {
     "base_uri": "https://localhost:8080/"
    },
    "id": "LLb0g2hNd-g7",
    "outputId": "f060ac83-b6f5-4dee-dbd4-65429c23b176"
   },
   "outputs": [
    {
     "data": {
      "text/plain": [
       "0    0.918773\n",
       "1    0.081227\n",
       "Name: churn, dtype: float64"
      ]
     },
     "execution_count": 49,
     "metadata": {},
     "output_type": "execute_result"
    }
   ],
   "source": [
    "data_hvc['churn'].value_counts(normalize = True)"
   ]
  },
  {
   "cell_type": "markdown",
   "metadata": {
    "id": "Nc8Bp-9Zhe9k"
   },
   "source": [
    "- The above values show that the churn data is highly imbalanced."
   ]
  },
  {
   "cell_type": "code",
   "execution_count": 50,
   "metadata": {
    "id": "yljxpP6Ld-g8"
   },
   "outputs": [],
   "source": [
    "data_hvc = data_hvc.loc[:,~data_hvc.columns.str.contains(\"9\")]"
   ]
  },
  {
   "cell_type": "code",
   "execution_count": 51,
   "metadata": {
    "id": "mZcmnM9Pd-g8"
   },
   "outputs": [],
   "source": [
    "for mnth in ('678'):\n",
    "    data_hvc['last_rech_data_'+mnth]  = 1\n",
    "    data_hvc['last_rech_data_'+mnth][data_hvc['date_of_last_rech_data_'+mnth].isnull()] = 0\n",
    "    data_hvc.drop(columns=['date_of_last_rech_data_'+mnth],inplace = True)"
   ]
  },
  {
   "cell_type": "code",
   "execution_count": 52,
   "metadata": {
    "id": "Qy3QugM2d-g8"
   },
   "outputs": [],
   "source": [
    "for mnth in ('678'):\n",
    "    data_hvc['last_rech_'+mnth]  = 1\n",
    "    data_hvc['last_rech_'+mnth][data_hvc['date_of_last_rech_'+mnth].isnull()] = 0\n",
    "    data_hvc.drop(columns=['date_of_last_rech_'+mnth],inplace = True)"
   ]
  },
  {
   "cell_type": "markdown",
   "metadata": {
    "id": "wqtX3LVqd-g8"
   },
   "source": [
    "## EDA"
   ]
  },
  {
   "cell_type": "code",
   "execution_count": 53,
   "metadata": {
    "colab": {
     "base_uri": "https://localhost:8080/",
     "height": 441
    },
    "id": "nae-aGiqd-g8",
    "outputId": "836dd0ad-f6a0-483d-db17-0bce43ba8601"
   },
   "outputs": [
    {
     "data": {
      "image/png": "[encoded data removed]",
      "text/plain": [
       "<Figure size 550x440 with 1 Axes>"
      ]
     },
     "metadata": {
      "needs_background": "light"
     },
     "output_type": "display_data"
    }
   ],
   "source": [
    "plt.figure(figsize=(5,4),dpi = 110)\n",
    "plt.title(\"Churn Class Imbalance\")\n",
    "sns.countplot(data_hvc.churn)\n",
    "plt.show()"
   ]
  },
  {
   "cell_type": "markdown",
   "metadata": {
    "id": "kTgxjSFavcbF"
   },
   "source": [
    "- The churn count observed in the above count plot is very less.\n",
    "- This also shows that the churn class is highly imbalanced.\n",
    "\n"
   ]
  },
  {
   "cell_type": "markdown",
   "metadata": {
    "id": "SCt_h3gZ77k5"
   },
   "source": [
    "**Creating variable \"*categorical_column*\" consisting of categorical features only.**"
   ]
  },
  {
   "cell_type": "code",
   "execution_count": 54,
   "metadata": {
    "colab": {
     "base_uri": "https://localhost:8080/"
    },
    "id": "yXG7hQdtd-g9",
    "outputId": "37dfe428-24cb-4204-c7b5-46ffb2dda539"
   },
   "outputs": [
    {
     "data": {
      "text/plain": [
       "last_rech_8           2    \n",
       "night_pck_user_8      2    \n",
       "night_pck_user_7      2    \n",
       "night_pck_user_6      2    \n",
       "fb_user_8             2    \n",
       "last_rech_7           2    \n",
       "fb_user_6             2    \n",
       "churn                 2    \n",
       "fb_user_7             2    \n",
       "last_rech_data_7      2    \n",
       "last_rech_data_8      2    \n",
       "last_rech_6           2    \n",
       "last_rech_data_6      2    \n",
       "monthly_2g_6          5    \n",
       "monthly_2g_8          6    \n",
       "monthly_2g_7          6    \n",
       "monthly_3g_8          12   \n",
       "monthly_3g_6          12   \n",
       "monthly_3g_7          15   \n",
       "count_rech_3g_6       25   \n",
       "sachet_3g_6           25   \n",
       "sachet_3g_7           27   \n",
       "count_rech_3g_7       28   \n",
       "count_rech_3g_8       29   \n",
       "sachet_3g_8           29   \n",
       "count_rech_2g_6       31   \n",
       "sachet_2g_6           31   \n",
       "count_rech_2g_8       34   \n",
       "sachet_2g_8           34   \n",
       "sachet_2g_7           35   \n",
       "count_rech_2g_7       36   \n",
       "total_rech_data_6     38   \n",
       "total_rech_data_7     43   \n",
       "total_rech_data_8     47   \n",
       "max_rech_data_6       48   \n",
       "max_rech_data_7       49   \n",
       "max_rech_data_8       49   \n",
       "spl_ic_mou_6          78   \n",
       "spl_ic_mou_8          80   \n",
       "spl_ic_mou_7          92   \n",
       "total_rech_num_8      96   \n",
       "total_rech_num_7      101  \n",
       "total_rech_num_6      102  \n",
       "og_others_7           115  \n",
       "og_others_8           131  \n",
       "last_day_rch_amt_7    152  \n",
       "last_day_rch_amt_6    156  \n",
       "max_rech_amt_7        161  \n",
       "max_rech_amt_6        172  \n",
       "last_day_rch_amt_8    181  \n",
       "max_rech_amt_8        182  \n",
       "og_others_6           841  \n",
       "av_rech_amt_data_6    871  \n",
       "isd_og_mou_8          886  \n",
       "av_rech_amt_data_8    907  \n",
       "av_rech_amt_data_7    937  \n",
       "isd_og_mou_6          1031 \n",
       "isd_og_mou_7          1035 \n",
       "ic_others_6           1206 \n",
       "ic_others_8           1249 \n",
       "ic_others_7           1360 \n",
       "std_og_t2f_mou_8      1517 \n",
       "std_og_t2f_mou_7      1598 \n",
       "std_og_t2f_mou_6      1656 \n",
       "loc_og_t2c_mou_6      1682 \n",
       "loc_og_t2c_mou_8      1720 \n",
       "loc_og_t2c_mou_7      1763 \n",
       "std_ic_t2f_mou_8      1891 \n",
       "std_ic_t2f_mou_6      1959 \n",
       "std_ic_t2f_mou_7      2019 \n",
       "total_rech_amt_6      2298 \n",
       "total_rech_amt_8      2304 \n",
       "total_rech_amt_7      2316 \n",
       "sep_vbc_3g            2634 \n",
       "loc_og_t2f_mou_8      2988 \n",
       "spl_og_mou_6          3049 \n",
       "loc_og_t2f_mou_6      3089 \n",
       "loc_og_t2f_mou_7      3097 \n",
       "spl_og_mou_8          3189 \n",
       "isd_ic_mou_6          3282 \n",
       "aon                   3294 \n",
       "spl_og_mou_7          3315 \n",
       "isd_ic_mou_8          3357 \n",
       "roam_ic_mou_7         3381 \n",
       "roam_ic_mou_8         3431 \n",
       "isd_ic_mou_7          3488 \n",
       "roam_og_mou_7         3988 \n",
       "roam_og_mou_8         3996 \n",
       "roam_ic_mou_6         4045 \n",
       "std_ic_t2t_mou_8      4261 \n",
       "std_ic_t2t_mou_6      4395 \n",
       "std_ic_t2t_mou_7      4469 \n",
       "loc_ic_t2f_mou_8      4652 \n",
       "roam_og_mou_6         4742 \n",
       "loc_ic_t2f_mou_6      4750 \n",
       "arpu_2g_8             4773 \n",
       "loc_ic_t2f_mou_7      4816 \n",
       "arpu_2g_7             5416 \n",
       "arpu_2g_6             5776 \n",
       "arpu_3g_8             6007 \n",
       "std_ic_t2m_mou_8      6112 \n",
       "arpu_3g_7             6211 \n",
       "arpu_3g_6             6329 \n",
       "std_ic_t2m_mou_6      6351 \n",
       "std_ic_t2m_mou_7      6451 \n",
       "std_ic_mou_8          7685 \n",
       "std_ic_mou_6          8015 \n",
       "std_ic_mou_7          8136 \n",
       "jun_vbc_3g            9283 \n",
       "loc_ic_t2t_mou_8      9359 \n",
       "loc_ic_t2t_mou_6      9504 \n",
       "loc_ic_t2t_mou_7      9656 \n",
       "aug_vbc_3g            9835 \n",
       "jul_vbc_3g            10002\n",
       "loc_og_t2t_mou_8      10056\n",
       "vol_3g_mb_8           10110\n",
       "vol_2g_mb_8           10197\n",
       "std_og_t2t_mou_8      10243\n",
       "vol_3g_mb_6           10255\n",
       "loc_og_t2t_mou_7      10388\n",
       "loc_og_t2t_mou_6      10416\n",
       "vol_3g_mb_7           10830\n",
       "std_og_t2t_mou_6      11085\n",
       "vol_2g_mb_7           11220\n",
       "std_og_t2t_mou_7      11238\n",
       "vol_2g_mb_6           11303\n",
       "std_og_t2m_mou_8      11790\n",
       "std_og_t2m_mou_6      12857\n",
       "std_og_t2m_mou_7      12872\n",
       "std_og_mou_8          14701\n",
       "loc_ic_t2m_mou_8      15110\n",
       "loc_og_t2m_mou_8      15118\n",
       "loc_ic_t2m_mou_6      15450\n",
       "loc_ic_t2m_mou_7      15537\n",
       "loc_og_t2m_mou_6      15607\n",
       "loc_og_t2m_mou_7      15659\n",
       "onnet_mou_8           15854\n",
       "std_og_mou_6          15899\n",
       "std_og_mou_7          15938\n",
       "onnet_mou_6           16872\n",
       "onnet_mou_7           16973\n",
       "loc_og_mou_8          17565\n",
       "loc_ic_mou_8          18048\n",
       "loc_og_mou_6          18334\n",
       "loc_ic_mou_7          18483\n",
       "loc_og_mou_7          18493\n",
       "loc_ic_mou_6          18504\n",
       "total_ic_mou_8        19565\n",
       "total_ic_mou_6        20099\n",
       "offnet_mou_8          20140\n",
       "total_ic_mou_7        20143\n",
       "offnet_mou_6          21198\n",
       "offnet_mou_7          21233\n",
       "total_og_mou_8        22287\n",
       "total_og_mou_6        23492\n",
       "total_og_mou_7        23653\n",
       "arpu_8                28035\n",
       "arpu_6                29029\n",
       "arpu_7                29040\n",
       "mobile_number         29953\n",
       "index                 29953\n",
       "dtype: int64"
      ]
     },
     "execution_count": 54,
     "metadata": {},
     "output_type": "execute_result"
    }
   ],
   "source": [
    "data_hvc.nunique().sort_values()"
   ]
  },
  {
   "cell_type": "code",
   "execution_count": 55,
   "metadata": {
    "id": "cRy9QTFLd-g-"
   },
   "outputs": [],
   "source": [
    "categorical_columns = data_hvc.columns[data_hvc.nunique()==2]"
   ]
  },
  {
   "cell_type": "code",
   "execution_count": 56,
   "metadata": {
    "id": "a2RVM-hfd-g_"
   },
   "outputs": [],
   "source": [
    "categorical_columns = categorical_columns.drop(\"churn\")"
   ]
  },
  {
   "cell_type": "code",
   "execution_count": 57,
   "metadata": {
    "colab": {
     "base_uri": "https://localhost:8080/",
     "height": 1000
    },
    "id": "I-OERA6md-hA",
    "outputId": "a982a2f4-dba8-42f7-e6f2-9949f69674b1"
   },
   "outputs": [
    {
     "data": {
      "image/png": "[encoded data removed]",
      "text/plain": [
       "<Figure size 2600x2600 with 12 Axes>"
      ]
     },
     "metadata": {
      "needs_background": "light"
     },
     "output_type": "display_data"
    }
   ],
   "source": [
    "plt.figure(figsize=(20,20), dpi = 130)\n",
    "plt.suptitle(\"Categorical features vs Churn Rate\", fontsize = 25, y = .93)\n",
    "for i,feature in enumerate(categorical_columns,start = 1):\n",
    "    plt.subplot(4,4,i)\n",
    "    sns.countplot(data= data_hvc, x= feature, hue=\"churn\")\n",
    "plt.show()"
   ]
  },
  {
   "cell_type": "markdown",
   "metadata": {
    "id": "wqcaLfydxTY_"
   },
   "source": [
    "\n",
    "\n",
    "The above count plots shows that\n",
    "\n",
    "1. The count of Customers not using night pack is very high therefore the churn rate is very low here.\n",
    "2. Fb_users count is more than those not using and hence the churn rate of fb_users then those of not using is also quite less.\n",
    "3. Those who recharge in * month donot tend to churn.\n",
    "\n",
    "\n",
    "\n",
    "\n",
    "\n"
   ]
  },
  {
   "cell_type": "markdown",
   "metadata": {
    "id": "mTqwivouxUZS"
   },
   "source": [
    "**Dropping the mobile number column since , no significant information is achieved from users mobile number.**"
   ]
  },
  {
   "cell_type": "code",
   "execution_count": 58,
   "metadata": {
    "id": "XYRPWXprd-hB"
   },
   "outputs": [],
   "source": [
    "data_hvc.drop(columns = [\"mobile_number\",\"index\"], inplace = True)"
   ]
  },
  {
   "cell_type": "markdown",
   "metadata": {
    "id": "36JmYVKlPSJP"
   },
   "source": [
    "**Creating variable named \"continuous_columns\" consisting of all the columns with continuous variable**\n"
   ]
  },
  {
   "cell_type": "code",
   "execution_count": 59,
   "metadata": {
    "id": "Bp77HZShd-hB"
   },
   "outputs": [],
   "source": [
    "continuous_columns = [col for col in data_hvc.columns if col not in categorical_columns]"
   ]
  },
  {
   "cell_type": "markdown",
   "metadata": {
    "id": "MM-qYrb4QZqr"
   },
   "source": [
    "**Looking for negatively correlated features**"
   ]
  },
  {
   "cell_type": "code",
   "execution_count": 60,
   "metadata": {
    "colab": {
     "base_uri": "https://localhost:8080/"
    },
    "id": "YuPtouyRd-hD",
    "outputId": "bd11d892-3e5e-4531-afd6-1100b1ee6bfa"
   },
   "outputs": [
    {
     "data": {
      "text/plain": [
       "arpu_6                0.067672\n",
       "arpu_7               -0.012397\n",
       "arpu_8               -0.160612\n",
       "onnet_mou_6           0.069677\n",
       "onnet_mou_7           0.015350\n",
       "onnet_mou_8          -0.078340\n",
       "offnet_mou_6          0.060459\n",
       "offnet_mou_7          0.002409\n",
       "offnet_mou_8         -0.121284\n",
       "roam_ic_mou_6         0.050295\n",
       "roam_ic_mou_7         0.067961\n",
       "roam_ic_mou_8         0.059204\n",
       "roam_og_mou_6         0.064872\n",
       "roam_og_mou_7         0.092864\n",
       "roam_og_mou_8         0.067642\n",
       "loc_og_t2t_mou_6     -0.032140\n",
       "loc_og_t2t_mou_7     -0.050585\n",
       "loc_og_t2t_mou_8     -0.081087\n",
       "loc_og_t2m_mou_6     -0.059883\n",
       "loc_og_t2m_mou_7     -0.091299\n",
       "loc_og_t2m_mou_8     -0.152244\n",
       "loc_og_t2f_mou_6     -0.036589\n",
       "loc_og_t2f_mou_7     -0.046423\n",
       "loc_og_t2f_mou_8     -0.069867\n",
       "loc_og_t2c_mou_6     -0.000059\n",
       "loc_og_t2c_mou_7      0.003756\n",
       "loc_og_t2c_mou_8     -0.033363\n",
       "loc_og_mou_6         -0.061164\n",
       "loc_og_mou_7         -0.093876\n",
       "loc_og_mou_8         -0.152392\n",
       "std_og_t2t_mou_6      0.089884\n",
       "std_og_t2t_mou_7      0.037631\n",
       "std_og_t2t_mou_8     -0.051607\n",
       "std_og_t2m_mou_6      0.097613\n",
       "std_og_t2m_mou_7      0.044305\n",
       "std_og_t2m_mou_8     -0.058899\n",
       "std_og_t2f_mou_6     -0.014403\n",
       "std_og_t2f_mou_7     -0.016967\n",
       "std_og_t2f_mou_8     -0.034124\n",
       "std_og_mou_6          0.124954\n",
       "std_og_mou_7          0.054457\n",
       "std_og_mou_8         -0.073873\n",
       "isd_og_mou_6          0.014094\n",
       "isd_og_mou_7          0.006719\n",
       "isd_og_mou_8         -0.004715\n",
       "spl_og_mou_6          0.023169\n",
       "spl_og_mou_7          0.003256\n",
       "spl_og_mou_8         -0.056466\n",
       "og_others_6           0.010220\n",
       "og_others_7           0.013792\n",
       "og_others_8           0.007790\n",
       "total_og_mou_6        0.078157\n",
       "total_og_mou_7        0.000017\n",
       "total_og_mou_8       -0.145208\n",
       "loc_ic_t2t_mou_6     -0.033259\n",
       "loc_ic_t2t_mou_7     -0.055044\n",
       "loc_ic_t2t_mou_8     -0.094271\n",
       "loc_ic_t2m_mou_6     -0.055878\n",
       "loc_ic_t2m_mou_7     -0.090344\n",
       "loc_ic_t2m_mou_8     -0.160949\n",
       "loc_ic_t2f_mou_6     -0.045654\n",
       "loc_ic_t2f_mou_7     -0.053259\n",
       "loc_ic_t2f_mou_8     -0.081385\n",
       "loc_ic_mou_6         -0.062842\n",
       "loc_ic_mou_7         -0.099851\n",
       "loc_ic_mou_8         -0.172209\n",
       "std_ic_t2t_mou_6      0.023822\n",
       "std_ic_t2t_mou_7      0.001388\n",
       "std_ic_t2t_mou_8     -0.038775\n",
       "std_ic_t2m_mou_6      0.006246\n",
       "std_ic_t2m_mou_7     -0.012360\n",
       "std_ic_t2m_mou_8     -0.053344\n",
       "std_ic_t2f_mou_6     -0.015767\n",
       "std_ic_t2f_mou_7     -0.018795\n",
       "std_ic_t2f_mou_8     -0.031167\n",
       "std_ic_mou_6          0.015732\n",
       "std_ic_mou_7         -0.010512\n",
       "std_ic_mou_8         -0.064112\n",
       "total_ic_mou_6       -0.047565\n",
       "total_ic_mou_7       -0.090378\n",
       "total_ic_mou_8       -0.178178\n",
       "spl_ic_mou_6         -0.000576\n",
       "spl_ic_mou_7         -0.006026\n",
       "spl_ic_mou_8         -0.057727\n",
       "isd_ic_mou_6          0.003998\n",
       "isd_ic_mou_7         -0.005850\n",
       "isd_ic_mou_8         -0.029800\n",
       "ic_others_6          -0.005170\n",
       "ic_others_7          -0.012321\n",
       "ic_others_8          -0.019174\n",
       "total_rech_num_6      0.064259\n",
       "total_rech_num_7     -0.010065\n",
       "total_rech_num_8     -0.151888\n",
       "total_rech_amt_6      0.066852\n",
       "total_rech_amt_7     -0.017079\n",
       "total_rech_amt_8     -0.160967\n",
       "max_rech_amt_6        0.004798\n",
       "max_rech_amt_7       -0.020684\n",
       "max_rech_amt_8       -0.128148\n",
       "last_day_rch_amt_6    0.007457\n",
       "last_day_rch_amt_7   -0.045480\n",
       "last_day_rch_amt_8   -0.116054\n",
       "total_rech_data_6    -0.010580\n",
       "total_rech_data_7    -0.051764\n",
       "total_rech_data_8    -0.119694\n",
       "max_rech_data_6      -0.033225\n",
       "max_rech_data_7      -0.068682\n",
       "max_rech_data_8      -0.135276\n",
       "count_rech_2g_6      -0.013744\n",
       "count_rech_2g_7      -0.048789\n",
       "count_rech_2g_8      -0.107218\n",
       "count_rech_3g_6       0.003798\n",
       "count_rech_3g_7      -0.021060\n",
       "count_rech_3g_8      -0.067799\n",
       "av_rech_amt_data_6   -0.030432\n",
       "av_rech_amt_data_7   -0.071975\n",
       "av_rech_amt_data_8   -0.137253\n",
       "vol_2g_mb_6          -0.012970\n",
       "vol_2g_mb_7          -0.031467\n",
       "vol_2g_mb_8          -0.078495\n",
       "vol_3g_mb_6          -0.020359\n",
       "vol_3g_mb_7          -0.048861\n",
       "vol_3g_mb_8          -0.085414\n",
       "arpu_3g_6            -0.002112\n",
       "arpu_3g_7            -0.030614\n",
       "arpu_3g_8            -0.078079\n",
       "arpu_2g_6             0.000122\n",
       "arpu_2g_7            -0.028821\n",
       "arpu_2g_8            -0.079271\n",
       "monthly_2g_6         -0.055201\n",
       "monthly_2g_7         -0.073982\n",
       "monthly_2g_8         -0.095478\n",
       "sachet_2g_6          -0.004144\n",
       "sachet_2g_7          -0.036441\n",
       "sachet_2g_8          -0.091980\n",
       "monthly_3g_6         -0.009675\n",
       "monthly_3g_7         -0.038360\n",
       "monthly_3g_8         -0.074172\n",
       "sachet_3g_6           0.010518\n",
       "sachet_3g_7          -0.001593\n",
       "sachet_3g_8          -0.037034\n",
       "aon                  -0.108271\n",
       "aug_vbc_3g           -0.090612\n",
       "jul_vbc_3g           -0.055425\n",
       "jun_vbc_3g           -0.030854\n",
       "sep_vbc_3g           -0.043763\n",
       "churn                 1.000000\n",
       "Name: churn, dtype: float64"
      ]
     },
     "execution_count": 60,
     "metadata": {},
     "output_type": "execute_result"
    }
   ],
   "source": [
    "data_hvc[continuous_columns].corr().churn"
   ]
  },
  {
   "cell_type": "code",
   "execution_count": 61,
   "metadata": {
    "id": "aYhf_Ared-hE"
   },
   "outputs": [],
   "source": [
    "top_neg_corr_features = data_hvc[continuous_columns].corr().churn.sort_values()[:15]"
   ]
  },
  {
   "cell_type": "code",
   "execution_count": 62,
   "metadata": {
    "colab": {
     "base_uri": "https://localhost:8080/",
     "height": 1000
    },
    "id": "fWcJNY8Bd-hF",
    "outputId": "6020e805-8193-4aeb-dd53-00ee240ea66b"
   },
   "outputs": [
    {
     "data": {
      "image/png": "[encoded data removed]",
      "text/plain": [
       "<Figure size 2600x2600 with 15 Axes>"
      ]
     },
     "metadata": {
      "needs_background": "light"
     },
     "output_type": "display_data"
    }
   ],
   "source": [
    "plt.figure(figsize=(20,20), dpi = 130)\n",
    "plt.suptitle(\"Negatively correlated features vs Churn Rate\", fontsize = 25, y = .93)\n",
    "for i,feature in enumerate(top_neg_corr_features.index ,start = 1):\n",
    "    plt.subplot(5,3,i)\n",
    "    sns.boxplot(data= data_hvc, y= feature, x=\"churn\", showfliers=False)\n",
    "plt.show()"
   ]
  },
  {
   "cell_type": "markdown",
   "metadata": {
    "id": "sA1tluJW5r3s"
   },
   "source": [
    "- The boxplot of negatively correlated show  that,there hes been a significant reduction in the mean of the churn customers in the month of august which is the action phase."
   ]
  },
  {
   "cell_type": "code",
   "execution_count": 63,
   "metadata": {
    "colab": {
     "base_uri": "https://localhost:8080/",
     "height": 556
    },
    "id": "0O3z4zpSd-hF",
    "outputId": "455b4c24-535f-4186-a6e3-42f37792f956"
   },
   "outputs": [
    {
     "data": {
      "image/png": "[encoded data removed]",
      "text/plain": [
       "<Figure size 2600x910 with 3 Axes>"
      ]
     },
     "metadata": {
      "needs_background": "light"
     },
     "output_type": "display_data"
    }
   ],
   "source": [
    "plt.figure(figsize=(20,7), dpi = 130)\n",
    "plt.suptitle(\"Negatively correlated features vs Churn Rate\", fontsize = 13, y = .93)\n",
    "for i,feature in enumerate([\"arpu_6\",\"arpu_7\",\"arpu_8\"] ,start = 1):\n",
    "    plt.subplot(1,3,i)\n",
    "    sns.boxplot(data= data_hvc, y= feature, x=\"churn\", showfliers=False)\n",
    "plt.show()"
   ]
  },
  {
   "cell_type": "markdown",
   "metadata": {
    "id": "q_JolOujmgae"
   },
   "source": [
    "- Considering the arpu_6 feature we observe that the mean for churn is reducing with the increasing month and at the 8th month i.e in the action month the churn has significantly reduced."
   ]
  },
  {
   "cell_type": "markdown",
   "metadata": {
    "id": "q0a5DxE0d-hF"
   },
   "source": [
    "# **Data preparation for model building**"
   ]
  },
  {
   "cell_type": "code",
   "execution_count": 64,
   "metadata": {
    "id": "fYwZvsv1d-hF"
   },
   "outputs": [],
   "source": [
    "X = data_hvc.copy()\n",
    "y = X.pop(\"churn\")"
   ]
  },
  {
   "cell_type": "markdown",
   "metadata": {
    "id": "dwbm-Ce8htMg"
   },
   "source": [
    "###Handling imbalanced class\n",
    "- We had observed that the churn data is very low as compared to not churn, which shows our class is highly imbalanced , therefore in order to take care of the same we make use of* SMOTE *technique."
   ]
  },
  {
   "cell_type": "markdown",
   "metadata": {
    "id": "sSyJpj9Jh5xn"
   },
   "source": [
    "### SMOTE\n"
   ]
  },
  {
   "cell_type": "code",
   "execution_count": 208,
   "metadata": {},
   "outputs": [
    {
     "name": "stdout",
     "output_type": "stream",
     "text": [
      "Requirement already satisfied: imbalanced-learn in c:\\users\\aishwarya\\anaconda3\\lib\\site-packages (0.9.0)\n",
      "Requirement already satisfied: joblib>=0.11 in c:\\users\\aishwarya\\anaconda3\\lib\\site-packages (from imbalanced-learn) (1.1.0)\n",
      "Requirement already satisfied: scikit-learn>=1.0.1 in c:\\users\\aishwarya\\anaconda3\\lib\\site-packages (from imbalanced-learn) (1.0.1)\n",
      "Requirement already satisfied: numpy>=1.14.6 in c:\\users\\aishwarya\\anaconda3\\lib\\site-packages (from imbalanced-learn) (1.21.2)\n",
      "Requirement already satisfied: threadpoolctl>=2.0.0 in c:\\users\\aishwarya\\anaconda3\\lib\\site-packages (from imbalanced-learn) (2.2.0)\n",
      "Requirement already satisfied: scipy>=1.1.0 in c:\\users\\aishwarya\\anaconda3\\lib\\site-packages (from imbalanced-learn) (1.7.1)\n",
      "Note: you may need to restart the kernel to use updated packages.\n"
     ]
    }
   ],
   "source": [
    "pip install imbalanced-learn\n"
   ]
  },
  {
   "cell_type": "code",
   "execution_count": 213,
   "metadata": {},
   "outputs": [
    {
     "name": "stdout",
     "output_type": "stream",
     "text": [
      "0.9.0\n"
     ]
    }
   ],
   "source": [
    "import imblearn\n",
    "print(imblearn.__version__)"
   ]
  },
  {
   "cell_type": "code",
   "execution_count": 214,
   "metadata": {
    "id": "IQpzmOmmd-hH"
   },
   "outputs": [],
   "source": [
    "\n",
    "\n",
    "from imblearn.over_sampling import SMOTE"
   ]
  },
  {
   "cell_type": "code",
   "execution_count": 215,
   "metadata": {
    "id": "ZQ-r6_BWd-hI"
   },
   "outputs": [],
   "source": [
    "smote = SMOTE(random_state = 0)"
   ]
  },
  {
   "cell_type": "code",
   "execution_count": 216,
   "metadata": {
    "id": "Pl2Mjn2td-hI"
   },
   "outputs": [],
   "source": [
    "X_balanced, y_balanced = smote.fit_resample(X,y)"
   ]
  },
  {
   "cell_type": "code",
   "execution_count": 217,
   "metadata": {
    "colab": {
     "base_uri": "https://localhost:8080/"
    },
    "id": "QjMwsP-Ld-hJ",
    "outputId": "74330f67-94bd-46fa-f0a9-3c88ac358ef8"
   },
   "outputs": [
    {
     "data": {
      "text/plain": [
       "1    27520\n",
       "0    27520\n",
       "Name: churn, dtype: int64"
      ]
     },
     "execution_count": 217,
     "metadata": {},
     "output_type": "execute_result"
    }
   ],
   "source": [
    "pd.Series(y_balanced).value_counts()"
   ]
  },
  {
   "cell_type": "markdown",
   "metadata": {
    "id": "X4bWhXCCiwO2"
   },
   "source": [
    "- The equal values above shows that the imbalanced data is handled well."
   ]
  },
  {
   "cell_type": "markdown",
   "metadata": {
    "id": "moYvZ0OxjABK"
   },
   "source": [
    "### Train-Test-Split"
   ]
  },
  {
   "cell_type": "code",
   "execution_count": 218,
   "metadata": {
    "id": "hqq_4rdhd-hL"
   },
   "outputs": [],
   "source": [
    "from sklearn.model_selection import train_test_split"
   ]
  },
  {
   "cell_type": "code",
   "execution_count": 219,
   "metadata": {
    "id": "_W8hbTB2d-hL"
   },
   "outputs": [],
   "source": [
    "X_train_balanced,X_test_balanced, y_train_balanced, y_test_balanced = train_test_split(X_balanced,y_balanced,test_size = 0.20, stratify = y_balanced,random_state = 100)"
   ]
  },
  {
   "cell_type": "markdown",
   "metadata": {
    "id": "EioqpfB-jHst"
   },
   "source": [
    "### Scaling"
   ]
  },
  {
   "cell_type": "code",
   "execution_count": 220,
   "metadata": {
    "id": "zJWz0Gnzd-hM"
   },
   "outputs": [],
   "source": [
    "from sklearn.preprocessing import MinMaxScaler"
   ]
  },
  {
   "cell_type": "code",
   "execution_count": 221,
   "metadata": {
    "id": "fSZJJDCod-hM"
   },
   "outputs": [],
   "source": [
    "scaler = MinMaxScaler()\n",
    "X_train_balanced_scaled = scaler.fit_transform(X_train_balanced)\n",
    "X_test_balanced_scaled = scaler.transform(X_test_balanced)"
   ]
  },
  {
   "cell_type": "markdown",
   "metadata": {
    "id": "N61b0ArQjTJV"
   },
   "source": [
    "### Dimensionality reduction using PCA"
   ]
  },
  {
   "cell_type": "code",
   "execution_count": 222,
   "metadata": {
    "id": "hIAWN9Agd-hM"
   },
   "outputs": [],
   "source": [
    "from sklearn.decomposition import PCA"
   ]
  },
  {
   "cell_type": "code",
   "execution_count": 223,
   "metadata": {
    "id": "AGBKqLYhd-hM"
   },
   "outputs": [],
   "source": [
    "pca = PCA(random_state=110)\n",
    "pca.fit(X_train_balanced_scaled)\n",
    "var_rat_cumsum = np.cumsum(pca.explained_variance_ratio_)"
   ]
  },
  {
   "cell_type": "code",
   "execution_count": 224,
   "metadata": {
    "colab": {
     "base_uri": "https://localhost:8080/",
     "height": 265
    },
    "id": "BY7g9n7Ud-hN",
    "outputId": "61fbdb39-c58c-41df-e10c-191d092f667b"
   },
   "outputs": [
    {
     "data": {
      "image/png": "[encoded data removed]",
      "text/plain": [
       "<Figure size 432x288 with 1 Axes>"
      ]
     },
     "metadata": {
      "needs_background": "light"
     },
     "output_type": "display_data"
    }
   ],
   "source": [
    "plt.plot(var_rat_cumsum)\n",
    "plt.show()"
   ]
  },
  {
   "cell_type": "markdown",
   "metadata": {
    "id": "Yq7_Lb0AjiPr"
   },
   "source": [
    "- From above PCA plot is it been observed that after 15 the variance ratio seems to be flatten."
   ]
  },
  {
   "cell_type": "code",
   "execution_count": 225,
   "metadata": {
    "colab": {
     "base_uri": "https://localhost:8080/"
    },
    "id": "JFG5lgRTd-hN",
    "outputId": "01f8503d-a326-424d-98ee-284985b5c257"
   },
   "outputs": [
    {
     "data": {
      "text/plain": [
       "0.9755068879803552"
      ]
     },
     "execution_count": 225,
     "metadata": {},
     "output_type": "execute_result"
    }
   ],
   "source": [
    "var_rat_cumsum[30-1]"
   ]
  },
  {
   "cell_type": "markdown",
   "metadata": {
    "id": "vYHDOXo6kPhV"
   },
   "source": [
    "- By considering 30 PCAs we get 97% of accuracy so we can further go with these PCAs."
   ]
  },
  {
   "cell_type": "code",
   "execution_count": 226,
   "metadata": {
    "id": "m_rnC9tId-hO"
   },
   "outputs": [],
   "source": [
    "pca = PCA(30,random_state=110)\n",
    "X_train_pca = pca.fit_transform(X_train_balanced_scaled)\n",
    "X_test_pca = pca.transform(X_test_balanced_scaled)"
   ]
  },
  {
   "cell_type": "code",
   "execution_count": 227,
   "metadata": {
    "id": "q4q4vgK2d-hO"
   },
   "outputs": [],
   "source": [
    "cols  = [\"PC\"+str(i) for i in range(30)]\n",
    "X_train_pca = pd.DataFrame(X_train_pca, columns = cols)\n",
    "X_test_pca = pd.DataFrame(X_test_pca, columns = cols)"
   ]
  },
  {
   "cell_type": "markdown",
   "metadata": {
    "id": "B-7y62ztkpHz"
   },
   "source": [
    "# **Model Building (I)** -using PCA\n",
    "1. Random Forest\n",
    "2. XG Boost\n",
    "3. KNN- Clustering"
   ]
  },
  {
   "cell_type": "markdown",
   "metadata": {
    "id": "Ij9b_ZVND8-c"
   },
   "source": [
    "###  Random Forest"
   ]
  },
  {
   "cell_type": "code",
   "execution_count": 228,
   "metadata": {
    "id": "fz6R9k4od-hP"
   },
   "outputs": [],
   "source": [
    "from sklearn.ensemble import RandomForestClassifier\n",
    "from sklearn.model_selection import GridSearchCV"
   ]
  },
  {
   "cell_type": "code",
   "execution_count": 229,
   "metadata": {
    "id": "DJi_-Idzd-hP"
   },
   "outputs": [],
   "source": [
    "params = {\n",
    "    'max_depth': [5, 10, 20],\n",
    "    'min_samples_leaf': [5, 10, 20],\n",
    "    'max_features': [2, 3, 4, 5, 6, 8, 10],\n",
    "    'n_estimators': [100]\n",
    "}"
   ]
  },
  {
   "cell_type": "code",
   "execution_count": 230,
   "metadata": {
    "id": "WXZkzgP1d-hP"
   },
   "outputs": [],
   "source": [
    "rfc = RandomForestClassifier()\n",
    "gscv = GridSearchCV(estimator = rfc, cv= 5, param_grid = params,n_jobs = -1,scoring = 'recall')"
   ]
  },
  {
   "cell_type": "code",
   "execution_count": null,
   "metadata": {
    "colab": {
     "background_save": true
    },
    "id": "J72xy6PFd-hQ",
    "outputId": "ba99cc05-0592-49c5-e438-1738dab367b5"
   },
   "outputs": [],
   "source": [
    "gscv.fit(X_train_pca,y_train_balanced)"
   ]
  },
  {
   "cell_type": "code",
   "execution_count": null,
   "metadata": {
    "colab": {
     "background_save": true
    },
    "id": "JHt8eo03DtQN"
   },
   "outputs": [],
   "source": [
    "from sklearn.metrics import classification_report\n",
    "from sklearn.metrics import roc_auc_score"
   ]
  },
  {
   "cell_type": "code",
   "execution_count": null,
   "metadata": {
    "colab": {
     "background_save": true
    },
    "id": "6fJSNVK6Dmm1",
    "outputId": "ee773ad5-a6b0-4242-c878-3de584733f8a"
   },
   "outputs": [],
   "source": [
    "rfc_best = gscv.best_estimator_\n",
    "\n",
    "y_test_predict = rfc_best.predict(X_test_pca)\n",
    "\n",
    "print(classification_report(y_test_balanced,y_test_predict))\n",
    "print(\"ROC AUC Score :\",roc_auc_score(y_test_balanced,y_test_predict))"
   ]
  },
  {
   "cell_type": "markdown",
   "metadata": {
    "id": "izPLtTL4aSI-"
   },
   "source": [
    "- **Random Forest model has**\n",
    "1. Recall of 94%\n",
    "2. ROC of 93%"
   ]
  },
  {
   "cell_type": "markdown",
   "metadata": {
    "id": "Dt-3zfVnD0Yv"
   },
   "source": [
    "###  XGBoost"
   ]
  },
  {
   "cell_type": "code",
   "execution_count": null,
   "metadata": {
    "colab": {
     "background_save": true
    },
    "id": "Ey23QmGcd-hQ"
   },
   "outputs": [],
   "source": [
    "from xgboost import XGBClassifier"
   ]
  },
  {
   "cell_type": "code",
   "execution_count": null,
   "metadata": {
    "colab": {
     "background_save": true
    },
    "id": "wKagZvXFvgYf",
    "outputId": "6ddb3ea7-10b0-4ee5-8f08-7662fa81a0d2"
   },
   "outputs": [],
   "source": [
    "xgbc = XGBClassifier()\n",
    "params = {'learning_rate': [0.1,0.2,0.3], \n",
    "            'subsample': [0.3,0.4,0.5]\n",
    "}\n",
    "gscv_xg = GridSearchCV(estimator = xgbc, cv= 5, param_grid = params,n_jobs = -1,scoring = 'recall')\n",
    "gscv_xg.fit(X_train_pca,y_train_balanced)"
   ]
  },
  {
   "cell_type": "code",
   "execution_count": null,
   "metadata": {
    "colab": {
     "background_save": true
    },
    "id": "xYvdA8dbCHBh",
    "outputId": "e50ae185-9744-4be6-f3e1-e0a591fe26ef"
   },
   "outputs": [],
   "source": [
    "gscv_xg.best_score_"
   ]
  },
  {
   "cell_type": "code",
   "execution_count": null,
   "metadata": {
    "colab": {
     "background_save": true
    },
    "id": "OGxkL9IxDUqX"
   },
   "outputs": [],
   "source": [
    "xgbc_best = gscv_xg.best_estimator_"
   ]
  },
  {
   "cell_type": "code",
   "execution_count": null,
   "metadata": {
    "colab": {
     "background_save": true
    },
    "id": "XFfFQkhTDEzJ",
    "outputId": "8dd352a1-22f9-4c61-8b8a-9f57bb2f05e0"
   },
   "outputs": [],
   "source": [
    "y_test_predict = xgbc_best.predict(X_test_pca)\n",
    "print(classification_report(y_test_balanced,y_test_predict))\n",
    "print(\"ROC AUC Score :\",roc_auc_score(y_test_balanced,y_test_predict))"
   ]
  },
  {
   "cell_type": "markdown",
   "metadata": {
    "id": "X99TTSaMbtXj"
   },
   "source": [
    " - **XG Boost model has**\n",
    "1. Best Score of 88%\n",
    "2. Recall of 88%\n",
    "3. ROC of 89%\n",
    "- learning Rate = 0.3 , Subsample = o.5\n"
   ]
  },
  {
   "cell_type": "markdown",
   "metadata": {
    "id": "rFNxPOZLDFz8"
   },
   "source": [
    "### K-Nearest Neighbor(KNN)"
   ]
  },
  {
   "cell_type": "code",
   "execution_count": null,
   "metadata": {
    "colab": {
     "background_save": true
    },
    "id": "asFIwxsmDGuN"
   },
   "outputs": [],
   "source": [
    "from sklearn.neighbors import KNeighborsClassifier"
   ]
  },
  {
   "cell_type": "code",
   "execution_count": null,
   "metadata": {
    "colab": {
     "background_save": true
    },
    "id": "X57VsCT2DG20",
    "outputId": "94b2c001-4a93-4c01-b3dd-b50a3c8d6041"
   },
   "outputs": [],
   "source": [
    "params = {'n_neighbors' : [2,3,4,5,6,7,8,9,10]}\n",
    "knn = KNeighborsClassifier()\n",
    "gscv_knn = GridSearchCV(estimator = knn, cv= 5, param_grid = params,n_jobs = -1,scoring = 'recall')\n",
    "gscv_knn.fit(X_train_pca,y_train_balanced)"
   ]
  },
  {
   "cell_type": "code",
   "execution_count": null,
   "metadata": {
    "colab": {
     "background_save": true
    },
    "id": "prakCv58DG8T",
    "outputId": "e8adacda-be33-4069-9aa7-c497c0e3dbd3"
   },
   "outputs": [],
   "source": [
    "gscv_knn.best_score_"
   ]
  },
  {
   "cell_type": "code",
   "execution_count": null,
   "metadata": {
    "colab": {
     "background_save": true
    },
    "id": "LrdWwhdjDHTe"
   },
   "outputs": [],
   "source": [
    "knn_best = gscv_knn.best_estimator_"
   ]
  },
  {
   "cell_type": "code",
   "execution_count": null,
   "metadata": {
    "colab": {
     "background_save": true
    },
    "id": "3L_L0FbcDItG",
    "outputId": "fd5ed1e1-13bf-4b83-b12e-1b4279d0d3c5"
   },
   "outputs": [],
   "source": [
    "\n",
    "y_test_predict = knn_best.predict(X_test_pca)\n",
    "print(classification_report(y_test_balanced,y_test_predict))\n",
    "print(\"ROC AUC Score :\",roc_auc_score(y_test_balanced,y_test_predict))"
   ]
  },
  {
   "cell_type": "markdown",
   "metadata": {
    "id": "zA2k88G-dmVt"
   },
   "source": [
    "- **KNN model has**\n",
    "1. Best score of 97%\n",
    "2. Recall of 98%\n",
    "3. ROC of 93%"
   ]
  },
  {
   "cell_type": "markdown",
   "metadata": {
    "id": "C6Tw6d6xdSnv"
   },
   "source": [
    "- From all the above three K-Nearest Neighbor model stands out and is hence considered to be the best model ."
   ]
  },
  {
   "cell_type": "markdown",
   "metadata": {
    "id": "sdUCXzrMLGES"
   },
   "source": [
    "#  **Model Building(II)** -Indentifying Important features"
   ]
  },
  {
   "cell_type": "markdown",
   "metadata": {
    "id": "3AQM9AqGKID7"
   },
   "source": [
    "### Random Forest Classifier"
   ]
  },
  {
   "cell_type": "code",
   "execution_count": null,
   "metadata": {
    "colab": {
     "background_save": true
    },
    "id": "MXiJjxl7KeSh"
   },
   "outputs": [],
   "source": [
    "classifier_rf = RandomForestClassifier(random_state=42, n_jobs=-1, max_depth=5, n_estimators=100, oob_score=True)"
   ]
  },
  {
   "cell_type": "code",
   "execution_count": null,
   "metadata": {
    "colab": {
     "background_save": true
    },
    "id": "tYHBQXKyMlYT",
    "outputId": "004736e6-d45d-4cfc-d88d-218ba2a89869"
   },
   "outputs": [],
   "source": [
    "classifier_rf.fit(X_train_balanced_scaled, y_train_balanced)"
   ]
  },
  {
   "cell_type": "code",
   "execution_count": null,
   "metadata": {
    "colab": {
     "background_save": true
    },
    "id": "XIPyXtd3NJy5"
   },
   "outputs": [],
   "source": [
    "imp_df = pd.DataFrame({\n",
    "    \"Varname\": X.columns,\n",
    "    \"Imp\": classifier_rf.feature_importances_\n",
    "})"
   ]
  },
  {
   "cell_type": "code",
   "execution_count": null,
   "metadata": {
    "colab": {
     "background_save": true
    },
    "id": "FwnIk3OTOZGy",
    "outputId": "e47fd57e-2e9e-4378-dcd2-9b3f7a1d8c15"
   },
   "outputs": [],
   "source": [
    "imp_df.sort_values(by=\"Imp\", ascending=False)"
   ]
  },
  {
   "cell_type": "code",
   "execution_count": null,
   "metadata": {
    "colab": {
     "background_save": true
    },
    "id": "aSKtcV1VTQKi"
   },
   "outputs": [],
   "source": []
  },
  {
   "cell_type": "markdown",
   "metadata": {
    "id": "v-V2eoMWThTr"
   },
   "source": [
    "### Top 15 Important features"
   ]
  },
  {
   "cell_type": "code",
   "execution_count": null,
   "metadata": {
    "colab": {
     "background_save": true
    },
    "id": "UgDbZl4gTLo5",
    "outputId": "a93d4cd7-40d1-42b1-ab2b-854f4fee3bd0"
   },
   "outputs": [],
   "source": [
    "Imp_feats = imp_df.sort_values(by=\"Imp\", ascending=False)[:15]\n",
    "Imp_feats"
   ]
  },
  {
   "cell_type": "markdown",
   "metadata": {
    "id": "2eyagvwffb9c"
   },
   "source": [
    "- Above are the top 15 features that influence the churn."
   ]
  },
  {
   "cell_type": "markdown",
   "metadata": {
    "id": "eacwm8G0hVJP"
   },
   "source": [
    "# **Actionable recommendations**\n",
    "\n",
    "In order to prevent customers from churning in the actionable phase following strategies are recommended.\n",
    "\n",
    "\n",
    "1. The company can provide offers on recharge  for the month of august ,as the recharge amount has decreased in this month than the last two.\n",
    "\n",
    "2. Customers using Service scheme to avail services of Facebook and similar social networking sites tend to churn less , and those who are not using tend to churn more , also the count of customers not using  these services are more in the action month, therefore company can offer these services with some less price for data  as compared to last 2 months or advanced network like 4G network to prevent customers from churning.\n",
    "\n",
    "Consider the above factors to identify the customers who are most likely to churn , \n",
    "recommendations for some common problems :\n",
    "1. **Network** : The company can work on improving network infrastructure.\n",
    "2. **Affordability** : The company can provide offers on some of the popular packs or create new affordable packs .\n",
    "3. **Service** : The company can try to get the feedback from the customers and improve its service  strategies accordingly.\n",
    "\n",
    "\n",
    "\n",
    "\n",
    "\n",
    " "
   ]
  },
  {
   "cell_type": "code",
   "execution_count": null,
   "metadata": {
    "id": "2LGUb1Jc7AP1"
   },
   "outputs": [],
   "source": []
  }
 ],
 "metadata": {
  "colab": {
   "collapsed_sections": [
    "ho8rYBzcd-fx",
    "bGImkFdcd-gL",
    "UNuePw6Rd-gT",
    "x0Tu8-bTd-gY",
    "MqCdxtofd-gi",
    "gg7CkGjhd-gm",
    "a1oF90Fjd-gq",
    "ODD58w85d-g5",
    "y0VlWRXbd-g6",
    "wqtX3LVqd-g8"
   ],
   "name": "Telecom-Churn.ipynb",
   "provenance": []
  },
  "kernelspec": {
   "display_name": "Python 3 (ipykernel)",
   "language": "python",
   "name": "python3"
  },
  "language_info": {
   "codemirror_mode": {
    "name": "ipython",
    "version": 3
   },
   "file_extension": ".py",
   "mimetype": "text/x-python",
   "name": "python",
   "nbconvert_exporter": "python",
   "pygments_lexer": "ipython3",
   "version": "3.7.11"
  }
 },
 "nbformat": 4,
 "nbformat_minor": 1
}
